{
 "cells": [
  {
   "cell_type": "code",
   "execution_count": 1,
   "id": "ddb6185e",
   "metadata": {},
   "outputs": [],
   "source": [
    "from __future__ import annotations\n",
    "\n",
    "import json\n",
    "\n",
    "from pymatgen.core import Structure\n",
    "\n",
    "from maml.models import AtomSets"
   ]
  },
  {
   "cell_type": "markdown",
   "id": "26b4a1bd",
   "metadata": {},
   "source": [
    "## Use MEGNet v1 for Ef regression"
   ]
  },
  {
   "cell_type": "code",
   "execution_count": 2,
   "id": "f5d06276",
   "metadata": {},
   "outputs": [],
   "source": [
    "with open(\"mp_ef_100.json\") as f:\n",
    "    data = json.load(f)\n",
    "\n",
    "structs = [Structure.from_dict(i) for i in data[\"structure\"]]\n",
    "ef = data[\"Ef\"]"
   ]
  },
  {
   "cell_type": "code",
   "execution_count": 3,
   "id": "154f4521",
   "metadata": {},
   "outputs": [],
   "source": [
    "from maml.describers import MEGNetSite"
   ]
  },
  {
   "cell_type": "code",
   "execution_count": 4,
   "id": "ce9dfef1",
   "metadata": {},
   "outputs": [
    {
     "name": "stderr",
     "output_type": "stream",
     "text": [
      "2021-11-05 12:35:25.477825: I tensorflow/core/platform/cpu_feature_guard.cc:142] This TensorFlow binary is optimized with oneAPI Deep Neural Network Library (oneDNN) to use the following CPU instructions in performance-critical operations:  AVX2 FMA\n",
      "To enable them in other operations, rebuild TensorFlow with the appropriate compiler flags.\n",
      "WARNING:tensorflow:From /Users/chichen/miniconda3/lib/python3.9/site-packages/tensorflow/python/ops/array_ops.py:5043: calling gather (from tensorflow.python.ops.array_ops) with validate_indices is deprecated and will be removed in a future version.\n",
      "Instructions for updating:\n",
      "The `validate_indices` argument has no effect. Indices are always validated on CPU and never validated on GPU.\n"
     ]
    }
   ],
   "source": [
    "describer = MEGNetSite(level=1)"
   ]
  },
  {
   "cell_type": "code",
   "execution_count": 5,
   "id": "d247462e",
   "metadata": {},
   "outputs": [
    {
     "name": "stderr",
     "output_type": "stream",
     "text": [
      "2021-11-05 12:35:27.320984: I tensorflow/compiler/mlir/mlir_graph_optimization_pass.cc:176] None of the MLIR Optimization Passes are enabled (registered 2)\n"
     ]
    }
   ],
   "source": [
    "features = describer.transform(structs[:80])"
   ]
  },
  {
   "cell_type": "code",
   "execution_count": 6,
   "id": "5bfa34e7",
   "metadata": {},
   "outputs": [],
   "source": [
    "model = AtomSets(\n",
    "    describer=describer,\n",
    "    input_dim=32,  # the site features have dimensions of 32\n",
    "    is_embedding=False,\n",
    "    compile_metrics=[\"mae\"],\n",
    "    loss=\"mse\",\n",
    "    is_classification=False,\n",
    ")"
   ]
  },
  {
   "cell_type": "code",
   "execution_count": 7,
   "id": "cf6b3c1f",
   "metadata": {},
   "outputs": [
    {
     "name": "stdout",
     "output_type": "stream",
     "text": [
      "Epoch 1/10\n",
      "1/1 [==============================] - 0s 487ms/step - loss: 3.2811 - mae: 1.7833\n",
      "Epoch 2/10\n",
      "1/1 [==============================] - 0s 9ms/step - loss: 2.8966 - mae: 1.6719\n",
      "Epoch 3/10\n",
      "1/1 [==============================] - 0s 10ms/step - loss: 2.5162 - mae: 1.5530\n",
      "Epoch 4/10\n",
      "1/1 [==============================] - 0s 10ms/step - loss: 2.1381 - mae: 1.4243\n",
      "Epoch 5/10\n",
      "1/1 [==============================] - 0s 10ms/step - loss: 1.7694 - mae: 1.2855\n",
      "Epoch 6/10\n",
      "1/1 [==============================] - 0s 10ms/step - loss: 1.4239 - mae: 1.1381\n",
      "Epoch 7/10\n",
      "1/1 [==============================] - 0s 10ms/step - loss: 1.1092 - mae: 0.9813\n",
      "Epoch 8/10\n",
      "1/1 [==============================] - 0s 10ms/step - loss: 0.8311 - mae: 0.8251\n",
      "Epoch 9/10\n",
      "1/1 [==============================] - 0s 10ms/step - loss: 0.6004 - mae: 0.6896\n",
      "Epoch 10/10\n",
      "1/1 [==============================] - 0s 10ms/step - loss: 0.4284 - mae: 0.5720\n"
     ]
    },
    {
     "data": {
      "text/plain": [
       "<tensorflow.python.keras.callbacks.History at 0x7fec82be05e0>"
      ]
     },
     "execution_count": 7,
     "metadata": {},
     "output_type": "execute_result"
    }
   ],
   "source": [
    "model.fit(features, ef[:80], epochs=10)"
   ]
  },
  {
   "cell_type": "code",
   "execution_count": 8,
   "id": "f8051562",
   "metadata": {},
   "outputs": [
    {
     "name": "stdout",
     "output_type": "stream",
     "text": [
      "2/2 [==============================] - 0s 2ms/step - loss: 0.6420 - mae: 0.7488\n"
     ]
    }
   ],
   "source": [
    "test_features = describer.transform(structs[80:])\n",
    "loss, metric = model.evaluate(test_features, ef[80:], True)"
   ]
  },
  {
   "cell_type": "code",
   "execution_count": 9,
   "id": "fbaf6a30",
   "metadata": {},
   "outputs": [
    {
     "name": "stdout",
     "output_type": "stream",
     "text": [
      "The MAE is 0.749 eV/atom\n"
     ]
    }
   ],
   "source": [
    "print(f\"The MAE is {metric:.3f} eV/atom\")"
   ]
  },
  {
   "cell_type": "markdown",
   "id": "9ecb6443",
   "metadata": {},
   "source": [
    "### Save and load model"
   ]
  },
  {
   "cell_type": "markdown",
   "id": "4f4b4ffc",
   "metadata": {},
   "source": [
    "Similar models can be constructed using V2 and V3 by changing `level` in the `MEGNetSite` describer."
   ]
  },
  {
   "cell_type": "code",
   "execution_count": 10,
   "id": "d23d3257",
   "metadata": {},
   "outputs": [],
   "source": [
    "model.save(\"Ef_V1_test\")"
   ]
  },
  {
   "cell_type": "markdown",
   "id": "3fc92875",
   "metadata": {},
   "source": [
    "Save entire model and load as a different model but with same parameters"
   ]
  },
  {
   "cell_type": "code",
   "execution_count": 11,
   "id": "6c8f9852",
   "metadata": {},
   "outputs": [],
   "source": [
    "model2 = AtomSets.from_dir(\"Ef_V1_test\")"
   ]
  },
  {
   "cell_type": "code",
   "execution_count": 12,
   "id": "65332929",
   "metadata": {},
   "outputs": [
    {
     "name": "stdout",
     "output_type": "stream",
     "text": [
      "2/2 [==============================] - 0s 2ms/step - loss: 0.6420 - mae: 0.7488\n"
     ]
    }
   ],
   "source": [
    "test_features = describer.transform(structs[80:])\n",
    "loss, metric = model2.evaluate(test_features, ef[80:], True)"
   ]
  },
  {
   "cell_type": "code",
   "execution_count": 13,
   "id": "bc7bcd09",
   "metadata": {},
   "outputs": [
    {
     "name": "stdout",
     "output_type": "stream",
     "text": [
      "The MAE is 0.749 eV/atom\n"
     ]
    }
   ],
   "source": [
    "print(f\"The MAE is {metric:.3f} eV/atom\")"
   ]
  },
  {
   "cell_type": "code",
   "execution_count": 17,
   "id": "af40bddf",
   "metadata": {},
   "outputs": [
    {
     "name": "stderr",
     "output_type": "stream",
     "text": [
      "WARNING:tensorflow:5 out of the last 95 calls to <function Model.make_predict_function.<locals>.predict_function at 0x7fec87613550> triggered tf.function retracing. Tracing is expensive and the excessive number of tracings could be due to (1) creating @tf.function repeatedly in a loop, (2) passing tensors with different shapes, (3) passing Python objects instead of tensors. For (1), please define your @tf.function outside of the loop. For (2), @tf.function has experimental_relax_shapes=True option that relaxes argument shapes that can avoid unnecessary retracing. For (3), please refer to https://www.tensorflow.org/guide/function#controlling_retracing and https://www.tensorflow.org/api_docs/python/tf/function for  more details.\n",
      "WARNING:tensorflow:6 out of the last 96 calls to <function Model.make_predict_function.<locals>.predict_function at 0x7fec876071f0> triggered tf.function retracing. Tracing is expensive and the excessive number of tracings could be due to (1) creating @tf.function repeatedly in a loop, (2) passing tensors with different shapes, (3) passing Python objects instead of tensors. For (1), please define your @tf.function outside of the loop. For (2), @tf.function has experimental_relax_shapes=True option that relaxes argument shapes that can avoid unnecessary retracing. For (3), please refer to https://www.tensorflow.org/guide/function#controlling_retracing and https://www.tensorflow.org/api_docs/python/tf/function for  more details.\n"
     ]
    },
    {
     "data": {
      "text/plain": [
       "(array([[2.075491 ],\n",
       "        [2.0623887],\n",
       "        [2.0264213]], dtype=float32),\n",
       " array([[2.075491 ],\n",
       "        [2.0623887],\n",
       "        [2.0264213]], dtype=float32))"
      ]
     },
     "execution_count": 17,
     "metadata": {},
     "output_type": "execute_result"
    }
   ],
   "source": [
    "model.predict_objs(structs[:3]), model2.predict_objs(structs[:3])"
   ]
  },
  {
   "cell_type": "markdown",
   "id": "06d3ba11",
   "metadata": {},
   "source": [
    "## Use structural vector and MLP for regression"
   ]
  },
  {
   "cell_type": "code",
   "execution_count": 21,
   "id": "04149300",
   "metadata": {},
   "outputs": [],
   "source": [
    "from maml.describers import MEGNetStructure\n",
    "from maml.models import MLP"
   ]
  },
  {
   "cell_type": "code",
   "execution_count": 26,
   "id": "7a23d344",
   "metadata": {},
   "outputs": [],
   "source": [
    "describer = MEGNetStructure(mode=\"final\", feature_batch=\"pandas_concat\")\n",
    "model = MLP(describer=describer, input_dim=96, compile_metrics=[\"mae\"], loss=\"mse\", is_classification=False)"
   ]
  },
  {
   "cell_type": "code",
   "execution_count": 27,
   "id": "b025c82b",
   "metadata": {},
   "outputs": [],
   "source": [
    "features = describer.transform(structs[:80])"
   ]
  },
  {
   "cell_type": "code",
   "execution_count": 28,
   "id": "e784e74d",
   "metadata": {},
   "outputs": [
    {
     "name": "stdout",
     "output_type": "stream",
     "text": [
      "Epoch 1/10\n",
      "3/3 [==============================] - 0s 1ms/step - loss: 2.5584 - mae: 1.3216\n",
      "Epoch 2/10\n",
      "3/3 [==============================] - 0s 1ms/step - loss: 1.0640 - mae: 0.8274\n",
      "Epoch 3/10\n",
      "3/3 [==============================] - 0s 1ms/step - loss: 0.8410 - mae: 0.7687\n",
      "Epoch 4/10\n",
      "3/3 [==============================] - 0s 1ms/step - loss: 0.3368 - mae: 0.4620\n",
      "Epoch 5/10\n",
      "3/3 [==============================] - 0s 1ms/step - loss: 0.4552 - mae: 0.5853\n",
      "Epoch 6/10\n",
      "3/3 [==============================] - 0s 1ms/step - loss: 0.3155 - mae: 0.4806\n",
      "Epoch 7/10\n",
      "3/3 [==============================] - 0s 1ms/step - loss: 0.1186 - mae: 0.2746\n",
      "Epoch 8/10\n",
      "3/3 [==============================] - 0s 2ms/step - loss: 0.1795 - mae: 0.3274\n",
      "Epoch 9/10\n",
      "3/3 [==============================] - 0s 1ms/step - loss: 0.1663 - mae: 0.3117\n",
      "Epoch 10/10\n",
      "3/3 [==============================] - 0s 1ms/step - loss: 0.0845 - mae: 0.2411\n"
     ]
    },
    {
     "data": {
      "text/plain": [
       "<maml.models.dl._mlp.MLP at 0x7fdae3351f40>"
      ]
     },
     "execution_count": 28,
     "metadata": {},
     "output_type": "execute_result"
    }
   ],
   "source": [
    "model.fit(features, ef[:80], epochs=10)"
   ]
  },
  {
   "cell_type": "code",
   "execution_count": 29,
   "id": "53756dfa",
   "metadata": {},
   "outputs": [
    {
     "name": "stdout",
     "output_type": "stream",
     "text": [
      "1/1 [==============================] - 0s 70ms/step - loss: 0.1682 - mae: 0.3181\n"
     ]
    }
   ],
   "source": [
    "test_features = describer.transform(structs[80:])\n",
    "loss, metric = model.evaluate(test_features, ef[80:], True)"
   ]
  },
  {
   "cell_type": "code",
   "execution_count": 30,
   "id": "4d9c8249",
   "metadata": {},
   "outputs": [
    {
     "name": "stdout",
     "output_type": "stream",
     "text": [
      "The MAE is 0.318 eV/atom\n"
     ]
    }
   ],
   "source": [
    "print(f\"The MAE is {metric:.3f} eV/atom\")"
   ]
  }
 ],
 "metadata": {
  "kernelspec": {
   "display_name": "Python 3 (ipykernel)",
   "language": "python",
   "name": "python3"
  },
  "language_info": {
   "codemirror_mode": {
    "name": "ipython",
    "version": 3
   },
   "file_extension": ".py",
   "mimetype": "text/x-python",
   "name": "python",
   "nbconvert_exporter": "python",
   "pygments_lexer": "ipython3",
   "version": "3.9.5"
  }
 },
 "nbformat": 4,
 "nbformat_minor": 5
}
