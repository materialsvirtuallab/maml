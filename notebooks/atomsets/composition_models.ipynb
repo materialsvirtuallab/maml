{
 "cells": [
  {
   "cell_type": "code",
   "execution_count": 1,
   "id": "7a028c30",
   "metadata": {},
   "outputs": [],
   "source": [
    "from __future__ import annotations\n",
    "\n",
    "import pandas as pd\n",
    "\n",
    "from maml.describers import SiteElementProperty\n",
    "from maml.models import AtomSets\n",
    "\n",
    "# the data contains the MP formation energy data\n",
    "# 100 formula - formation energy\n",
    "df = pd.read_csv(\"./mp_ef_100.csv\")"
   ]
  },
  {
   "cell_type": "markdown",
   "id": "6d833850",
   "metadata": {},
   "source": [
    "## Use MEGNet element features for MP Ef regression"
   ]
  },
  {
   "cell_type": "code",
   "execution_count": 2,
   "id": "8fedb7ff",
   "metadata": {},
   "outputs": [],
   "source": [
    "from megnet.data.crystal import get_elemental_embeddings\n",
    "from pymatgen.core import Element\n",
    "\n",
    "embeddings = get_elemental_embeddings()\n",
    "embeddings = {Element(i).Z: j for i, j in embeddings.items()}"
   ]
  },
  {
   "cell_type": "code",
   "execution_count": 3,
   "id": "bf029397",
   "metadata": {},
   "outputs": [
    {
     "name": "stderr",
     "output_type": "stream",
     "text": [
      "2021-10-28 09:11:21.677552: I tensorflow/core/platform/cpu_feature_guard.cc:142] This TensorFlow binary is optimized with oneAPI Deep Neural Network Library (oneDNN) to use the following CPU instructions in performance-critical operations:  AVX2 FMA\n",
      "To enable them in other operations, rebuild TensorFlow with the appropriate compiler flags.\n"
     ]
    }
   ],
   "source": [
    "describer = SiteElementProperty(embeddings, output_weights=True)\n",
    "model = AtomSets(\n",
    "    describer=describer,  # output weights gives element fractions\n",
    "    is_embedding=False,  # we are using the pre-trained element embeddings\n",
    "    compile_metrics=[\"mae\"],\n",
    "    loss=\"mse\",\n",
    "    is_classification=False,\n",
    ")"
   ]
  },
  {
   "cell_type": "code",
   "execution_count": 4,
   "id": "0d857ba6",
   "metadata": {},
   "outputs": [],
   "source": [
    "features = describer.transform(df[\"formula\"][:80])"
   ]
  },
  {
   "cell_type": "code",
   "execution_count": 5,
   "id": "c02f7fca",
   "metadata": {},
   "outputs": [
    {
     "name": "stderr",
     "output_type": "stream",
     "text": [
      "2021-10-28 09:11:21.883447: I tensorflow/compiler/mlir/mlir_graph_optimization_pass.cc:176] None of the MLIR Optimization Passes are enabled (registered 2)\n"
     ]
    },
    {
     "name": "stdout",
     "output_type": "stream",
     "text": [
      "Epoch 1/10\n",
      "1/1 [==============================] - 1s 541ms/step - loss: 3.4798 - mae: 1.8467\n",
      "Epoch 2/10\n",
      "1/1 [==============================] - 0s 8ms/step - loss: 3.2928 - mae: 1.7956\n",
      "Epoch 3/10\n",
      "1/1 [==============================] - 0s 9ms/step - loss: 3.1086 - mae: 1.7437\n",
      "Epoch 4/10\n",
      "1/1 [==============================] - 0s 9ms/step - loss: 2.9282 - mae: 1.6911\n",
      "Epoch 5/10\n",
      "1/1 [==============================] - 0s 8ms/step - loss: 2.7443 - mae: 1.6357\n",
      "Epoch 6/10\n",
      "1/1 [==============================] - 0s 9ms/step - loss: 2.5555 - mae: 1.5767\n",
      "Epoch 7/10\n",
      "1/1 [==============================] - 0s 8ms/step - loss: 2.3596 - mae: 1.5129\n",
      "Epoch 8/10\n",
      "1/1 [==============================] - 0s 9ms/step - loss: 2.1565 - mae: 1.4436\n",
      "Epoch 9/10\n",
      "1/1 [==============================] - 0s 9ms/step - loss: 1.9437 - mae: 1.3668\n",
      "Epoch 10/10\n",
      "1/1 [==============================] - 0s 8ms/step - loss: 1.7230 - mae: 1.2820\n"
     ]
    },
    {
     "data": {
      "text/plain": [
       "<tensorflow.python.keras.callbacks.History at 0x7f8911b25850>"
      ]
     },
     "execution_count": 5,
     "metadata": {},
     "output_type": "execute_result"
    }
   ],
   "source": [
    "model.fit(features, df[\"Ef\"][:80], epochs=10)"
   ]
  },
  {
   "cell_type": "code",
   "execution_count": 6,
   "id": "73c32d4b",
   "metadata": {},
   "outputs": [
    {
     "name": "stdout",
     "output_type": "stream",
     "text": [
      "2/2 [==============================] - 0s 2ms/step - loss: 2.0333 - mae: 1.4135\n"
     ]
    }
   ],
   "source": [
    "test_features = describer.transform(df[\"formula\"][80:])\n",
    "loss, metric = model.evaluate(test_features, df[\"Ef\"][80:], True)"
   ]
  },
  {
   "cell_type": "code",
   "execution_count": 7,
   "id": "8dacf114",
   "metadata": {},
   "outputs": [
    {
     "name": "stdout",
     "output_type": "stream",
     "text": [
      "The MAE is 1.413 eV/atom\n"
     ]
    }
   ],
   "source": [
    "print(f\"The MAE is {metric:.3f} eV/atom\")"
   ]
  },
  {
   "cell_type": "markdown",
   "id": "c32f0ce8",
   "metadata": {},
   "source": [
    "## No transfer learning for Ef regression"
   ]
  },
  {
   "cell_type": "code",
   "execution_count": 8,
   "id": "1a418673",
   "metadata": {},
   "outputs": [],
   "source": [
    "describer = SiteElementProperty(output_weights=True)\n",
    "model = AtomSets(describer=describer, is_embedding=True, compile_metrics=[\"mae\"], loss=\"mse\", is_classification=False)"
   ]
  },
  {
   "cell_type": "code",
   "execution_count": 9,
   "id": "f7434026",
   "metadata": {},
   "outputs": [
    {
     "name": "stdout",
     "output_type": "stream",
     "text": [
      "Epoch 1/10\n",
      "1/1 [==============================] - 0s 493ms/step - loss: 3.9591 - mae: 1.9700\n",
      "Epoch 2/10\n",
      "1/1 [==============================] - 0s 9ms/step - loss: 3.9043 - mae: 1.9561\n",
      "Epoch 3/10\n",
      "1/1 [==============================] - 0s 9ms/step - loss: 3.8614 - mae: 1.9451\n",
      "Epoch 4/10\n",
      "1/1 [==============================] - 0s 8ms/step - loss: 3.8193 - mae: 1.9343\n",
      "Epoch 5/10\n",
      "1/1 [==============================] - 0s 9ms/step - loss: 3.7755 - mae: 1.9229\n",
      "Epoch 6/10\n",
      "1/1 [==============================] - 0s 8ms/step - loss: 3.7284 - mae: 1.9107\n",
      "Epoch 7/10\n",
      "1/1 [==============================] - 0s 9ms/step - loss: 3.6765 - mae: 1.8970\n",
      "Epoch 8/10\n",
      "1/1 [==============================] - 0s 9ms/step - loss: 3.6190 - mae: 1.8818\n",
      "Epoch 9/10\n",
      "1/1 [==============================] - 0s 8ms/step - loss: 3.5558 - mae: 1.8650\n",
      "Epoch 10/10\n",
      "1/1 [==============================] - 0s 9ms/step - loss: 3.4863 - mae: 1.8463\n"
     ]
    },
    {
     "data": {
      "text/plain": [
       "<tensorflow.python.keras.callbacks.History at 0x7f8913278490>"
      ]
     },
     "execution_count": 9,
     "metadata": {},
     "output_type": "execute_result"
    }
   ],
   "source": [
    "features = describer.transform(df[\"formula\"][:80])\n",
    "model.fit(features, df[\"Ef\"][:80], epochs=10)"
   ]
  },
  {
   "cell_type": "code",
   "execution_count": 10,
   "id": "d99be4d1",
   "metadata": {},
   "outputs": [
    {
     "name": "stdout",
     "output_type": "stream",
     "text": [
      "2/2 [==============================] - 0s 2ms/step - loss: 3.4916 - mae: 1.8587\n"
     ]
    }
   ],
   "source": [
    "test_features = describer.transform(df[\"formula\"][80:])\n",
    "loss, metric = model.evaluate(test_features, df[\"Ef\"][80:], True)"
   ]
  },
  {
   "cell_type": "code",
   "execution_count": 11,
   "id": "233ffc39",
   "metadata": {},
   "outputs": [
    {
     "name": "stdout",
     "output_type": "stream",
     "text": [
      "The MAE is 1.859 eV/atom\n"
     ]
    }
   ],
   "source": [
    "print(f\"The MAE is {metric:.3f} eV/atom\")"
   ]
  },
  {
   "cell_type": "markdown",
   "id": "530355f1",
   "metadata": {},
   "source": [
    "## Use MEGNet element features for metallicity classification"
   ]
  },
  {
   "cell_type": "code",
   "execution_count": 16,
   "id": "204dfcc8",
   "metadata": {},
   "outputs": [],
   "source": [
    "df_metal = pd.read_csv(\"mp_is_metal_100.csv\")"
   ]
  },
  {
   "cell_type": "code",
   "execution_count": 17,
   "id": "112698cb",
   "metadata": {},
   "outputs": [
    {
     "data": {
      "text/html": [
       "<div>\n",
       "<style scoped>\n",
       "    .dataframe tbody tr th:only-of-type {\n",
       "        vertical-align: middle;\n",
       "    }\n",
       "\n",
       "    .dataframe tbody tr th {\n",
       "        vertical-align: top;\n",
       "    }\n",
       "\n",
       "    .dataframe thead th {\n",
       "        text-align: right;\n",
       "    }\n",
       "</style>\n",
       "<table border=\"1\" class=\"dataframe\">\n",
       "  <thead>\n",
       "    <tr style=\"text-align: right;\">\n",
       "      <th></th>\n",
       "      <th>formula</th>\n",
       "      <th>is_metal</th>\n",
       "    </tr>\n",
       "  </thead>\n",
       "  <tbody>\n",
       "    <tr>\n",
       "      <th>0</th>\n",
       "      <td>KMnO2</td>\n",
       "      <td>False</td>\n",
       "    </tr>\n",
       "    <tr>\n",
       "      <th>1</th>\n",
       "      <td>Cr3Ni</td>\n",
       "      <td>True</td>\n",
       "    </tr>\n",
       "    <tr>\n",
       "      <th>2</th>\n",
       "      <td>CsRbAs</td>\n",
       "      <td>True</td>\n",
       "    </tr>\n",
       "    <tr>\n",
       "      <th>3</th>\n",
       "      <td>SiSn</td>\n",
       "      <td>False</td>\n",
       "    </tr>\n",
       "    <tr>\n",
       "      <th>4</th>\n",
       "      <td>Ca3P2</td>\n",
       "      <td>False</td>\n",
       "    </tr>\n",
       "    <tr>\n",
       "      <th>...</th>\n",
       "      <td>...</td>\n",
       "      <td>...</td>\n",
       "    </tr>\n",
       "    <tr>\n",
       "      <th>95</th>\n",
       "      <td>K2RhAuF6</td>\n",
       "      <td>False</td>\n",
       "    </tr>\n",
       "    <tr>\n",
       "      <th>96</th>\n",
       "      <td>CsK2SbF6</td>\n",
       "      <td>False</td>\n",
       "    </tr>\n",
       "    <tr>\n",
       "      <th>97</th>\n",
       "      <td>K2LiTaCl6</td>\n",
       "      <td>True</td>\n",
       "    </tr>\n",
       "    <tr>\n",
       "      <th>98</th>\n",
       "      <td>K2NaTaCl6</td>\n",
       "      <td>True</td>\n",
       "    </tr>\n",
       "    <tr>\n",
       "      <th>99</th>\n",
       "      <td>BaNiO3</td>\n",
       "      <td>True</td>\n",
       "    </tr>\n",
       "  </tbody>\n",
       "</table>\n",
       "<p>100 rows × 2 columns</p>\n",
       "</div>"
      ],
      "text/plain": [
       "      formula  is_metal\n",
       "0       KMnO2     False\n",
       "1       Cr3Ni      True\n",
       "2      CsRbAs      True\n",
       "3        SiSn     False\n",
       "4       Ca3P2     False\n",
       "..        ...       ...\n",
       "95   K2RhAuF6     False\n",
       "96   CsK2SbF6     False\n",
       "97  K2LiTaCl6      True\n",
       "98  K2NaTaCl6      True\n",
       "99     BaNiO3      True\n",
       "\n",
       "[100 rows x 2 columns]"
      ]
     },
     "execution_count": 17,
     "metadata": {},
     "output_type": "execute_result"
    }
   ],
   "source": [
    "df_metal"
   ]
  },
  {
   "cell_type": "code",
   "execution_count": 18,
   "id": "02cf9dbf",
   "metadata": {},
   "outputs": [],
   "source": [
    "describer = SiteElementProperty(embeddings, output_weights=True)\n",
    "model = AtomSets(\n",
    "    describer=describer,  # output weights gives element fractions\n",
    "    is_embedding=False,  # we are using the pre-trained element embeddings\n",
    "    compile_metrics=[\"AUC\"],\n",
    "    loss=\"binary_crossentropy\",\n",
    "    is_classification=True,\n",
    ")"
   ]
  },
  {
   "cell_type": "code",
   "execution_count": 20,
   "id": "e1a78fa5",
   "metadata": {},
   "outputs": [
    {
     "name": "stdout",
     "output_type": "stream",
     "text": [
      "Epoch 1/10\n",
      "1/1 [==============================] - 1s 733ms/step - loss: 0.7019 - auc: 0.4475\n",
      "Epoch 2/10\n",
      "1/1 [==============================] - 0s 8ms/step - loss: 0.6959 - auc: 0.7201\n",
      "Epoch 3/10\n",
      "1/1 [==============================] - 0s 8ms/step - loss: 0.6902 - auc: 0.7995\n",
      "Epoch 4/10\n",
      "1/1 [==============================] - 0s 9ms/step - loss: 0.6850 - auc: 0.8492\n",
      "Epoch 5/10\n",
      "1/1 [==============================] - 0s 8ms/step - loss: 0.6802 - auc: 0.8712\n",
      "Epoch 6/10\n",
      "1/1 [==============================] - 0s 9ms/step - loss: 0.6758 - auc: 0.8513\n",
      "Epoch 7/10\n",
      "1/1 [==============================] - 0s 8ms/step - loss: 0.6715 - auc: 0.8568\n",
      "Epoch 8/10\n",
      "1/1 [==============================] - 0s 8ms/step - loss: 0.6670 - auc: 0.8592\n",
      "Epoch 9/10\n",
      "1/1 [==============================] - 0s 9ms/step - loss: 0.6623 - auc: 0.8733\n",
      "Epoch 10/10\n",
      "1/1 [==============================] - 0s 8ms/step - loss: 0.6573 - auc: 0.8688\n"
     ]
    },
    {
     "data": {
      "text/plain": [
       "<tensorflow.python.keras.callbacks.History at 0x7f89165edc10>"
      ]
     },
     "execution_count": 20,
     "metadata": {},
     "output_type": "execute_result"
    }
   ],
   "source": [
    "features = describer.transform(df[\"formula\"][:80])\n",
    "model.fit(features, df[\"is_metal\"][:80], epochs=10)"
   ]
  },
  {
   "cell_type": "code",
   "execution_count": 21,
   "id": "1b1ce8a7",
   "metadata": {},
   "outputs": [
    {
     "name": "stdout",
     "output_type": "stream",
     "text": [
      "2/2 [==============================] - 0s 3ms/step - loss: 0.6810 - auc: 0.6768\n"
     ]
    }
   ],
   "source": [
    "test_features = describer.transform(df[\"formula\"][80:])\n",
    "loss, metric = model.evaluate(test_features, df[\"is_metal\"][80:], True)"
   ]
  },
  {
   "cell_type": "code",
   "execution_count": 22,
   "id": "4803ac43",
   "metadata": {},
   "outputs": [
    {
     "name": "stdout",
     "output_type": "stream",
     "text": [
      "The AUC is 0.677\n"
     ]
    }
   ],
   "source": [
    "print(f\"The AUC is {metric:.3f}\")"
   ]
  },
  {
   "cell_type": "markdown",
   "id": "a4af3313",
   "metadata": {},
   "source": [
    "## No transfer learning for metallicity classification"
   ]
  },
  {
   "cell_type": "code",
   "execution_count": 23,
   "id": "b730e3a8",
   "metadata": {},
   "outputs": [],
   "source": [
    "describer = SiteElementProperty(output_weights=True)\n",
    "model = AtomSets(\n",
    "    describer=describer, is_embedding=True, compile_metrics=[\"AUC\"], loss=\"binary_crossentropy\", is_classification=True\n",
    ")"
   ]
  },
  {
   "cell_type": "code",
   "execution_count": 24,
   "id": "97ac27c5",
   "metadata": {},
   "outputs": [
    {
     "name": "stdout",
     "output_type": "stream",
     "text": [
      "Epoch 1/10\n",
      "1/1 [==============================] - 1s 795ms/step - loss: 0.6944 - auc: 0.5151\n",
      "Epoch 2/10\n",
      "1/1 [==============================] - 0s 8ms/step - loss: 0.6915 - auc: 0.5096\n",
      "Epoch 3/10\n",
      "1/1 [==============================] - 0s 9ms/step - loss: 0.6896 - auc: 0.8379\n",
      "Epoch 4/10\n",
      "1/1 [==============================] - 0s 9ms/step - loss: 0.6877 - auc: 0.7514\n",
      "Epoch 5/10\n",
      "1/1 [==============================] - 0s 9ms/step - loss: 0.6856 - auc: 0.8149\n",
      "Epoch 6/10\n",
      "1/1 [==============================] - 0s 9ms/step - loss: 0.6832 - auc: 0.8472\n",
      "Epoch 7/10\n",
      "1/1 [==============================] - 0s 9ms/step - loss: 0.6807 - auc: 0.8451\n",
      "Epoch 8/10\n",
      "1/1 [==============================] - 0s 9ms/step - loss: 0.6780 - auc: 0.8479\n",
      "Epoch 9/10\n",
      "1/1 [==============================] - 0s 9ms/step - loss: 0.6749 - auc: 0.8592\n",
      "Epoch 10/10\n",
      "1/1 [==============================] - 0s 10ms/step - loss: 0.6716 - auc: 0.8870\n"
     ]
    },
    {
     "data": {
      "text/plain": [
       "<tensorflow.python.keras.callbacks.History at 0x7f89174ac1c0>"
      ]
     },
     "execution_count": 24,
     "metadata": {},
     "output_type": "execute_result"
    }
   ],
   "source": [
    "features = describer.transform(df[\"formula\"][:80])\n",
    "model.fit(features, df[\"is_metal\"][:80], epochs=10)"
   ]
  },
  {
   "cell_type": "code",
   "execution_count": 25,
   "id": "84a5335c",
   "metadata": {},
   "outputs": [
    {
     "name": "stdout",
     "output_type": "stream",
     "text": [
      "2/2 [==============================] - 0s 2ms/step - loss: 0.6924 - auc: 0.5253\n"
     ]
    }
   ],
   "source": [
    "test_features = describer.transform(df[\"formula\"][80:])\n",
    "loss, metric = model.evaluate(test_features, df[\"is_metal\"][80:], True)"
   ]
  },
  {
   "cell_type": "code",
   "execution_count": 26,
   "id": "edabbb34",
   "metadata": {},
   "outputs": [
    {
     "name": "stdout",
     "output_type": "stream",
     "text": [
      "The AUC is 0.525\n"
     ]
    }
   ],
   "source": [
    "print(f\"The AUC is {metric:.3f}\")"
   ]
  },
  {
   "cell_type": "code",
   "execution_count": null,
   "id": "e9292459",
   "metadata": {},
   "outputs": [],
   "source": []
  }
 ],
 "metadata": {
  "kernelspec": {
   "display_name": "Python 3 (ipykernel)",
   "language": "python",
   "name": "python3"
  },
  "language_info": {
   "codemirror_mode": {
    "name": "ipython",
    "version": 3
   },
   "file_extension": ".py",
   "mimetype": "text/x-python",
   "name": "python",
   "nbconvert_exporter": "python",
   "pygments_lexer": "ipython3",
   "version": "3.9.5"
  }
 },
 "nbformat": 4,
 "nbformat_minor": 5
}
