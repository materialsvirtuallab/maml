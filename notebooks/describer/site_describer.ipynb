{
 "cells": [
  {
   "cell_type": "code",
   "execution_count": 1,
   "metadata": {},
   "outputs": [],
   "source": [
    "from __future__ import annotations\n",
    "\n",
    "from pymatgen.core import Lattice, Structure\n",
    "\n",
    "s = Structure(Lattice.cubic(3.147), [\"Mo\", \"Mo\"], [[0, 0, 0], [0.5, 0.5, 0.5]])  # a simple Mo bcc lattice"
   ]
  },
  {
   "cell_type": "markdown",
   "metadata": {},
   "source": [
    "## Compute bispectrum coefficients of structures"
   ]
  },
  {
   "cell_type": "code",
   "execution_count": 2,
   "metadata": {},
   "outputs": [],
   "source": [
    "from maml.describers import BispectrumCoefficients\n",
    "\n",
    "bc = BispectrumCoefficients(rcutfac=0.5, twojmax=4, element_profile={\"Mo\": {\"r\": 8, \"w\": 1}})"
   ]
  },
  {
   "cell_type": "code",
   "execution_count": 3,
   "metadata": {},
   "outputs": [
    {
     "data": {
      "text/html": [
       "<div>\n",
       "<style scoped>\n",
       "    .dataframe tbody tr th:only-of-type {\n",
       "        vertical-align: middle;\n",
       "    }\n",
       "\n",
       "    .dataframe tbody tr th {\n",
       "        vertical-align: top;\n",
       "    }\n",
       "\n",
       "    .dataframe thead th {\n",
       "        text-align: right;\n",
       "    }\n",
       "</style>\n",
       "<table border=\"1\" class=\"dataframe\">\n",
       "  <thead>\n",
       "    <tr style=\"text-align: right;\">\n",
       "      <th></th>\n",
       "      <th></th>\n",
       "      <th>0-0-0</th>\n",
       "      <th>1-0-1</th>\n",
       "      <th>1-1-2</th>\n",
       "      <th>2-0-2</th>\n",
       "      <th>2-1-3</th>\n",
       "      <th>2-2-2</th>\n",
       "      <th>2-2-4</th>\n",
       "      <th>3-0-3</th>\n",
       "      <th>3-1-4</th>\n",
       "      <th>3-2-3</th>\n",
       "      <th>3-3-4</th>\n",
       "      <th>4-0-4</th>\n",
       "      <th>4-2-4</th>\n",
       "      <th>4-4-4</th>\n",
       "    </tr>\n",
       "    <tr>\n",
       "      <th>input_index</th>\n",
       "      <th></th>\n",
       "      <th></th>\n",
       "      <th></th>\n",
       "      <th></th>\n",
       "      <th></th>\n",
       "      <th></th>\n",
       "      <th></th>\n",
       "      <th></th>\n",
       "      <th></th>\n",
       "      <th></th>\n",
       "      <th></th>\n",
       "      <th></th>\n",
       "      <th></th>\n",
       "      <th></th>\n",
       "      <th></th>\n",
       "    </tr>\n",
       "  </thead>\n",
       "  <tbody>\n",
       "    <tr>\n",
       "      <th rowspan=\"2\" valign=\"top\">0</th>\n",
       "      <th>0</th>\n",
       "      <td>19521.8</td>\n",
       "      <td>194.323</td>\n",
       "      <td>2.92983</td>\n",
       "      <td>5.91693</td>\n",
       "      <td>-0.050557</td>\n",
       "      <td>0.059473</td>\n",
       "      <td>-0.056937</td>\n",
       "      <td>0.065096</td>\n",
       "      <td>0.0363</td>\n",
       "      <td>0.000654</td>\n",
       "      <td>-0.00047</td>\n",
       "      <td>3.25385</td>\n",
       "      <td>0.032704</td>\n",
       "      <td>-0.018786</td>\n",
       "    </tr>\n",
       "    <tr>\n",
       "      <th>1</th>\n",
       "      <td>19521.8</td>\n",
       "      <td>194.323</td>\n",
       "      <td>2.92983</td>\n",
       "      <td>5.91693</td>\n",
       "      <td>-0.050557</td>\n",
       "      <td>0.059473</td>\n",
       "      <td>-0.056937</td>\n",
       "      <td>0.065096</td>\n",
       "      <td>0.0363</td>\n",
       "      <td>0.000654</td>\n",
       "      <td>-0.00047</td>\n",
       "      <td>3.25385</td>\n",
       "      <td>0.032704</td>\n",
       "      <td>-0.018786</td>\n",
       "    </tr>\n",
       "    <tr>\n",
       "      <th rowspan=\"4\" valign=\"top\">1</th>\n",
       "      <th>0</th>\n",
       "      <td>19521.8</td>\n",
       "      <td>194.323</td>\n",
       "      <td>2.92983</td>\n",
       "      <td>5.91693</td>\n",
       "      <td>-0.050557</td>\n",
       "      <td>0.059473</td>\n",
       "      <td>-0.056937</td>\n",
       "      <td>0.065096</td>\n",
       "      <td>0.0363</td>\n",
       "      <td>0.000654</td>\n",
       "      <td>-0.00047</td>\n",
       "      <td>3.25385</td>\n",
       "      <td>0.032704</td>\n",
       "      <td>-0.018786</td>\n",
       "    </tr>\n",
       "    <tr>\n",
       "      <th>1</th>\n",
       "      <td>19521.8</td>\n",
       "      <td>194.323</td>\n",
       "      <td>2.92983</td>\n",
       "      <td>5.91693</td>\n",
       "      <td>-0.050557</td>\n",
       "      <td>0.059473</td>\n",
       "      <td>-0.056937</td>\n",
       "      <td>0.065096</td>\n",
       "      <td>0.0363</td>\n",
       "      <td>0.000654</td>\n",
       "      <td>-0.00047</td>\n",
       "      <td>3.25385</td>\n",
       "      <td>0.032704</td>\n",
       "      <td>-0.018786</td>\n",
       "    </tr>\n",
       "    <tr>\n",
       "      <th>2</th>\n",
       "      <td>19521.8</td>\n",
       "      <td>194.323</td>\n",
       "      <td>2.92983</td>\n",
       "      <td>5.91693</td>\n",
       "      <td>-0.050557</td>\n",
       "      <td>0.059473</td>\n",
       "      <td>-0.056937</td>\n",
       "      <td>0.065096</td>\n",
       "      <td>0.0363</td>\n",
       "      <td>0.000654</td>\n",
       "      <td>-0.00047</td>\n",
       "      <td>3.25385</td>\n",
       "      <td>0.032704</td>\n",
       "      <td>-0.018786</td>\n",
       "    </tr>\n",
       "    <tr>\n",
       "      <th>3</th>\n",
       "      <td>19521.8</td>\n",
       "      <td>194.323</td>\n",
       "      <td>2.92983</td>\n",
       "      <td>5.91693</td>\n",
       "      <td>-0.050557</td>\n",
       "      <td>0.059473</td>\n",
       "      <td>-0.056937</td>\n",
       "      <td>0.065096</td>\n",
       "      <td>0.0363</td>\n",
       "      <td>0.000654</td>\n",
       "      <td>-0.00047</td>\n",
       "      <td>3.25385</td>\n",
       "      <td>0.032704</td>\n",
       "      <td>-0.018786</td>\n",
       "    </tr>\n",
       "  </tbody>\n",
       "</table>\n",
       "</div>"
      ],
      "text/plain": [
       "                 0-0-0    1-0-1    1-1-2    2-0-2     2-1-3     2-2-2  \\\n",
       "input_index                                                             \n",
       "0           0  19521.8  194.323  2.92983  5.91693 -0.050557  0.059473   \n",
       "            1  19521.8  194.323  2.92983  5.91693 -0.050557  0.059473   \n",
       "1           0  19521.8  194.323  2.92983  5.91693 -0.050557  0.059473   \n",
       "            1  19521.8  194.323  2.92983  5.91693 -0.050557  0.059473   \n",
       "            2  19521.8  194.323  2.92983  5.91693 -0.050557  0.059473   \n",
       "            3  19521.8  194.323  2.92983  5.91693 -0.050557  0.059473   \n",
       "\n",
       "                  2-2-4     3-0-3   3-1-4     3-2-3    3-3-4    4-0-4  \\\n",
       "input_index                                                             \n",
       "0           0 -0.056937  0.065096  0.0363  0.000654 -0.00047  3.25385   \n",
       "            1 -0.056937  0.065096  0.0363  0.000654 -0.00047  3.25385   \n",
       "1           0 -0.056937  0.065096  0.0363  0.000654 -0.00047  3.25385   \n",
       "            1 -0.056937  0.065096  0.0363  0.000654 -0.00047  3.25385   \n",
       "            2 -0.056937  0.065096  0.0363  0.000654 -0.00047  3.25385   \n",
       "            3 -0.056937  0.065096  0.0363  0.000654 -0.00047  3.25385   \n",
       "\n",
       "                  4-2-4     4-4-4  \n",
       "input_index                        \n",
       "0           0  0.032704 -0.018786  \n",
       "            1  0.032704 -0.018786  \n",
       "1           0  0.032704 -0.018786  \n",
       "            1  0.032704 -0.018786  \n",
       "            2  0.032704 -0.018786  \n",
       "            3  0.032704 -0.018786  "
      ]
     },
     "execution_count": 3,
     "metadata": {},
     "output_type": "execute_result"
    }
   ],
   "source": [
    "bc.transform([s, s * [1, 2, 1]])"
   ]
  },
  {
   "cell_type": "code",
   "execution_count": 4,
   "metadata": {},
   "outputs": [],
   "source": [
    "s_large = s * [5, 5, 5]"
   ]
  },
  {
   "cell_type": "code",
   "execution_count": 11,
   "metadata": {},
   "outputs": [
    {
     "name": "stdout",
     "output_type": "stream",
     "text": [
      "26 s ± 0 ns per loop (mean ± std. dev. of 1 run, 1 loop each)\n"
     ]
    }
   ],
   "source": [
    "%%timeit -n1 -r1\n",
    "\n",
    "_ = bc.transform([s_large] * 100)  # time for calculating 100 structures"
   ]
  },
  {
   "cell_type": "markdown",
   "metadata": {},
   "source": [
    "## Parallel computation with progress report"
   ]
  },
  {
   "cell_type": "code",
   "execution_count": 6,
   "metadata": {},
   "outputs": [],
   "source": [
    "bc_w_parallel = BispectrumCoefficients(\n",
    "    rcutfac=0.5, twojmax=4, element_profile={\"Mo\": {\"r\": 8, \"w\": 1}}, verbose=True, n_jobs=2  # show progress\n",
    ")  # use 2 CPUs"
   ]
  },
  {
   "cell_type": "code",
   "execution_count": 12,
   "metadata": {},
   "outputs": [
    {
     "name": "stderr",
     "output_type": "stream",
     "text": [
      "100%|██████████| 100/100 [00:17<00:00,  5.75it/s]\n"
     ]
    },
    {
     "name": "stdout",
     "output_type": "stream",
     "text": [
      "17.7 s ± 0 ns per loop (mean ± std. dev. of 1 run, 1 loop each)\n"
     ]
    }
   ],
   "source": [
    "%%timeit -n1 -r1\n",
    "_ = bc_w_parallel.transform([s_large] * 100)  # time for calculating 100 structures"
   ]
  },
  {
   "cell_type": "markdown",
   "metadata": {},
   "source": [
    "## With cache"
   ]
  },
  {
   "cell_type": "code",
   "execution_count": 8,
   "metadata": {},
   "outputs": [
    {
     "name": "stderr",
     "output_type": "stream",
     "text": [
      "INFO:maml.base._describer:Created temporary directory /var/folders/ky/tm77xf4978b75_2bcfpb2lxm0000gn/T/tmp9efue9uw\n",
      "INFO:maml.base._describer:Using 4 jobs for computation\n"
     ]
    }
   ],
   "source": [
    "bc_w_cache = BispectrumCoefficients(\n",
    "    rcutfac=0.5,\n",
    "    twojmax=4,\n",
    "    element_profile={\"Mo\": {\"r\": 8, \"w\": 1}},\n",
    "    verbose=True,  # show progress\n",
    "    memory=True,  # saved to local\n",
    "    n_jobs=-1,\n",
    ")  # use all CPU"
   ]
  },
  {
   "cell_type": "code",
   "execution_count": 13,
   "metadata": {},
   "outputs": [
    {
     "name": "stderr",
     "output_type": "stream",
     "text": [
      "100%|██████████| 100/100 [00:04<00:00, 20.56it/s]\n"
     ]
    },
    {
     "name": "stdout",
     "output_type": "stream",
     "text": [
      "5.1 s ± 0 ns per loop (mean ± std. dev. of 1 run, 1 loop each)\n"
     ]
    }
   ],
   "source": [
    "%%timeit -n1 -r1\n",
    "_ = bc_w_cache.transform([s_large] * 100)  # time for calculating 100 structures"
   ]
  },
  {
   "cell_type": "markdown",
   "metadata": {},
   "source": [
    "We can see that the run time has been reduced substantially. "
   ]
  }
 ],
 "metadata": {
  "kernelspec": {
   "display_name": "Python 3",
   "language": "python",
   "name": "python3"
  },
  "language_info": {
   "codemirror_mode": {
    "name": "ipython",
    "version": 3
   },
   "file_extension": ".py",
   "mimetype": "text/x-python",
   "name": "python",
   "nbconvert_exporter": "python",
   "pygments_lexer": "ipython3",
   "version": "3.8.10"
  }
 },
 "nbformat": 4,
 "nbformat_minor": 2
}
