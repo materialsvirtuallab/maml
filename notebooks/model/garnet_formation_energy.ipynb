{
 "cells": [
  {
   "cell_type": "code",
   "execution_count": 2,
   "metadata": {},
   "outputs": [],
   "source": [
    "from __future__ import annotations\n",
    "\n",
    "import matplotlib.pyplot as plt\n",
    "import pandas as pd\n",
    "from pymatgen import Structure\n",
    "from sklearn.linear_model import LinearRegression\n",
    "\n",
    "from maml.describers import DistinctSiteProperty\n",
    "from maml.models import SKLModel\n",
    "\n",
    "%matplotlib inline"
   ]
  },
  {
   "cell_type": "markdown",
   "metadata": {},
   "source": [
    "## Prepare the data"
   ]
  },
  {
   "cell_type": "code",
   "execution_count": 3,
   "metadata": {},
   "outputs": [],
   "source": [
    "df = pd.read_csv(\"garnet.csv\")\n",
    "df = df[df[\"FormEnergyPerAtom\"] > -5]"
   ]
  },
  {
   "cell_type": "code",
   "execution_count": 4,
   "metadata": {},
   "outputs": [
    {
     "data": {
      "text/html": [
       "<div>\n",
       "<style scoped>\n",
       "    .dataframe tbody tr th:only-of-type {\n",
       "        vertical-align: middle;\n",
       "    }\n",
       "\n",
       "    .dataframe tbody tr th {\n",
       "        vertical-align: top;\n",
       "    }\n",
       "\n",
       "    .dataframe thead th {\n",
       "        text-align: right;\n",
       "    }\n",
       "</style>\n",
       "<table border=\"1\" class=\"dataframe\">\n",
       "  <thead>\n",
       "    <tr style=\"text-align: right;\">\n",
       "      <th></th>\n",
       "      <th>c</th>\n",
       "      <th>a</th>\n",
       "      <th>d</th>\n",
       "      <th>C-IonicRadius</th>\n",
       "      <th>C-ElectroNegativity</th>\n",
       "      <th>A-IonicRadius</th>\n",
       "      <th>A-ElectroNegativity</th>\n",
       "      <th>D-IonicRadius</th>\n",
       "      <th>D-ElectroNegativity</th>\n",
       "      <th>FormEnergyPerAtom</th>\n",
       "    </tr>\n",
       "  </thead>\n",
       "  <tbody>\n",
       "    <tr>\n",
       "      <th>0</th>\n",
       "      <td>Gd3+</td>\n",
       "      <td>Sc3+</td>\n",
       "      <td>Al3+</td>\n",
       "      <td>1.075</td>\n",
       "      <td>1.20</td>\n",
       "      <td>0.885</td>\n",
       "      <td>1.36</td>\n",
       "      <td>0.675</td>\n",
       "      <td>1.61</td>\n",
       "      <td>-0.048480</td>\n",
       "    </tr>\n",
       "    <tr>\n",
       "      <th>1</th>\n",
       "      <td>Ca2+</td>\n",
       "      <td>Sc3+</td>\n",
       "      <td>Ti4+</td>\n",
       "      <td>1.140</td>\n",
       "      <td>1.00</td>\n",
       "      <td>0.885</td>\n",
       "      <td>1.36</td>\n",
       "      <td>0.745</td>\n",
       "      <td>1.54</td>\n",
       "      <td>-0.140997</td>\n",
       "    </tr>\n",
       "    <tr>\n",
       "      <th>2</th>\n",
       "      <td>Cd2+</td>\n",
       "      <td>Cr3+</td>\n",
       "      <td>Ge4+</td>\n",
       "      <td>1.090</td>\n",
       "      <td>1.69</td>\n",
       "      <td>0.755</td>\n",
       "      <td>1.66</td>\n",
       "      <td>0.670</td>\n",
       "      <td>2.01</td>\n",
       "      <td>-0.087724</td>\n",
       "    </tr>\n",
       "    <tr>\n",
       "      <th>3</th>\n",
       "      <td>Mg2+</td>\n",
       "      <td>Al3+</td>\n",
       "      <td>Ge4+</td>\n",
       "      <td>0.860</td>\n",
       "      <td>1.31</td>\n",
       "      <td>0.675</td>\n",
       "      <td>1.61</td>\n",
       "      <td>0.670</td>\n",
       "      <td>2.01</td>\n",
       "      <td>-0.037325</td>\n",
       "    </tr>\n",
       "    <tr>\n",
       "      <th>4</th>\n",
       "      <td>Cd2+</td>\n",
       "      <td>Tm3+</td>\n",
       "      <td>Ti4+</td>\n",
       "      <td>1.090</td>\n",
       "      <td>1.69</td>\n",
       "      <td>1.020</td>\n",
       "      <td>1.25</td>\n",
       "      <td>0.745</td>\n",
       "      <td>1.54</td>\n",
       "      <td>0.004684</td>\n",
       "    </tr>\n",
       "  </tbody>\n",
       "</table>\n",
       "</div>"
      ],
      "text/plain": [
       "      c     a     d  C-IonicRadius  C-ElectroNegativity  A-IonicRadius  \\\n",
       "0  Gd3+  Sc3+  Al3+          1.075                 1.20          0.885   \n",
       "1  Ca2+  Sc3+  Ti4+          1.140                 1.00          0.885   \n",
       "2  Cd2+  Cr3+  Ge4+          1.090                 1.69          0.755   \n",
       "3  Mg2+  Al3+  Ge4+          0.860                 1.31          0.675   \n",
       "4  Cd2+  Tm3+  Ti4+          1.090                 1.69          1.020   \n",
       "\n",
       "   A-ElectroNegativity  D-IonicRadius  D-ElectroNegativity  FormEnergyPerAtom  \n",
       "0                 1.36          0.675                 1.61          -0.048480  \n",
       "1                 1.36          0.745                 1.54          -0.140997  \n",
       "2                 1.66          0.670                 2.01          -0.087724  \n",
       "3                 1.61          0.670                 2.01          -0.037325  \n",
       "4                 1.25          0.745                 1.54           0.004684  "
      ]
     },
     "execution_count": 4,
     "metadata": {},
     "output_type": "execute_result"
    }
   ],
   "source": [
    "df.head()"
   ]
  },
  {
   "cell_type": "code",
   "execution_count": 5,
   "metadata": {},
   "outputs": [],
   "source": [
    "parent = Structure.from_file(\"./Y3Al5O12.cif\")\n",
    "parent.add_oxidation_state_by_guess()\n",
    "mapping = {\"C\": range(12), \"D\": range(12, 24), \"A\": range(24, 32)}"
   ]
  },
  {
   "cell_type": "code",
   "execution_count": 6,
   "metadata": {},
   "outputs": [],
   "source": [
    "## substitute the species to the parent structure\n",
    "\n",
    "structures = []\n",
    "targets = []\n",
    "for i, j in df.iterrows():\n",
    "    s = parent.copy()\n",
    "    for k, indices in mapping.items():\n",
    "        for index in indices:\n",
    "            s.replace(index, j[k.lower()])\n",
    "    structures.append(s)\n",
    "    targets.append(j[\"FormEnergyPerAtom\"])"
   ]
  },
  {
   "cell_type": "markdown",
   "metadata": {},
   "source": [
    "## Model formation energy with DistinctSiteProperty describer and LinearRegression "
   ]
  },
  {
   "cell_type": "code",
   "execution_count": 7,
   "metadata": {},
   "outputs": [],
   "source": [
    "model = SKLModel(\n",
    "    describer=DistinctSiteProperty(wyckoffs=[\"12c\", \"12d\", \"8a\"], properties=[\"atomic_radius\", \"X\"]),\n",
    "    model=LinearRegression(),\n",
    ")"
   ]
  },
  {
   "cell_type": "code",
   "execution_count": 8,
   "metadata": {},
   "outputs": [
    {
     "data": {
      "text/plain": [
       "<maml.base._model.SKLModel at 0x7f94ca6fecd0>"
      ]
     },
     "execution_count": 8,
     "metadata": {},
     "output_type": "execute_result"
    }
   ],
   "source": [
    "model.train(structures[:500], targets[:500])"
   ]
  },
  {
   "cell_type": "code",
   "execution_count": 9,
   "metadata": {},
   "outputs": [],
   "source": [
    "preds = model.predict_objs(structures[500:])"
   ]
  },
  {
   "cell_type": "code",
   "execution_count": 10,
   "metadata": {},
   "outputs": [
    {
     "data": {
      "text/plain": [
       "[<matplotlib.lines.Line2D at 0x7f94ca796810>]"
      ]
     },
     "execution_count": 10,
     "metadata": {},
     "output_type": "execute_result"
    },
    {
     "data": {
      "image/png": "[encoded data removed]",
      "text/plain": [
       "<Figure size 432x288 with 1 Axes>"
      ]
     },
     "metadata": {
      "needs_background": "light"
     },
     "output_type": "display_data"
    }
   ],
   "source": [
    "plt.plot(targets[500:], preds, \"o\")"
   ]
  },
  {
   "cell_type": "markdown",
   "metadata": {},
   "source": [
    "## Model formation energy with ElementProperty describer and Ridge regression "
   ]
  },
  {
   "cell_type": "code",
   "execution_count": 11,
   "metadata": {},
   "outputs": [
    {
     "name": "stderr",
     "output_type": "stream",
     "text": [
      "INFO:maml.describers.matminer_wrapper._matminer_wrapper:Using matminer_wrapper ElementProperty class\n"
     ]
    }
   ],
   "source": [
    "from sklearn.linear_model import Ridge\n",
    "\n",
    "from maml.describers import ElementProperty\n",
    "\n",
    "model = SKLModel(describer=ElementProperty.from_preset(\"magpie\"), model=Ridge(1e-2))"
   ]
  },
  {
   "cell_type": "code",
   "execution_count": 12,
   "metadata": {},
   "outputs": [],
   "source": [
    "compositions = [i.composition for i in structures]"
   ]
  },
  {
   "cell_type": "code",
   "execution_count": 13,
   "metadata": {},
   "outputs": [
    {
     "data": {
      "text/plain": [
       "<maml.base._model.SKLModel at 0x7f94cbc2c0d0>"
      ]
     },
     "execution_count": 13,
     "metadata": {},
     "output_type": "execute_result"
    }
   ],
   "source": [
    "model.train(compositions[:500], targets[:500])"
   ]
  },
  {
   "cell_type": "code",
   "execution_count": 14,
   "metadata": {},
   "outputs": [
    {
     "data": {
      "text/plain": [
       "[<matplotlib.lines.Line2D at 0x7f94cbdebed0>]"
      ]
     },
     "execution_count": 14,
     "metadata": {},
     "output_type": "execute_result"
    },
    {
     "data": {
      "image/png": "[encoded data removed]",
      "text/plain": [
       "<Figure size 432x288 with 1 Axes>"
      ]
     },
     "metadata": {
      "needs_background": "light"
     },
     "output_type": "display_data"
    }
   ],
   "source": [
    "preds = model.predict_objs(compositions[500:])\n",
    "plt.plot(targets[500:], preds, \"o\")"
   ]
  },
  {
   "cell_type": "markdown",
   "metadata": {},
   "source": [
    "## Model formation energy with DistinctSiteProperty describer and Multi-layer Perceptron"
   ]
  },
  {
   "cell_type": "code",
   "execution_count": 16,
   "metadata": {},
   "outputs": [],
   "source": [
    "from tensorflow.keras.layers import Dense\n",
    "from tensorflow.keras.models import Sequential\n",
    "\n",
    "from maml.models import KerasModel\n",
    "\n",
    "k_model = Sequential()\n",
    "k_model.add(Dense(128, input_dim=6, activation=\"relu\"))\n",
    "k_model.add(Dense(64, activation=\"relu\"))\n",
    "k_model.add(Dense(1))\n",
    "k_model.compile(\"adam\", \"mae\")\n",
    "\n",
    "model = KerasModel(\n",
    "    describer=DistinctSiteProperty(wyckoffs=[\"12c\", \"12d\", \"8a\"], properties=[\"atomic_radius\", \"X\"]), model=k_model\n",
    ")"
   ]
  },
  {
   "cell_type": "code",
   "execution_count": 17,
   "metadata": {},
   "outputs": [
    {
     "name": "stdout",
     "output_type": "stream",
     "text": [
      "Epoch 1/100\n",
      "16/16 [==============================] - 0s 748us/step - loss: 0.1113\n",
      "Epoch 2/100\n",
      "16/16 [==============================] - 0s 639us/step - loss: 0.0695\n",
      "Epoch 3/100\n",
      "16/16 [==============================] - 0s 618us/step - loss: 0.0635\n",
      "Epoch 4/100\n",
      "16/16 [==============================] - 0s 590us/step - loss: 0.0610\n",
      "Epoch 5/100\n",
      "16/16 [==============================] - 0s 576us/step - loss: 0.0577\n",
      "Epoch 6/100\n",
      "16/16 [==============================] - 0s 640us/step - loss: 0.0551\n",
      "Epoch 7/100\n",
      "16/16 [==============================] - 0s 592us/step - loss: 0.0533\n",
      "Epoch 8/100\n",
      "16/16 [==============================] - 0s 570us/step - loss: 0.0541\n",
      "Epoch 9/100\n",
      "16/16 [==============================] - 0s 585us/step - loss: 0.0526\n",
      "Epoch 10/100\n",
      "16/16 [==============================] - 0s 566us/step - loss: 0.0566\n",
      "Epoch 11/100\n",
      "16/16 [==============================] - 0s 545us/step - loss: 0.0589\n",
      "Epoch 12/100\n",
      "16/16 [==============================] - 0s 594us/step - loss: 0.0498\n",
      "Epoch 13/100\n",
      "16/16 [==============================] - 0s 557us/step - loss: 0.0483\n",
      "Epoch 14/100\n",
      "16/16 [==============================] - 0s 563us/step - loss: 0.0466\n",
      "Epoch 15/100\n",
      "16/16 [==============================] - 0s 594us/step - loss: 0.0463\n",
      "Epoch 16/100\n",
      "16/16 [==============================] - 0s 563us/step - loss: 0.0557\n",
      "Epoch 17/100\n",
      "16/16 [==============================] - 0s 545us/step - loss: 0.0504\n",
      "Epoch 18/100\n",
      "16/16 [==============================] - 0s 581us/step - loss: 0.0557\n",
      "Epoch 19/100\n",
      "16/16 [==============================] - 0s 579us/step - loss: 0.0547\n",
      "Epoch 20/100\n",
      "16/16 [==============================] - 0s 556us/step - loss: 0.0505\n",
      "Epoch 21/100\n",
      "16/16 [==============================] - 0s 591us/step - loss: 0.0433\n",
      "Epoch 22/100\n",
      "16/16 [==============================] - 0s 548us/step - loss: 0.0424\n",
      "Epoch 23/100\n",
      "16/16 [==============================] - 0s 574us/step - loss: 0.0444\n",
      "Epoch 24/100\n",
      "16/16 [==============================] - 0s 580us/step - loss: 0.0427\n",
      "Epoch 25/100\n",
      "16/16 [==============================] - 0s 559us/step - loss: 0.0518\n",
      "Epoch 26/100\n",
      "16/16 [==============================] - 0s 568us/step - loss: 0.0506\n",
      "Epoch 27/100\n",
      "16/16 [==============================] - 0s 569us/step - loss: 0.0443\n",
      "Epoch 28/100\n",
      "16/16 [==============================] - 0s 562us/step - loss: 0.0404\n",
      "Epoch 29/100\n",
      "16/16 [==============================] - 0s 606us/step - loss: 0.0402\n",
      "Epoch 30/100\n",
      "16/16 [==============================] - 0s 571us/step - loss: 0.0421\n",
      "Epoch 31/100\n",
      "16/16 [==============================] - 0s 551us/step - loss: 0.0423\n",
      "Epoch 32/100\n",
      "16/16 [==============================] - 0s 663us/step - loss: 0.0429\n",
      "Epoch 33/100\n",
      "16/16 [==============================] - 0s 606us/step - loss: 0.0363\n",
      "Epoch 34/100\n",
      "16/16 [==============================] - 0s 603us/step - loss: 0.0376\n",
      "Epoch 35/100\n",
      "16/16 [==============================] - 0s 582us/step - loss: 0.0383\n",
      "Epoch 36/100\n",
      "16/16 [==============================] - 0s 597us/step - loss: 0.0405\n",
      "Epoch 37/100\n",
      "16/16 [==============================] - 0s 589us/step - loss: 0.0340\n",
      "Epoch 38/100\n",
      "16/16 [==============================] - 0s 583us/step - loss: 0.0377\n",
      "Epoch 39/100\n",
      "16/16 [==============================] - 0s 584us/step - loss: 0.0465\n",
      "Epoch 40/100\n",
      "16/16 [==============================] - 0s 604us/step - loss: 0.0370\n",
      "Epoch 41/100\n",
      "16/16 [==============================] - 0s 571us/step - loss: 0.0343\n",
      "Epoch 42/100\n",
      "16/16 [==============================] - 0s 569us/step - loss: 0.0327\n",
      "Epoch 43/100\n",
      "16/16 [==============================] - 0s 569us/step - loss: 0.0342\n",
      "Epoch 44/100\n",
      "16/16 [==============================] - 0s 584us/step - loss: 0.0377\n",
      "Epoch 45/100\n",
      "16/16 [==============================] - 0s 567us/step - loss: 0.0328\n",
      "Epoch 46/100\n",
      "16/16 [==============================] - 0s 569us/step - loss: 0.0340\n",
      "Epoch 47/100\n",
      "16/16 [==============================] - 0s 573us/step - loss: 0.0312\n",
      "Epoch 48/100\n",
      "16/16 [==============================] - 0s 587us/step - loss: 0.0301\n",
      "Epoch 49/100\n",
      "16/16 [==============================] - 0s 575us/step - loss: 0.0315\n",
      "Epoch 50/100\n",
      "16/16 [==============================] - 0s 574us/step - loss: 0.0334\n",
      "Epoch 51/100\n",
      "16/16 [==============================] - 0s 581us/step - loss: 0.0317\n",
      "Epoch 52/100\n",
      "16/16 [==============================] - 0s 572us/step - loss: 0.0306\n",
      "Epoch 53/100\n",
      "16/16 [==============================] - 0s 583us/step - loss: 0.0290\n",
      "Epoch 54/100\n",
      "16/16 [==============================] - 0s 576us/step - loss: 0.0311\n",
      "Epoch 55/100\n",
      "16/16 [==============================] - 0s 561us/step - loss: 0.0318\n",
      "Epoch 56/100\n",
      "16/16 [==============================] - 0s 578us/step - loss: 0.0402\n",
      "Epoch 57/100\n",
      "16/16 [==============================] - 0s 605us/step - loss: 0.0270\n",
      "Epoch 58/100\n",
      "16/16 [==============================] - 0s 593us/step - loss: 0.0310\n",
      "Epoch 59/100\n",
      "16/16 [==============================] - 0s 614us/step - loss: 0.0272\n",
      "Epoch 60/100\n",
      "16/16 [==============================] - 0s 722us/step - loss: 0.0286\n",
      "Epoch 61/100\n",
      "16/16 [==============================] - 0s 752us/step - loss: 0.0297\n",
      "Epoch 62/100\n",
      "16/16 [==============================] - 0s 602us/step - loss: 0.0297\n",
      "Epoch 63/100\n",
      "16/16 [==============================] - 0s 573us/step - loss: 0.0281\n",
      "Epoch 64/100\n",
      "16/16 [==============================] - 0s 624us/step - loss: 0.0314\n",
      "Epoch 65/100\n",
      "16/16 [==============================] - 0s 603us/step - loss: 0.0334\n",
      "Epoch 66/100\n",
      "16/16 [==============================] - 0s 623us/step - loss: 0.0323\n",
      "Epoch 67/100\n",
      "16/16 [==============================] - 0s 600us/step - loss: 0.0313\n",
      "Epoch 68/100\n",
      "16/16 [==============================] - 0s 577us/step - loss: 0.0286\n",
      "Epoch 69/100\n",
      "16/16 [==============================] - 0s 529us/step - loss: 0.0326\n",
      "Epoch 70/100\n",
      "16/16 [==============================] - 0s 642us/step - loss: 0.0284\n",
      "Epoch 71/100\n",
      "16/16 [==============================] - 0s 642us/step - loss: 0.0337\n",
      "Epoch 72/100\n",
      "16/16 [==============================] - 0s 620us/step - loss: 0.0269\n",
      "Epoch 73/100\n",
      "16/16 [==============================] - 0s 621us/step - loss: 0.0264\n",
      "Epoch 74/100\n",
      "16/16 [==============================] - 0s 641us/step - loss: 0.0260\n",
      "Epoch 75/100\n",
      "16/16 [==============================] - 0s 580us/step - loss: 0.0268\n",
      "Epoch 76/100\n",
      "16/16 [==============================] - 0s 649us/step - loss: 0.0246\n",
      "Epoch 77/100\n",
      "16/16 [==============================] - 0s 600us/step - loss: 0.0281\n",
      "Epoch 78/100\n",
      "16/16 [==============================] - 0s 663us/step - loss: 0.0261\n",
      "Epoch 79/100\n",
      "16/16 [==============================] - 0s 572us/step - loss: 0.0335\n",
      "Epoch 80/100\n",
      "16/16 [==============================] - 0s 629us/step - loss: 0.0321\n",
      "Epoch 81/100\n",
      "16/16 [==============================] - 0s 600us/step - loss: 0.0273\n",
      "Epoch 82/100\n",
      "16/16 [==============================] - 0s 576us/step - loss: 0.0242\n",
      "Epoch 83/100\n",
      "16/16 [==============================] - 0s 702us/step - loss: 0.0266\n",
      "Epoch 84/100\n",
      "16/16 [==============================] - 0s 770us/step - loss: 0.0280\n",
      "Epoch 85/100\n",
      "16/16 [==============================] - 0s 617us/step - loss: 0.0242\n",
      "Epoch 86/100\n",
      "16/16 [==============================] - 0s 629us/step - loss: 0.0252\n",
      "Epoch 87/100\n",
      "16/16 [==============================] - 0s 620us/step - loss: 0.0307\n",
      "Epoch 88/100\n",
      "16/16 [==============================] - 0s 622us/step - loss: 0.0252\n",
      "Epoch 89/100\n",
      "16/16 [==============================] - 0s 611us/step - loss: 0.0245\n",
      "Epoch 90/100\n",
      "16/16 [==============================] - 0s 723us/step - loss: 0.0259\n",
      "Epoch 91/100\n",
      "16/16 [==============================] - 0s 591us/step - loss: 0.0253\n",
      "Epoch 92/100\n",
      "16/16 [==============================] - 0s 575us/step - loss: 0.0246\n",
      "Epoch 93/100\n",
      "16/16 [==============================] - 0s 555us/step - loss: 0.0273\n",
      "Epoch 94/100\n",
      "16/16 [==============================] - 0s 653us/step - loss: 0.0246\n",
      "Epoch 95/100\n",
      "16/16 [==============================] - 0s 677us/step - loss: 0.0262\n",
      "Epoch 96/100\n",
      "16/16 [==============================] - 0s 646us/step - loss: 0.0230\n",
      "Epoch 97/100\n",
      "16/16 [==============================] - 0s 690us/step - loss: 0.0219\n",
      "Epoch 98/100\n",
      "16/16 [==============================] - 0s 783us/step - loss: 0.0241\n",
      "Epoch 99/100\n"
     ]
    },
    {
     "name": "stdout",
     "output_type": "stream",
     "text": [
      "16/16 [==============================] - 0s 738us/step - loss: 0.0245\n",
      "Epoch 100/100\n",
      "16/16 [==============================] - 0s 582us/step - loss: 0.0244\n"
     ]
    },
    {
     "data": {
      "text/plain": [
       "<maml.base._model.KerasModel at 0x7f94ca7a59d0>"
      ]
     },
     "execution_count": 17,
     "metadata": {},
     "output_type": "execute_result"
    }
   ],
   "source": [
    "model.train(structures[:500], targets[:500], epochs=100)"
   ]
  },
  {
   "cell_type": "code",
   "execution_count": 18,
   "metadata": {},
   "outputs": [
    {
     "data": {
      "text/plain": [
       "[<matplotlib.lines.Line2D at 0x7f94cbd12590>]"
      ]
     },
     "execution_count": 18,
     "metadata": {},
     "output_type": "execute_result"
    },
    {
     "data": {
      "image/png": "[encoded data removed]",
      "text/plain": [
       "<Figure size 432x288 with 1 Axes>"
      ]
     },
     "metadata": {
      "needs_background": "light"
     },
     "output_type": "display_data"
    }
   ],
   "source": [
    "preds = model.predict_objs(structures[500:])\n",
    "plt.plot(targets[500:], preds, \"o\")"
   ]
  },
  {
   "cell_type": "code",
   "execution_count": null,
   "metadata": {},
   "outputs": [],
   "source": []
  }
 ],
 "metadata": {
  "kernelspec": {
   "display_name": "Python 3",
   "language": "python",
   "name": "python3"
  },
  "language_info": {
   "codemirror_mode": {
    "name": "ipython",
    "version": 3
   },
   "file_extension": ".py",
   "mimetype": "text/x-python",
   "name": "python",
   "nbconvert_exporter": "python",
   "pygments_lexer": "ipython3",
   "version": "3.7.7"
  }
 },
 "nbformat": 4,
 "nbformat_minor": 2
}
