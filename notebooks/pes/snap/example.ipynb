{
 "cells": [
  {
   "cell_type": "markdown",
   "metadata": {},
   "source": [
    "# Load Ni-Mo data"
   ]
  },
  {
   "cell_type": "code",
   "execution_count": 1,
   "metadata": {
    "collapsed": true
   },
   "outputs": [],
   "source": [
    "from __future__ import annotations\n",
    "\n",
    "from monty.serialization import loadfn\n",
    "from pymatgen import Structure\n",
    "\n",
    "data = loadfn(\"data.json\")\n",
    "train_structures = [d[\"structure\"] for d in data]\n",
    "train_energies = [d[\"outputs\"][\"energy\"] for d in data]\n",
    "train_forces = [d[\"outputs\"][\"forces\"] for d in data]"
   ]
  },
  {
   "cell_type": "markdown",
   "metadata": {},
   "source": [
    "# Setup the initial weights for training (If not, the weights for energy and force will be both equal to 1)"
   ]
  },
  {
   "cell_type": "code",
   "execution_count": 2,
   "metadata": {
    "collapsed": true
   },
   "outputs": [],
   "source": [
    "import numpy as np\n",
    "\n",
    "from maml.utils import convert_docs, pool_from\n",
    "\n",
    "train_pool = pool_from(train_structures, train_energies, train_forces)\n",
    "_, df = convert_docs(train_pool)\n",
    "\n",
    "weights = np.ones(\n",
    "    len(df[\"dtype\"]),\n",
    ")\n",
    "\n",
    "# set the weights for energy equal to 100\n",
    "weights[df[\"dtype\"] == \"energy\"] = 100"
   ]
  },
  {
   "cell_type": "markdown",
   "metadata": {},
   "source": [
    "# Set up the SNAP and train"
   ]
  },
  {
   "cell_type": "code",
   "execution_count": 3,
   "metadata": {
    "collapsed": true
   },
   "outputs": [],
   "source": [
    "from sklearn.linear_model import LinearRegression\n",
    "\n",
    "from maml.apps.pes import SNAPotential\n",
    "from maml.base import SKLModel\n",
    "from maml.describers import BispectrumCoefficients\n",
    "\n",
    "element_profile = {\"Mo\": {\"r\": 5.0, \"w\": 1}, \"Ni\": {\"r\": 5.0, \"w\": 1}}\n",
    "describer = BispectrumCoefficients(\n",
    "    rcutfac=0.5, twojmax=6, element_profile=element_profile, quadratic=False, pot_fit=True\n",
    ")\n",
    "model = SKLModel(describer=describer, model=LinearRegression())\n",
    "snap = SNAPotential(model=model)\n",
    "snap.train(train_structures, train_energies, train_forces, sample_weight=weights)"
   ]
  },
  {
   "cell_type": "markdown",
   "metadata": {},
   "source": [
    "# Predict the energies, forces of training data"
   ]
  },
  {
   "cell_type": "code",
   "execution_count": 4,
   "metadata": {
    "collapsed": true
   },
   "outputs": [],
   "source": [
    "df_orig, df_predict = snap.evaluate(\n",
    "    test_structures=train_structures, test_energies=train_energies, test_forces=train_forces, test_stresses=None\n",
    ")"
   ]
  },
  {
   "cell_type": "code",
   "execution_count": 5,
   "metadata": {},
   "outputs": [
    {
     "data": {
      "text/html": [
       "<div>\n",
       "<style scoped>\n",
       "    .dataframe tbody tr th:only-of-type {\n",
       "        vertical-align: middle;\n",
       "    }\n",
       "\n",
       "    .dataframe tbody tr th {\n",
       "        vertical-align: top;\n",
       "    }\n",
       "\n",
       "    .dataframe thead th {\n",
       "        text-align: right;\n",
       "    }\n",
       "</style>\n",
       "<table border=\"1\" class=\"dataframe\">\n",
       "  <thead>\n",
       "    <tr style=\"text-align: right;\">\n",
       "      <th></th>\n",
       "      <th>y_orig</th>\n",
       "      <th>n</th>\n",
       "      <th>dtype</th>\n",
       "    </tr>\n",
       "  </thead>\n",
       "  <tbody>\n",
       "    <tr>\n",
       "      <td>0</td>\n",
       "      <td>-1022.370440</td>\n",
       "      <td>144.0</td>\n",
       "      <td>energy</td>\n",
       "    </tr>\n",
       "    <tr>\n",
       "      <td>433</td>\n",
       "      <td>-1021.289063</td>\n",
       "      <td>144.0</td>\n",
       "      <td>energy</td>\n",
       "    </tr>\n",
       "    <tr>\n",
       "      <td>866</td>\n",
       "      <td>-968.089277</td>\n",
       "      <td>144.0</td>\n",
       "      <td>energy</td>\n",
       "    </tr>\n",
       "    <tr>\n",
       "      <td>1299</td>\n",
       "      <td>-974.584719</td>\n",
       "      <td>144.0</td>\n",
       "      <td>energy</td>\n",
       "    </tr>\n",
       "    <tr>\n",
       "      <td>1732</td>\n",
       "      <td>-968.786928</td>\n",
       "      <td>144.0</td>\n",
       "      <td>energy</td>\n",
       "    </tr>\n",
       "    <tr>\n",
       "      <td>2165</td>\n",
       "      <td>-1008.753287</td>\n",
       "      <td>144.0</td>\n",
       "      <td>energy</td>\n",
       "    </tr>\n",
       "    <tr>\n",
       "      <td>2598</td>\n",
       "      <td>-1020.542738</td>\n",
       "      <td>144.0</td>\n",
       "      <td>energy</td>\n",
       "    </tr>\n",
       "    <tr>\n",
       "      <td>3031</td>\n",
       "      <td>-958.846064</td>\n",
       "      <td>144.0</td>\n",
       "      <td>energy</td>\n",
       "    </tr>\n",
       "    <tr>\n",
       "      <td>3464</td>\n",
       "      <td>-1008.594962</td>\n",
       "      <td>144.0</td>\n",
       "      <td>energy</td>\n",
       "    </tr>\n",
       "    <tr>\n",
       "      <td>3897</td>\n",
       "      <td>-972.498568</td>\n",
       "      <td>144.0</td>\n",
       "      <td>energy</td>\n",
       "    </tr>\n",
       "  </tbody>\n",
       "</table>\n",
       "</div>"
      ],
      "text/plain": [
       "           y_orig      n   dtype\n",
       "0    -1022.370440  144.0  energy\n",
       "433  -1021.289063  144.0  energy\n",
       "866   -968.089277  144.0  energy\n",
       "1299  -974.584719  144.0  energy\n",
       "1732  -968.786928  144.0  energy\n",
       "2165 -1008.753287  144.0  energy\n",
       "2598 -1020.542738  144.0  energy\n",
       "3031  -958.846064  144.0  energy\n",
       "3464 -1008.594962  144.0  energy\n",
       "3897  -972.498568  144.0  energy"
      ]
     },
     "execution_count": 5,
     "metadata": {},
     "output_type": "execute_result"
    }
   ],
   "source": [
    "df_predict[df_predict[\"dtype\"] == \"energy\"]"
   ]
  },
  {
   "cell_type": "markdown",
   "metadata": {},
   "source": [
    "# Lattice constant, Elastic constant\n",
    "### Large error due to limited training data -- 10 structures"
   ]
  },
  {
   "cell_type": "code",
   "execution_count": null,
   "metadata": {},
   "outputs": [],
   "source": [
    "from pymatgen.core import Lattice\n",
    "\n",
    "Ni = Structure.from_spacegroup(sg=\"Fm-3m\", species=[\"Ni\"], lattice=Lattice.cubic(3.51), coords=[[0, 0, 0]])\n",
    "Mo = Structure.from_spacegroup(sg=\"Im-3m\", species=[\"Mo\"], lattice=Lattice.cubic(3.17), coords=[[0, 0, 0]])"
   ]
  },
  {
   "cell_type": "code",
   "execution_count": 10,
   "metadata": {},
   "outputs": [
    {
     "name": "stdout",
     "output_type": "stream",
     "text": [
      "Ni Lattice a: 3.54568992127133, Lattice b: 3.54568992127133, Lattice c: 3.54568992127133\n"
     ]
    }
   ],
   "source": [
    "from maml.apps.pes import LatticeConstant\n",
    "\n",
    "Ni = Structure.from_spacegroup(sg=\"Fm-3m\", species=[\"Ni\"], lattice=Lattice.cubic(3.51), coords=[[0, 0, 0]])\n",
    "lc_calculator = LatticeConstant(ff_settings=snap)\n",
    "a, b, c = lc_calculator.calculate([Ni])[0]\n",
    "print(\"Ni\", f\"Lattice a: {a}, Lattice b: {b}, Lattice c: {c}\")"
   ]
  },
  {
   "cell_type": "code",
   "execution_count": 12,
   "metadata": {},
   "outputs": [
    {
     "name": "stdout",
     "output_type": "stream",
     "text": [
      "Mo Lattice a: 2.96446667369633, Lattice b: 2.96446667369633, Lattice c: 2.96446667369633\n"
     ]
    }
   ],
   "source": [
    "lc_calculator = LatticeConstant(ff_settings=snap)\n",
    "a, b, c = lc_calculator.calculate([Mo])[0]\n",
    "print(\"Mo\", f\"Lattice a: {a}, Lattice b: {b}, Lattice c: {c}\")"
   ]
  },
  {
   "cell_type": "code",
   "execution_count": 6,
   "metadata": {},
   "outputs": [
    {
     "name": "stdout",
     "output_type": "stream",
     "text": [
      "Ni  C11:  159.82034045317 C12:  236.570065272579 C44:  55.2780305678332\n"
     ]
    }
   ],
   "source": [
    "from maml.apps.pes import ElasticConstant\n",
    "\n",
    "Ni_ec_calculator = ElasticConstant(ff_settings=snap)\n",
    "Ni_C11, Ni_C12, Ni_C44, _ = Ni_ec_calculator.calculate([Ni])[0]\n",
    "print(\"Ni\", \" C11: \", Ni_C11, \"C12: \", Ni_C12, \"C44: \", Ni_C44)"
   ]
  },
  {
   "cell_type": "code",
   "execution_count": 8,
   "metadata": {},
   "outputs": [
    {
     "name": "stdout",
     "output_type": "stream",
     "text": [
      "Mo  C11:  -0.999219759978588 C12:  108.341414925053 C44:  5.06105663592628\n"
     ]
    }
   ],
   "source": [
    "Mo_ec_calculator = ElasticConstant(ff_settings=snap)\n",
    "Mo_C11, Mo_C12, Mo_C44, _ = Mo_ec_calculator.calculate([Mo])[0]\n",
    "print(\"Mo\", \" C11: \", Mo_C11, \"C12: \", Mo_C12, \"C44: \", Mo_C44)"
   ]
  },
  {
   "cell_type": "markdown",
   "metadata": {},
   "source": [
    "# Load from parameters files"
   ]
  },
  {
   "cell_type": "code",
   "execution_count": 14,
   "metadata": {
    "collapsed": true
   },
   "outputs": [],
   "source": [
    "snap_loaded = SNAPotential.from_config(param_file=\"SNAPotential.snapparam\", coeff_file=\"SNAPotential.snapcoeff\")"
   ]
  },
  {
   "cell_type": "markdown",
   "metadata": {},
   "source": [
    "# Energy, force, stress prediction"
   ]
  },
  {
   "cell_type": "code",
   "execution_count": 15,
   "metadata": {
    "scrolled": false
   },
   "outputs": [
    {
     "name": "stdout",
     "output_type": "stream",
     "text": [
      "energy: -1022.37044072151\n",
      "forces: \n",
      " [[-1.12509e-01  6.06865e-01  2.25153e-02]\n",
      " [ 6.24201e-01 -4.05099e-01 -8.10128e-01]\n",
      " [-4.23769e-01 -5.67866e-02  5.32287e-01]\n",
      " [ 1.74322e-01  4.02397e-01 -3.64179e-01]\n",
      " [-5.84530e-01 -1.17059e-01 -1.51485e+00]\n",
      " [ 4.67829e-01  7.84477e-02 -3.56594e-01]\n",
      " [-7.62658e-01  2.06331e-01  2.27666e-01]\n",
      " [-7.54536e-02  4.03482e-02  7.51472e-01]\n",
      " [-1.27947e+00 -4.80994e-01  2.42017e-01]\n",
      " [ 7.44870e-01 -3.07897e-01 -5.43406e-01]\n",
      " [ 5.97091e-02 -1.98807e-01 -1.41200e-02]\n",
      " [-8.52300e-01  7.18157e-02 -5.73846e-01]\n",
      " [-2.35186e-02 -1.05202e-01  6.04151e-01]\n",
      " [-2.02694e-01 -6.82459e-01 -9.84649e-02]\n",
      " [ 2.34810e-01 -8.01765e-01 -1.29139e+00]\n",
      " [-6.39804e-01 -5.74294e-01  7.74981e-02]\n",
      " [-2.79066e-01 -1.06464e-01 -2.14629e-01]\n",
      " [-2.88254e-01 -8.20037e-02 -5.44820e-01]\n",
      " [ 3.54259e-02 -2.75387e-01  1.16154e+00]\n",
      " [-4.38452e-01  1.28732e-01 -4.08173e-01]\n",
      " [-7.55223e-01  6.57518e-01  4.13182e-01]\n",
      " [-2.47282e-01 -5.77589e-02  1.83189e-01]\n",
      " [-3.24134e-01  1.51230e+00  7.10574e-01]\n",
      " [ 9.75070e-01 -2.97817e-01 -2.02393e-01]\n",
      " [-1.02428e-01 -5.40752e-01  4.93464e-01]\n",
      " [-1.17514e-01  4.75683e-01 -7.77907e-01]\n",
      " [ 5.78730e-01 -4.71585e-01  5.15101e-01]\n",
      " [-2.24809e-01 -6.51849e-01  2.62476e-02]\n",
      " [-5.12564e-01  2.08157e-03  3.93137e-01]\n",
      " [-2.47145e-01  1.00125e+00  4.14089e-01]\n",
      " [-2.27264e-01  2.17767e-01  3.00580e-02]\n",
      " [-1.89943e-01  3.60813e-01  6.18041e-01]\n",
      " [ 7.79860e-02 -2.52377e-01 -5.23692e-01]\n",
      " [-1.04204e-01  4.46268e-01  1.35061e-01]\n",
      " [-1.57158e-01 -2.91415e-01  4.91324e-01]\n",
      " [ 5.19975e-01  4.70256e-01 -2.05125e-01]\n",
      " [-3.51251e-01 -1.51208e+00  4.31793e-01]\n",
      " [ 4.18460e-01  1.57864e-01  6.47798e-01]\n",
      " [-8.87860e-01  1.97948e-01  3.72714e-02]\n",
      " [-8.09811e-01  3.51006e-01  6.64336e-01]\n",
      " [-2.66743e-01  6.68944e-02  2.45151e-01]\n",
      " [-3.54703e-01 -5.42187e-01 -3.59767e-01]\n",
      " [ 3.47607e-01  3.69583e-01 -1.13091e-01]\n",
      " [ 6.14452e-01 -5.78336e-03  3.27279e-01]\n",
      " [ 5.20084e-01 -9.17077e-01 -4.09363e-01]\n",
      " [-3.07986e-01 -6.59276e-01 -1.41852e-01]\n",
      " [-5.47813e-01 -1.05275e-01 -1.70507e-01]\n",
      " [-1.70967e-01  3.21232e-01  1.05782e-01]\n",
      " [ 1.83937e+00 -7.39130e-01 -1.02762e+00]\n",
      " [ 4.06334e-01  1.67923e-01  4.13668e-01]\n",
      " [ 1.22203e-01  1.79195e-01 -7.04739e-01]\n",
      " [ 6.18207e-01  1.88397e-03  2.31165e-01]\n",
      " [-8.33601e-01  2.37107e-01  1.31723e-01]\n",
      " [-1.60352e-01 -2.31410e-01  7.26268e-01]\n",
      " [ 1.69684e-01  2.60284e-01 -5.22542e-01]\n",
      " [-3.61526e-01 -4.07329e-01  3.74813e-01]\n",
      " [ 8.02062e-01 -7.59448e-01 -1.30878e+00]\n",
      " [ 6.60676e-01 -6.12141e-02  7.09711e-01]\n",
      " [-4.51939e-01  1.89095e-01  4.07470e-01]\n",
      " [ 7.33855e-01  2.86824e-01 -7.27722e-01]\n",
      " [ 2.26745e-01  3.24997e-01  2.32406e-01]\n",
      " [-1.32376e-01 -4.77749e-02 -8.10809e-01]\n",
      " [ 3.54671e-01  5.88558e-01  9.33684e-01]\n",
      " [ 1.25589e-01  3.56758e-01 -1.11281e-01]\n",
      " [ 5.61878e-01  6.99527e-01  2.38565e-01]\n",
      " [-4.63257e-01  4.91548e-02  4.82054e-01]\n",
      " [ 1.54711e+00  6.15847e-02 -5.98470e-01]\n",
      " [ 8.30404e-01  1.96365e-01  9.57728e-01]\n",
      " [-2.46832e-01  8.23218e-01  2.04414e-02]\n",
      " [ 7.49612e-01 -1.83262e-01 -3.81846e-01]\n",
      " [ 5.78349e-01  8.59921e-01 -7.98880e-01]\n",
      " [-1.84418e-01  3.86588e-01 -3.28922e-01]\n",
      " [ 1.91751e-01  1.06201e+00 -4.47282e-01]\n",
      " [-6.92533e-01 -1.00410e+00  4.09253e-02]\n",
      " [ 1.52217e-01 -9.34724e-02 -7.19461e-01]\n",
      " [-3.98511e-01  1.33840e+00 -7.90870e-02]\n",
      " [ 5.16461e-01  2.95680e-01 -5.81620e-01]\n",
      " [ 4.00287e-01  5.38899e-01 -3.62584e-01]\n",
      " [-3.33186e-01 -1.89673e-01 -7.55780e-01]\n",
      " [-4.50817e-01  4.90615e-01  6.80971e-02]\n",
      " [ 4.78786e-01  4.89947e-02 -1.31460e-01]\n",
      " [ 4.48390e-01 -3.89590e-02  5.56937e-01]\n",
      " [ 4.65066e-01  1.28244e-01 -3.29694e-01]\n",
      " [-1.36546e-01  3.56574e-01 -1.06770e+00]\n",
      " [-1.18582e+00 -4.96408e-01 -2.75586e-01]\n",
      " [ 7.54010e-01 -2.81166e-02 -4.42598e-04]\n",
      " [-5.40730e-01 -5.76993e-01  6.35872e-02]\n",
      " [-7.98690e-01 -2.29617e-01  4.38798e-01]\n",
      " [ 4.76404e-01  5.55391e-02  1.55878e-01]\n",
      " [ 4.81237e-01  8.51377e-01 -1.51164e-01]\n",
      " [-5.96103e-01  1.03251e+00 -3.21080e-01]\n",
      " [ 5.03235e-01  2.95311e-01 -6.75854e-01]\n",
      " [ 2.21844e-01  6.01837e-01 -1.58204e-01]\n",
      " [-5.21246e-01 -9.20003e-01  4.08852e-01]\n",
      " [-2.82690e-02 -1.43771e-01  1.02415e+00]\n",
      " [ 1.43218e-01  2.25948e-01  9.25376e-02]\n",
      " [-6.62699e-02 -5.54617e-01 -6.25249e-01]\n",
      " [-6.72712e-01  1.27286e-01  1.99332e-03]\n",
      " [-5.38669e-01  1.17021e+00  2.33102e-01]\n",
      " [-6.05270e-01  1.16976e-03  9.12624e-01]\n",
      " [ 3.27338e-01  3.94066e-02  8.47315e-01]\n",
      " [ 3.06719e-01 -4.56591e-01 -2.54468e-01]\n",
      " [ 6.04442e-01 -2.95955e-01  1.34285e-01]\n",
      " [-4.37480e-01  3.72611e-01 -8.72581e-02]\n",
      " [ 3.82621e-01  5.29172e-01  8.37332e-01]\n",
      " [-3.28893e-01 -4.18771e-01 -1.16588e-01]\n",
      " [ 3.56581e-02  4.11412e-03  3.38610e-01]\n",
      " [-6.22184e-01  6.63149e-01  6.82553e-01]\n",
      " [-9.02664e-01 -4.18027e-01  1.07990e-01]\n",
      " [ 6.07216e-01 -8.02509e-01 -1.22465e-01]\n",
      " [-5.04197e-01  1.85882e-01 -7.72074e-02]\n",
      " [ 3.85855e-01 -1.21664e-01 -7.14802e-01]\n",
      " [-4.04338e-01 -1.10554e-01  1.55895e-01]\n",
      " [ 3.21513e-01 -8.31765e-02 -2.62052e-01]\n",
      " [-1.91221e-01  4.91170e-01 -1.07294e-01]\n",
      " [-7.76277e-01  3.93934e-01  4.21796e-01]\n",
      " [ 1.49016e-01 -3.39612e-01  4.53486e-02]\n",
      " [-1.72695e-02  1.33199e-02 -5.17659e-01]\n",
      " [-1.11832e-01 -4.60069e-01 -4.13866e-01]\n",
      " [-1.67056e-01  8.78924e-01  1.11634e-01]\n",
      " [ 6.53574e-01  7.88998e-01 -9.12435e-03]\n",
      " [ 2.83163e-01 -1.88199e-01  6.26746e-01]\n",
      " [ 7.16504e-01  8.01455e-01  5.60410e-01]\n",
      " [-8.20963e-01  4.78217e-01  2.64106e-01]\n",
      " [-2.47652e-01  4.58275e-02 -1.25049e+00]\n",
      " [-1.03042e+00 -4.79313e-01 -4.83790e-04]\n",
      " [-2.30544e-01  1.56265e-01  4.38623e-01]\n",
      " [-7.85460e-02 -1.81765e+00  3.80227e-01]\n",
      " [-7.44264e-01 -1.02774e+00 -1.21523e+00]\n",
      " [ 9.97749e-02 -1.25448e+00  1.23684e+00]\n",
      " [-5.40751e-02 -8.80810e-01  1.84211e-01]\n",
      " [ 8.58312e-01 -2.69283e-01 -2.01448e-01]\n",
      " [ 6.70233e-01 -1.67919e-01  3.79013e-01]\n",
      " [ 5.93566e-01 -3.09856e-01  7.01675e-01]\n",
      " [ 1.01641e-01  2.47258e-01 -2.08951e-01]\n",
      " [ 3.20985e-01  5.19364e-02 -2.27047e-01]\n",
      " [ 1.83071e-01 -6.65406e-01 -5.11004e-01]\n",
      " [ 5.13353e-01 -1.46939e-01  1.06940e-01]\n",
      " [-1.04678e+00  8.63723e-02 -2.60551e-01]\n",
      " [ 2.91116e-01  6.07144e-01 -5.24626e-01]\n",
      " [ 3.84712e-01 -1.39558e-01 -9.59805e-02]\n",
      " [ 1.71789e-01 -1.08783e-01  5.93581e-01]\n",
      " [ 4.40303e-01 -5.22750e-01  3.28962e-01]\n",
      " [ 6.29953e-01 -5.77785e-01  9.77461e-01]]\n",
      "stresses:  [-17.09917093 -11.63578908  -7.73297427   0.06367505   0.11350299\n",
      "  -0.20134318]\n"
     ]
    }
   ],
   "source": [
    "from maml.apps.pes import EnergyForceStress\n",
    "\n",
    "efs_calculator = EnergyForceStress(ff_settings=snap_loaded)\n",
    "energy, forces, stresses = efs_calculator.calculate([train_structures[0]])[0]\n",
    "\n",
    "print(f\"energy: {energy}\")\n",
    "print(\"forces: \\n\", forces)\n",
    "print(\"stresses: \", stresses)"
   ]
  },
  {
   "cell_type": "markdown",
   "metadata": {},
   "source": [
    "# Load Ni-Mo optimized parameters\n",
    "# Citation: Phys.Rev. B2018,98, 094104"
   ]
  },
  {
   "cell_type": "code",
   "execution_count": 16,
   "metadata": {},
   "outputs": [
    {
     "name": "stdout",
     "output_type": "stream",
     "text": [
      "Ni  C11:  269.480695900637 C12:  149.622413475444 C44:  135.35839213835\n"
     ]
    }
   ],
   "source": [
    "from maml.apps.pes import ElasticConstant, SNAPotential\n",
    "\n",
    "snap_prb = SNAPotential.from_config(param_file=\"Ni_Mo.snapparam\", coeff_file=\"Ni_Mo.snapcoeff\")\n",
    "\n",
    "Ni_ec_calculator = ElasticConstant(ff_settings=snap_prb, lattice=\"fcc\", alat=3.508, atom_type=\"Ni\")\n",
    "Ni_C11, Ni_C12, Ni_C44, _ = Ni_ec_calculator.calculate()\n",
    "print(\"Ni\", \" C11: \", Ni_C11, \"C12: \", Ni_C12, \"C44: \", Ni_C44)"
   ]
  },
  {
   "cell_type": "code",
   "execution_count": 17,
   "metadata": {},
   "outputs": [
    {
     "name": "stdout",
     "output_type": "stream",
     "text": [
      "Mo  C11:  475.137183237399 C12:  162.579135041946 C44:  111.454540936551\n"
     ]
    }
   ],
   "source": [
    "Mo_ec_calculator = ElasticConstant(ff_settings=snap_prb, lattice=\"bcc\", alat=3.168, atom_type=\"Mo\")\n",
    "Mo_C11, Mo_C12, Mo_C44, _ = Mo_ec_calculator.calculate()\n",
    "print(\"Mo\", \" C11: \", Mo_C11, \"C12: \", Mo_C12, \"C44: \", Mo_C44)"
   ]
  },
  {
   "cell_type": "code",
   "execution_count": null,
   "metadata": {
    "collapsed": true
   },
   "outputs": [],
   "source": []
  }
 ],
 "metadata": {
  "kernelspec": {
   "display_name": "Python 3",
   "language": "python",
   "name": "python3"
  },
  "language_info": {
   "codemirror_mode": {
    "name": "ipython",
    "version": 3
   },
   "file_extension": ".py",
   "mimetype": "text/x-python",
   "name": "python",
   "nbconvert_exporter": "python",
   "pygments_lexer": "ipython3",
   "version": "3.8.5"
  }
 },
 "nbformat": 4,
 "nbformat_minor": 2
}
