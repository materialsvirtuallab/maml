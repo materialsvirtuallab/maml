{
 "cells": [
  {
   "cell_type": "markdown",
   "metadata": {},
   "source": [
    "# Load Ni-Mo data"
   ]
  },
  {
   "cell_type": "code",
   "execution_count": 1,
   "metadata": {},
   "outputs": [],
   "source": [
    "from __future__ import annotations\n",
    "\n",
    "from monty.serialization import loadfn\n",
    "from pymatgen import Structure\n",
    "\n",
    "data = loadfn(\"data.json\")\n",
    "train_structures = [d[\"structure\"] for d in data]\n",
    "train_energies = [d[\"outputs\"][\"energy\"] for d in data]\n",
    "train_forces = [d[\"outputs\"][\"forces\"] for d in data]\n",
    "\n",
    "vasp_stress_order = [\"xx\", \"yy\", \"zz\", \"xy\", \"yz\", \"xz\"]\n",
    "snap_stress_order = [\"xx\", \"yy\", \"zz\", \"yz\", \"xz\", \"xy\"]\n",
    "train_stresses = []\n",
    "for d in data:\n",
    "    virial_stress = d[\"outputs\"][\"stress\"]\n",
    "    train_stresses.append(\n",
    "        [virial_stress[vasp_stress_order.index(n)] * 0.1 for n in snap_stress_order]\n",
    "    )  # convert kbar to GPa"
   ]
  },
  {
   "cell_type": "markdown",
   "metadata": {},
   "source": [
    "# Setup the initial weights for training (If not, the weights for energy, force, and stress will be both equal to 1)"
   ]
  },
  {
   "cell_type": "code",
   "execution_count": 2,
   "metadata": {},
   "outputs": [],
   "source": [
    "import numpy as np\n",
    "\n",
    "from maml.utils import convert_docs, pool_from\n",
    "\n",
    "train_pool = pool_from(train_structures, train_energies, train_forces, train_stresses)\n",
    "_, df = convert_docs(train_pool, include_stress=True)\n",
    "\n",
    "weights = np.ones(\n",
    "    len(df[\"dtype\"]),\n",
    ")\n",
    "\n",
    "# set the weights for energy equal to 100\n",
    "weights[df[\"dtype\"] == \"energy\"] = 100\n",
    "weights[df[\"dtype\"] == \"force\"] = 1\n",
    "weights[df[\"dtype\"] == \"stress\"] = 0.01"
   ]
  },
  {
   "cell_type": "markdown",
   "metadata": {},
   "source": [
    "# Set up the SNAP and train"
   ]
  },
  {
   "cell_type": "code",
   "execution_count": 3,
   "metadata": {},
   "outputs": [
    {
     "name": "stderr",
     "output_type": "stream",
     "text": [
      "INFO:maml.apps.pes._lammps:Setting Lammps executable to lmp_serial\n",
      "INFO:maml.utils._lammps:Structure index 0 is rotated.\n",
      "INFO:maml.utils._lammps:Structure index 1 is rotated.\n",
      "INFO:maml.utils._lammps:Structure index 2 is rotated.\n",
      "INFO:maml.utils._lammps:Structure index 3 is rotated.\n",
      "INFO:maml.utils._lammps:Structure index 4 is rotated.\n",
      "INFO:maml.utils._lammps:Structure index 5 is rotated.\n",
      "INFO:maml.utils._lammps:Structure index 6 is rotated.\n",
      "INFO:maml.utils._lammps:Structure index 7 is rotated.\n",
      "INFO:maml.utils._lammps:Structure index 8 is rotated.\n",
      "INFO:maml.utils._lammps:Structure index 9 is rotated.\n"
     ]
    }
   ],
   "source": [
    "from sklearn.linear_model import LinearRegression\n",
    "\n",
    "from maml.apps.pes import SNAPotential\n",
    "from maml.base import SKLModel\n",
    "from maml.describers import BispectrumCoefficients\n",
    "\n",
    "element_profile = {\"Mo\": {\"r\": 5.0, \"w\": 1}, \"Ni\": {\"r\": 5.0, \"w\": 1}}\n",
    "describer = BispectrumCoefficients(\n",
    "    rcutfac=0.5, twojmax=6, element_profile=element_profile, quadratic=False, pot_fit=True, include_stress=True\n",
    ")\n",
    "model = SKLModel(describer=describer, model=LinearRegression())\n",
    "snap = SNAPotential(model=model)\n",
    "snap.train(train_structures, train_energies, train_forces, train_stresses, include_stress=True, sample_weight=weights)"
   ]
  },
  {
   "cell_type": "markdown",
   "metadata": {},
   "source": [
    "# Predict the energies, forces, and stresses of training data"
   ]
  },
  {
   "cell_type": "code",
   "execution_count": 4,
   "metadata": {},
   "outputs": [
    {
     "name": "stderr",
     "output_type": "stream",
     "text": [
      "INFO:maml.utils._lammps:Structure index 0 is rotated.\n",
      "INFO:maml.utils._lammps:Structure index 1 is rotated.\n",
      "INFO:maml.utils._lammps:Structure index 2 is rotated.\n",
      "INFO:maml.utils._lammps:Structure index 3 is rotated.\n",
      "INFO:maml.utils._lammps:Structure index 4 is rotated.\n",
      "INFO:maml.utils._lammps:Structure index 5 is rotated.\n",
      "INFO:maml.utils._lammps:Structure index 6 is rotated.\n",
      "INFO:maml.utils._lammps:Structure index 7 is rotated.\n",
      "INFO:maml.utils._lammps:Structure index 8 is rotated.\n",
      "INFO:maml.utils._lammps:Structure index 9 is rotated.\n"
     ]
    }
   ],
   "source": [
    "df_orig, df_predict = snap.evaluate(\n",
    "    test_structures=train_structures,\n",
    "    test_energies=train_energies,\n",
    "    test_forces=train_forces,\n",
    "    test_stresses=train_stresses,\n",
    "    include_stress=True,\n",
    ")"
   ]
  },
  {
   "cell_type": "code",
   "execution_count": 5,
   "metadata": {},
   "outputs": [
    {
     "data": {
      "text/html": [
       "<div>\n",
       "<style scoped>\n",
       "    .dataframe tbody tr th:only-of-type {\n",
       "        vertical-align: middle;\n",
       "    }\n",
       "\n",
       "    .dataframe tbody tr th {\n",
       "        vertical-align: top;\n",
       "    }\n",
       "\n",
       "    .dataframe thead th {\n",
       "        text-align: right;\n",
       "    }\n",
       "</style>\n",
       "<table border=\"1\" class=\"dataframe\">\n",
       "  <thead>\n",
       "    <tr style=\"text-align: right;\">\n",
       "      <th></th>\n",
       "      <th>y_orig</th>\n",
       "      <th>n</th>\n",
       "      <th>dtype</th>\n",
       "    </tr>\n",
       "  </thead>\n",
       "  <tbody>\n",
       "    <tr>\n",
       "      <th>0</th>\n",
       "      <td>-1022.306395</td>\n",
       "      <td>144.0</td>\n",
       "      <td>energy</td>\n",
       "    </tr>\n",
       "    <tr>\n",
       "      <th>439</th>\n",
       "      <td>-1021.230551</td>\n",
       "      <td>144.0</td>\n",
       "      <td>energy</td>\n",
       "    </tr>\n",
       "    <tr>\n",
       "      <th>878</th>\n",
       "      <td>-968.144050</td>\n",
       "      <td>144.0</td>\n",
       "      <td>energy</td>\n",
       "    </tr>\n",
       "    <tr>\n",
       "      <th>1317</th>\n",
       "      <td>-974.611306</td>\n",
       "      <td>144.0</td>\n",
       "      <td>energy</td>\n",
       "    </tr>\n",
       "    <tr>\n",
       "      <th>1756</th>\n",
       "      <td>-968.823465</td>\n",
       "      <td>144.0</td>\n",
       "      <td>energy</td>\n",
       "    </tr>\n",
       "    <tr>\n",
       "      <th>2195</th>\n",
       "      <td>-1008.715833</td>\n",
       "      <td>144.0</td>\n",
       "      <td>energy</td>\n",
       "    </tr>\n",
       "    <tr>\n",
       "      <th>2634</th>\n",
       "      <td>-1020.500077</td>\n",
       "      <td>144.0</td>\n",
       "      <td>energy</td>\n",
       "    </tr>\n",
       "    <tr>\n",
       "      <th>3073</th>\n",
       "      <td>-958.943061</td>\n",
       "      <td>144.0</td>\n",
       "      <td>energy</td>\n",
       "    </tr>\n",
       "    <tr>\n",
       "      <th>3512</th>\n",
       "      <td>-1008.551143</td>\n",
       "      <td>144.0</td>\n",
       "      <td>energy</td>\n",
       "    </tr>\n",
       "    <tr>\n",
       "      <th>3951</th>\n",
       "      <td>-972.534965</td>\n",
       "      <td>144.0</td>\n",
       "      <td>energy</td>\n",
       "    </tr>\n",
       "  </tbody>\n",
       "</table>\n",
       "</div>"
      ],
      "text/plain": [
       "           y_orig      n   dtype\n",
       "0    -1022.306395  144.0  energy\n",
       "439  -1021.230551  144.0  energy\n",
       "878   -968.144050  144.0  energy\n",
       "1317  -974.611306  144.0  energy\n",
       "1756  -968.823465  144.0  energy\n",
       "2195 -1008.715833  144.0  energy\n",
       "2634 -1020.500077  144.0  energy\n",
       "3073  -958.943061  144.0  energy\n",
       "3512 -1008.551143  144.0  energy\n",
       "3951  -972.534965  144.0  energy"
      ]
     },
     "execution_count": 5,
     "metadata": {},
     "output_type": "execute_result"
    }
   ],
   "source": [
    "df_predict[df_predict[\"dtype\"] == \"energy\"]"
   ]
  },
  {
   "cell_type": "markdown",
   "metadata": {},
   "source": [
    "# Lattice constants, Elastic constant\n",
    "### Large error due to limited training data -- 10 structures"
   ]
  },
  {
   "cell_type": "code",
   "execution_count": null,
   "metadata": {},
   "outputs": [],
   "source": [
    "from pymatgen.core import Lattice\n",
    "\n",
    "Ni = Structure.from_spacegroup(sg=\"Fm-3m\", species=[\"Ni\"], lattice=Lattice.cubic(3.51), coords=[[0, 0, 0]])\n",
    "Mo = Structure.from_spacegroup(sg=\"Im-3m\", species=[\"Mo\"], lattice=Lattice.cubic(3.17), coords=[[0, 0, 0]])"
   ]
  },
  {
   "cell_type": "code",
   "execution_count": 8,
   "metadata": {},
   "outputs": [
    {
     "name": "stderr",
     "output_type": "stream",
     "text": [
      "INFO:maml.apps.pes._lammps:Setting Lammps executable to lmp_serial\n"
     ]
    },
    {
     "name": "stdout",
     "output_type": "stream",
     "text": [
      "Ni Lattice a: 3.59493228412543, Lattice b: 3.59493228412543, Lattice c: 3.59493228412543\n"
     ]
    }
   ],
   "source": [
    "from maml.apps.pes import LatticeConstant\n",
    "\n",
    "lc_calculator = LatticeConstant(ff_settings=snap)\n",
    "a, b, c = lc_calculator.calculate([Ni])[0]\n",
    "print(\"Ni\", f\"Lattice a: {a}, Lattice b: {b}, Lattice c: {c}\")"
   ]
  },
  {
   "cell_type": "code",
   "execution_count": 9,
   "metadata": {},
   "outputs": [
    {
     "name": "stderr",
     "output_type": "stream",
     "text": [
      "INFO:maml.apps.pes._lammps:Setting Lammps executable to lmp_serial\n"
     ]
    },
    {
     "name": "stdout",
     "output_type": "stream",
     "text": [
      "Mo Lattice a: 3.05442684929677, Lattice b: 3.05442684929677, Lattice c: 3.05442684929678\n"
     ]
    }
   ],
   "source": [
    "lc_calculator = LatticeConstant(ff_settings=snap)\n",
    "a, b, c = lc_calculator.calculate([Mo])[0]\n",
    "print(\"Mo\", f\"Lattice a: {a}, Lattice b: {b}, Lattice c: {c}\")"
   ]
  },
  {
   "cell_type": "code",
   "execution_count": 6,
   "metadata": {},
   "outputs": [
    {
     "name": "stderr",
     "output_type": "stream",
     "text": [
      "INFO:maml.apps.pes._lammps:Setting Lammps executable to lmp_serial\n"
     ]
    },
    {
     "name": "stdout",
     "output_type": "stream",
     "text": [
      "Ni  C11:  314.169856583909 C12:  308.660699662111 C44:  69.7476168000187\n"
     ]
    }
   ],
   "source": [
    "from maml.apps.pes import ElasticConstant\n",
    "\n",
    "Ni_ec_calculator = ElasticConstant(ff_settings=snap)\n",
    "Ni_C11, Ni_C12, Ni_C44, _ = Ni_ec_calculator.calculate()\n",
    "print(\"Ni\", \" C11: \", Ni_C11, \"C12: \", Ni_C12, \"C44: \", Ni_C44)"
   ]
  },
  {
   "cell_type": "code",
   "execution_count": 7,
   "metadata": {},
   "outputs": [
    {
     "name": "stderr",
     "output_type": "stream",
     "text": [
      "INFO:maml.apps.pes._lammps:Setting Lammps executable to lmp_serial\n"
     ]
    },
    {
     "name": "stdout",
     "output_type": "stream",
     "text": [
      "Mo  C11:  33.0332580471668 C12:  129.122105036582 C44:  4.45521235633949\n"
     ]
    }
   ],
   "source": [
    "Mo_ec_calculator = ElasticConstant(ff_settings=snap)\n",
    "Mo_C11, Mo_C12, Mo_C44, _ = Mo_ec_calculator.calculate()\n",
    "print(\"Mo\", \" C11: \", Mo_C11, \"C12: \", Mo_C12, \"C44: \", Mo_C44)"
   ]
  }
 ],
 "metadata": {
  "kernelspec": {
   "display_name": "Python 3",
   "language": "python",
   "name": "python3"
  },
  "language_info": {
   "codemirror_mode": {
    "name": "ipython",
    "version": 3
   },
   "file_extension": ".py",
   "mimetype": "text/x-python",
   "name": "python",
   "nbconvert_exporter": "python",
   "pygments_lexer": "ipython3",
   "version": "3.8.5"
  }
 },
 "nbformat": 4,
 "nbformat_minor": 4
}
