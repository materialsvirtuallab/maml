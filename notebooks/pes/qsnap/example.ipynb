{
 "cells": [
  {
   "cell_type": "markdown",
   "metadata": {},
   "source": [
    "# Load Ni-Mo data"
   ]
  },
  {
   "cell_type": "code",
   "execution_count": 3,
   "metadata": {},
   "outputs": [],
   "source": [
    "from __future__ import annotations\n",
    "\n",
    "from monty.serialization import loadfn\n",
    "from pymatgen.core import Structure\n",
    "\n",
    "data = loadfn(\"data.json\")\n",
    "train_structures = [d[\"structure\"] for d in data]\n",
    "train_energies = [d[\"outputs\"][\"energy\"] for d in data]\n",
    "train_forces = [d[\"outputs\"][\"forces\"] for d in data]"
   ]
  },
  {
   "cell_type": "markdown",
   "metadata": {},
   "source": [
    "# Setup the initial weights for training (If not, the weights for energy and force will be both equal to 1)"
   ]
  },
  {
   "cell_type": "code",
   "execution_count": 2,
   "metadata": {
    "collapsed": true
   },
   "outputs": [],
   "source": [
    "import numpy as np\n",
    "\n",
    "from maml.utils import convert_docs, pool_from\n",
    "\n",
    "train_pool = pool_from(train_structures, train_energies, train_forces)\n",
    "_, df = convert_docs(train_pool)\n",
    "\n",
    "weights = np.ones(\n",
    "    len(df[\"dtype\"]),\n",
    ")\n",
    "\n",
    "# set the weights for energy equal to 100\n",
    "weights[df[\"dtype\"] == \"energy\"] = 100"
   ]
  },
  {
   "cell_type": "markdown",
   "metadata": {},
   "source": [
    "# Set up the qSNAP and train"
   ]
  },
  {
   "cell_type": "code",
   "execution_count": 3,
   "metadata": {
    "collapsed": true
   },
   "outputs": [],
   "source": [
    "from sklearn.linear_model import LinearRegression\n",
    "\n",
    "from maml.apps.pes import SNAPotential\n",
    "from maml.describers import BispectrumCoefficients\n",
    "\n",
    "element_profile = {\"Mo\": {\"r\": 5.0, \"w\": 1}, \"Ni\": {\"r\": 5.0, \"w\": 1}}\n",
    "describer = BispectrumCoefficients(\n",
    "    rcutfac=0.5, twojmax=6, element_profile=element_profile, quadratic=True, pot_fit=True\n",
    ")\n",
    "model = ModelWithSklearn(describer=describer, model=LinearRegression())\n",
    "qsnap = SNAPotential(model=model)\n",
    "qsnap.train(train_structures, train_energies, train_forces, sample_weight=weights)"
   ]
  },
  {
   "cell_type": "markdown",
   "metadata": {},
   "source": [
    "# Predict the energies, forces of training data"
   ]
  },
  {
   "cell_type": "code",
   "execution_count": 4,
   "metadata": {
    "collapsed": true
   },
   "outputs": [],
   "source": [
    "df_orig, df_predict = qsnap.evaluate(\n",
    "    test_structures=train_structures, test_energies=train_energies, test_forces=train_forces, test_stresses=None\n",
    ")"
   ]
  },
  {
   "cell_type": "code",
   "execution_count": 5,
   "metadata": {},
   "outputs": [
    {
     "data": {
      "text/html": [
       "<div>\n",
       "<style scoped>\n",
       "    .dataframe tbody tr th:only-of-type {\n",
       "        vertical-align: middle;\n",
       "    }\n",
       "\n",
       "    .dataframe tbody tr th {\n",
       "        vertical-align: top;\n",
       "    }\n",
       "\n",
       "    .dataframe thead th {\n",
       "        text-align: right;\n",
       "    }\n",
       "</style>\n",
       "<table border=\"1\" class=\"dataframe\">\n",
       "  <thead>\n",
       "    <tr style=\"text-align: right;\">\n",
       "      <th></th>\n",
       "      <th>y_orig</th>\n",
       "      <th>n</th>\n",
       "      <th>dtype</th>\n",
       "    </tr>\n",
       "  </thead>\n",
       "  <tbody>\n",
       "    <tr>\n",
       "      <td>0</td>\n",
       "      <td>-1022.381457</td>\n",
       "      <td>144.0</td>\n",
       "      <td>energy</td>\n",
       "    </tr>\n",
       "    <tr>\n",
       "      <td>433</td>\n",
       "      <td>-1021.510280</td>\n",
       "      <td>144.0</td>\n",
       "      <td>energy</td>\n",
       "    </tr>\n",
       "    <tr>\n",
       "      <td>866</td>\n",
       "      <td>-968.132281</td>\n",
       "      <td>144.0</td>\n",
       "      <td>energy</td>\n",
       "    </tr>\n",
       "    <tr>\n",
       "      <td>1299</td>\n",
       "      <td>-974.413236</td>\n",
       "      <td>144.0</td>\n",
       "      <td>energy</td>\n",
       "    </tr>\n",
       "    <tr>\n",
       "      <td>1732</td>\n",
       "      <td>-968.107605</td>\n",
       "      <td>144.0</td>\n",
       "      <td>energy</td>\n",
       "    </tr>\n",
       "    <tr>\n",
       "      <td>2165</td>\n",
       "      <td>-1009.098989</td>\n",
       "      <td>144.0</td>\n",
       "      <td>energy</td>\n",
       "    </tr>\n",
       "    <tr>\n",
       "      <td>2598</td>\n",
       "      <td>-1020.787494</td>\n",
       "      <td>144.0</td>\n",
       "      <td>energy</td>\n",
       "    </tr>\n",
       "    <tr>\n",
       "      <td>3031</td>\n",
       "      <td>-958.864667</td>\n",
       "      <td>144.0</td>\n",
       "      <td>energy</td>\n",
       "    </tr>\n",
       "    <tr>\n",
       "      <td>3464</td>\n",
       "      <td>-1008.968115</td>\n",
       "      <td>144.0</td>\n",
       "      <td>energy</td>\n",
       "    </tr>\n",
       "    <tr>\n",
       "      <td>3897</td>\n",
       "      <td>-972.094278</td>\n",
       "      <td>144.0</td>\n",
       "      <td>energy</td>\n",
       "    </tr>\n",
       "  </tbody>\n",
       "</table>\n",
       "</div>"
      ],
      "text/plain": [
       "           y_orig      n   dtype\n",
       "0    -1022.381457  144.0  energy\n",
       "433  -1021.510280  144.0  energy\n",
       "866   -968.132281  144.0  energy\n",
       "1299  -974.413236  144.0  energy\n",
       "1732  -968.107605  144.0  energy\n",
       "2165 -1009.098989  144.0  energy\n",
       "2598 -1020.787494  144.0  energy\n",
       "3031  -958.864667  144.0  energy\n",
       "3464 -1008.968115  144.0  energy\n",
       "3897  -972.094278  144.0  energy"
      ]
     },
     "execution_count": 5,
     "metadata": {},
     "output_type": "execute_result"
    }
   ],
   "source": [
    "df_predict[df_predict[\"dtype\"] == \"energy\"]"
   ]
  },
  {
   "cell_type": "markdown",
   "metadata": {},
   "source": [
    "# Lattice constant, Elastic constant\n",
    "### Large error due to limited training data -- 10 structures"
   ]
  },
  {
   "cell_type": "code",
   "execution_count": 5,
   "metadata": {},
   "outputs": [],
   "source": [
    "from pymatgen.core import Lattice\n",
    "\n",
    "Ni = Structure.from_spacegroup(sg=\"Fm-3m\", species=[\"Ni\"], lattice=Lattice.cubic(3.51), coords=[[0, 0, 0]])\n",
    "Mo = Structure.from_spacegroup(sg=\"Im-3m\", species=[\"Mo\"], lattice=Lattice.cubic(3.17), coords=[[0, 0, 0]])"
   ]
  },
  {
   "cell_type": "code",
   "execution_count": 6,
   "metadata": {},
   "outputs": [
    {
     "name": "stdout",
     "output_type": "stream",
     "text": [
      "Ni  C11:  217682520.879883 C12:  7589991.25 C44:  -92536033.9965\n"
     ]
    }
   ],
   "source": [
    "from maml.apps.pes import ElasticConstant\n",
    "\n",
    "Ni_ec_calculator = ElasticConstant(ff_settings=qsnap)\n",
    "Ni_C11, Ni_C12, Ni_C44, _ = Ni_ec_calculator.calculate([Ni])[0]\n",
    "print(\"Ni\", \" C11: \", Ni_C11, \"C12: \", Ni_C12, \"C44: \", Ni_C44)"
   ]
  },
  {
   "cell_type": "code",
   "execution_count": 7,
   "metadata": {},
   "outputs": [
    {
     "name": "stdout",
     "output_type": "stream",
     "text": [
      "Mo  C11:  -339.481069999747 C12:  -281.969206500333 C44:  287304.423364424\n"
     ]
    }
   ],
   "source": [
    "Mo_ec_calculator = ElasticConstant(ff_settings=qsnap)\n",
    "Mo_C11, Mo_C12, Mo_C44, _ = Mo_ec_calculator.calculate([Mo])[0]\n",
    "print(\"Mo\", \" C11: \", Mo_C11, \"C12: \", Mo_C12, \"C44: \", Mo_C44)"
   ]
  },
  {
   "cell_type": "markdown",
   "metadata": {},
   "source": [
    "# Load from parameters files"
   ]
  },
  {
   "cell_type": "code",
   "execution_count": 9,
   "metadata": {
    "collapsed": true
   },
   "outputs": [],
   "source": [
    "qsnap_loaded = SNAPotential.from_config(param_file=\"SNAPotential.snapparam\", coeff_file=\"SNAPotential.snapcoeff\")"
   ]
  },
  {
   "cell_type": "markdown",
   "metadata": {},
   "source": [
    "# Energy, force, stress prediction"
   ]
  },
  {
   "cell_type": "code",
   "execution_count": 10,
   "metadata": {
    "scrolled": false
   },
   "outputs": [
    {
     "name": "stdout",
     "output_type": "stream",
     "text": [
      "energy: -1022.38144474744\n",
      "forces: \n",
      " [[-0.104955    0.602339    0.0869616 ]\n",
      " [ 0.566629   -0.416801   -0.767495  ]\n",
      " [-0.431159   -0.0925376   0.529552  ]\n",
      " [ 0.195108    0.356172   -0.401171  ]\n",
      " [-0.609619   -0.0679634  -1.50584   ]\n",
      " [ 0.438837    0.0907875  -0.254665  ]\n",
      " [-0.697364    0.154224    0.264859  ]\n",
      " [-0.141106    0.0327338   0.764932  ]\n",
      " [-1.22901    -0.512032    0.242512  ]\n",
      " [ 0.684857   -0.33278    -0.464771  ]\n",
      " [ 0.0443069  -0.12094     0.0441682 ]\n",
      " [-0.802489    0.0899697  -0.591699  ]\n",
      " [-0.0910656  -0.132209    0.617263  ]\n",
      " [-0.201382   -0.605774   -0.107575  ]\n",
      " [ 0.293304   -0.775934   -1.30117   ]\n",
      " [-0.628046   -0.540387    0.219001  ]\n",
      " [-0.210253   -0.151532   -0.116492  ]\n",
      " [-0.223493   -0.0582363  -0.540316  ]\n",
      " [-0.0291229  -0.336132    1.15714   ]\n",
      " [-0.375756    0.204714   -0.446726  ]\n",
      " [-0.715109    0.598777    0.427773  ]\n",
      " [-0.224202   -0.00220803  0.0843487 ]\n",
      " [-0.240748    1.51498     0.823912  ]\n",
      " [ 0.943472   -0.347317   -0.281062  ]\n",
      " [-0.0558738  -0.540331    0.451614  ]\n",
      " [-0.114206    0.452298   -0.783871  ]\n",
      " [ 0.509999   -0.468336    0.541191  ]\n",
      " [-0.194868   -0.648508   -0.148097  ]\n",
      " [-0.523799    0.0553489   0.378309  ]\n",
      " [-0.310721    0.989214    0.368336  ]\n",
      " [-0.239675    0.195932   -0.0453734 ]\n",
      " [-0.216035    0.380012    0.579263  ]\n",
      " [ 0.142236   -0.307978   -0.497646  ]\n",
      " [-0.090873    0.452416    0.174987  ]\n",
      " [-0.214311   -0.27515     0.537159  ]\n",
      " [ 0.500118    0.465126   -0.241464  ]\n",
      " [-0.404567   -1.42146     0.390391  ]\n",
      " [ 0.381247    0.22225     0.614318  ]\n",
      " [-0.786795    0.370049   -0.0295812 ]\n",
      " [-0.746848    0.393865    0.653432  ]\n",
      " [-0.21886     0.18336     0.32555   ]\n",
      " [-0.355329   -0.441207   -0.379174  ]\n",
      " [ 0.332073    0.408425   -0.0710264 ]\n",
      " [ 0.722604    0.164828    0.274826  ]\n",
      " [ 0.451138   -0.88309    -0.387207  ]\n",
      " [-0.276406   -0.633134   -0.131414  ]\n",
      " [-0.493276   -0.0677465  -0.160647  ]\n",
      " [-0.168265    0.336408    0.0541915 ]\n",
      " [ 1.75516    -0.656974   -1.05089   ]\n",
      " [ 0.401122    0.261868    0.455417  ]\n",
      " [ 0.0528009   0.174086   -0.70574   ]\n",
      " [ 0.629579    0.0629568   0.229787  ]\n",
      " [-0.779174    0.327586    0.0462483 ]\n",
      " [-0.10819    -0.247268    0.65372   ]\n",
      " [ 0.102134    0.310713   -0.49826   ]\n",
      " [-0.332013   -0.424202    0.428157  ]\n",
      " [ 0.758643   -0.801197   -1.31572   ]\n",
      " [ 0.660788   -0.167287    0.744715  ]\n",
      " [-0.38507     0.206169    0.453148  ]\n",
      " [ 0.644517    0.186223   -0.776974  ]\n",
      " [ 0.290098    0.213862    0.304878  ]\n",
      " [-0.0381981  -0.189907   -0.765727  ]\n",
      " [ 0.331251    0.545145    0.88367   ]\n",
      " [ 0.0308131   0.340313   -0.131971  ]\n",
      " [ 0.469827    0.64181     0.211329  ]\n",
      " [-0.488154   -0.0269324   0.439518  ]\n",
      " [ 1.51019    -0.0690288  -0.65565   ]\n",
      " [ 0.705864    0.00931351  0.940995  ]\n",
      " [-0.151513    0.700618    0.083604  ]\n",
      " [ 0.699984   -0.211708   -0.38998   ]\n",
      " [ 0.45304     0.846762   -0.728316  ]\n",
      " [-0.120388    0.364965   -0.265854  ]\n",
      " [ 0.151809    1.023      -0.420027  ]\n",
      " [-0.685731   -0.973362    0.0464495 ]\n",
      " [ 0.166165   -0.0646524  -0.680766  ]\n",
      " [-0.377132    1.20065     0.0141573 ]\n",
      " [ 0.465649    0.138713   -0.588521  ]\n",
      " [ 0.353392    0.603518   -0.300495  ]\n",
      " [-0.267469   -0.265928   -0.728204  ]\n",
      " [-0.457886    0.492664    0.0551809 ]\n",
      " [ 0.385353    0.0725665  -0.0444217 ]\n",
      " [ 0.341805   -0.0671345   0.55536   ]\n",
      " [ 0.382459    0.131273   -0.294501  ]\n",
      " [-0.116322    0.345085   -1.03915   ]\n",
      " [-1.07144    -0.495115   -0.260541  ]\n",
      " [ 0.680487    0.0438591   0.0381675 ]\n",
      " [-0.483645   -0.593153    0.0285895 ]\n",
      " [-0.737909   -0.219335    0.444502  ]\n",
      " [ 0.429246    0.0738499   0.0985763 ]\n",
      " [ 0.464176    0.804546   -0.0758658 ]\n",
      " [-0.582448    1.00273    -0.292553  ]\n",
      " [ 0.447993    0.189195   -0.700017  ]\n",
      " [ 0.176993    0.569199   -0.167242  ]\n",
      " [-0.51043    -1.02856     0.427919  ]\n",
      " [-0.0311898  -0.140534    1.0457    ]\n",
      " [ 0.129166    0.157847    0.0479167 ]\n",
      " [-0.0157188  -0.556342   -0.612677  ]\n",
      " [-0.606744    0.139945   -0.0670799 ]\n",
      " [-0.485767    1.12904     0.186151  ]\n",
      " [-0.566772    0.036733    0.844453  ]\n",
      " [ 0.310652    0.0860629   0.757887  ]\n",
      " [ 0.318538   -0.404119   -0.232625  ]\n",
      " [ 0.526625   -0.274862    0.0350093 ]\n",
      " [-0.476758    0.354049   -0.108087  ]\n",
      " [ 0.38861     0.518083    0.815569  ]\n",
      " [-0.353337   -0.404283   -0.214681  ]\n",
      " [ 0.045978    0.109234    0.266444  ]\n",
      " [-0.501825    0.640903    0.733254  ]\n",
      " [-0.855785   -0.308283    0.110907  ]\n",
      " [ 0.486385   -0.577689   -0.00901436]\n",
      " [-0.406635    0.283275   -0.0567626 ]\n",
      " [ 0.442336   -0.0249724  -0.67666   ]\n",
      " [-0.281739    0.00701947  0.0740993 ]\n",
      " [ 0.391316   -0.0579839  -0.270114  ]\n",
      " [-0.195648    0.553337   -0.091641  ]\n",
      " [-0.67901     0.481556    0.418468  ]\n",
      " [ 0.180831   -0.304022   -0.0434444 ]\n",
      " [-0.0318529   0.117025   -0.469211  ]\n",
      " [-0.0150955  -0.322596   -0.395979  ]\n",
      " [-0.150221    0.890769    0.164596  ]\n",
      " [ 0.629205    0.880772   -0.0360626 ]\n",
      " [ 0.319335   -0.0517282   0.609827  ]\n",
      " [ 0.635928    0.863938    0.534914  ]\n",
      " [-0.772237    0.433585    0.218609  ]\n",
      " [-0.225758    0.138835   -1.14148   ]\n",
      " [-0.857267   -0.379945    0.0752741 ]\n",
      " [-0.18011     0.19498     0.412287  ]\n",
      " [-0.0663411  -1.70494     0.35666   ]\n",
      " [-0.708641   -1.06613    -1.14552   ]\n",
      " [ 0.00991352 -1.25281     1.18021   ]\n",
      " [-0.0757271  -0.953581    0.094133  ]\n",
      " [ 0.748917   -0.337759   -0.163878  ]\n",
      " [ 0.537285   -0.296754    0.331572  ]\n",
      " [ 0.485064   -0.365644    0.638585  ]\n",
      " [ 0.0837141   0.174847   -0.137643  ]\n",
      " [ 0.315839   -0.0251022  -0.26803   ]\n",
      " [ 0.143799   -0.730056   -0.437431  ]\n",
      " [ 0.52726    -0.220866    0.10437   ]\n",
      " [-0.884538   -0.0141369  -0.139522  ]\n",
      " [ 0.270152    0.403412   -0.436616  ]\n",
      " [ 0.300065   -0.253792   -0.0532267 ]\n",
      " [ 0.170996   -0.199634    0.464913  ]\n",
      " [ 0.408344   -0.571442    0.227232  ]\n",
      " [ 0.529892   -0.711242    0.800146  ]]\n",
      "stresses:  [-1.66207988e+02 -1.61924616e+02 -1.57995045e+02  6.01353199e-02\n",
      "  1.03653807e-01 -2.55878064e-01]\n"
     ]
    }
   ],
   "source": [
    "from maml.apps.pes import EnergyForceStress\n",
    "\n",
    "efs_calculator = EnergyForceStress(ff_settings=qsnap_loaded)\n",
    "energy, forces, stresses = efs_calculator.calculate([train_structures[0]])[0]\n",
    "\n",
    "print(f\"energy: {energy}\")\n",
    "print(\"forces: \\n\", forces)\n",
    "print(\"stresses: \", stresses)"
   ]
  },
  {
   "cell_type": "code",
   "execution_count": null,
   "metadata": {
    "collapsed": true
   },
   "outputs": [],
   "source": []
  }
 ],
 "metadata": {
  "kernelspec": {
   "display_name": "Python 3",
   "language": "python",
   "name": "python3"
  },
  "language_info": {
   "codemirror_mode": {
    "name": "ipython",
    "version": 3
   },
   "file_extension": ".py",
   "mimetype": "text/x-python",
   "name": "python",
   "nbconvert_exporter": "python",
   "pygments_lexer": "ipython3",
   "version": "3.8.5"
  }
 },
 "nbformat": 4,
 "nbformat_minor": 2
}
