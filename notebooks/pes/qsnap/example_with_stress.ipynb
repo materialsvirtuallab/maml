{
 "cells": [
  {
   "cell_type": "markdown",
   "metadata": {},
   "source": [
    "# Load Ni-Mo data"
   ]
  },
  {
   "cell_type": "code",
   "execution_count": 1,
   "metadata": {},
   "outputs": [],
   "source": [
    "from __future__ import annotations\n",
    "\n",
    "from monty.serialization import loadfn\n",
    "from pymatgen import Structure\n",
    "\n",
    "data = loadfn(\"data.json\")\n",
    "train_structures = [d[\"structure\"] for d in data]\n",
    "train_energies = [d[\"outputs\"][\"energy\"] for d in data]\n",
    "train_forces = [d[\"outputs\"][\"forces\"] for d in data]\n",
    "\n",
    "vasp_stress_order = [\"xx\", \"yy\", \"zz\", \"xy\", \"yz\", \"xz\"]\n",
    "snap_stress_order = [\"xx\", \"yy\", \"zz\", \"yz\", \"xz\", \"xy\"]\n",
    "train_stresses = []\n",
    "for d in data:\n",
    "    virial_stress = d[\"outputs\"][\"stress\"]\n",
    "    train_stresses.append(\n",
    "        [virial_stress[vasp_stress_order.index(n)] * 0.1 for n in snap_stress_order]\n",
    "    )  # convert kbar to GPa"
   ]
  },
  {
   "cell_type": "markdown",
   "metadata": {},
   "source": [
    "# Setup the initial weights for training (If not, the weights for energy, force, and stress will be both equal to 1)"
   ]
  },
  {
   "cell_type": "code",
   "execution_count": 2,
   "metadata": {},
   "outputs": [],
   "source": [
    "import numpy as np\n",
    "\n",
    "from maml.utils import convert_docs, pool_from\n",
    "\n",
    "train_pool = pool_from(train_structures, train_energies, train_forces, train_stresses)\n",
    "_, df = convert_docs(train_pool, include_stress=True)\n",
    "\n",
    "weights = np.ones(\n",
    "    len(df[\"dtype\"]),\n",
    ")\n",
    "\n",
    "# set the weights for energy equal to 100\n",
    "weights[df[\"dtype\"] == \"energy\"] = 100\n",
    "weights[df[\"dtype\"] == \"force\"] = 1\n",
    "weights[df[\"dtype\"] == \"stress\"] = 0.01"
   ]
  },
  {
   "cell_type": "markdown",
   "metadata": {},
   "source": [
    "# Set up the SNAP and train"
   ]
  },
  {
   "cell_type": "code",
   "execution_count": 3,
   "metadata": {},
   "outputs": [
    {
     "name": "stderr",
     "output_type": "stream",
     "text": [
      "INFO:maml.apps.pes._lammps:Setting Lammps executable to lmp_serial\n",
      "INFO:maml.utils._lammps:Structure index 0 is rotated.\n",
      "INFO:maml.utils._lammps:Structure index 1 is rotated.\n",
      "INFO:maml.utils._lammps:Structure index 2 is rotated.\n",
      "INFO:maml.utils._lammps:Structure index 3 is rotated.\n",
      "INFO:maml.utils._lammps:Structure index 4 is rotated.\n",
      "INFO:maml.utils._lammps:Structure index 5 is rotated.\n",
      "INFO:maml.utils._lammps:Structure index 6 is rotated.\n",
      "INFO:maml.utils._lammps:Structure index 7 is rotated.\n",
      "INFO:maml.utils._lammps:Structure index 8 is rotated.\n",
      "INFO:maml.utils._lammps:Structure index 9 is rotated.\n"
     ]
    }
   ],
   "source": [
    "from sklearn.linear_model import LinearRegression\n",
    "\n",
    "from maml.apps.pes import SNAPotential\n",
    "from maml.base import SKLModel\n",
    "from maml.describers import BispectrumCoefficients\n",
    "\n",
    "element_profile = {\"Mo\": {\"r\": 5.0, \"w\": 1}, \"Ni\": {\"r\": 5.0, \"w\": 1}}\n",
    "describer = BispectrumCoefficients(\n",
    "    rcutfac=0.5, twojmax=6, element_profile=element_profile, quadratic=True, pot_fit=True, include_stress=True\n",
    ")\n",
    "model = SKLModel(describer=describer, model=LinearRegression())\n",
    "qsnap = SNAPotential(model=model)\n",
    "qsnap.train(train_structures, train_energies, train_forces, train_stresses, include_stress=True, sample_weight=weights)"
   ]
  },
  {
   "cell_type": "markdown",
   "metadata": {},
   "source": [
    "# Predict the energies, forces, stresses of training data"
   ]
  },
  {
   "cell_type": "code",
   "execution_count": 4,
   "metadata": {},
   "outputs": [
    {
     "name": "stderr",
     "output_type": "stream",
     "text": [
      "INFO:maml.utils._lammps:Structure index 0 is rotated.\n",
      "INFO:maml.utils._lammps:Structure index 1 is rotated.\n",
      "INFO:maml.utils._lammps:Structure index 2 is rotated.\n",
      "INFO:maml.utils._lammps:Structure index 3 is rotated.\n",
      "INFO:maml.utils._lammps:Structure index 4 is rotated.\n",
      "INFO:maml.utils._lammps:Structure index 5 is rotated.\n",
      "INFO:maml.utils._lammps:Structure index 6 is rotated.\n",
      "INFO:maml.utils._lammps:Structure index 7 is rotated.\n",
      "INFO:maml.utils._lammps:Structure index 8 is rotated.\n",
      "INFO:maml.utils._lammps:Structure index 9 is rotated.\n"
     ]
    }
   ],
   "source": [
    "df_orig, df_predict = qsnap.evaluate(\n",
    "    test_structures=train_structures,\n",
    "    test_energies=train_energies,\n",
    "    test_forces=train_forces,\n",
    "    test_stresses=train_stresses,\n",
    "    include_stress=True,\n",
    ")"
   ]
  },
  {
   "cell_type": "markdown",
   "metadata": {},
   "source": [
    "# Lattice constants, Elastic constant\n",
    "### Large error due to limited training data -- 10 structures"
   ]
  },
  {
   "cell_type": "code",
   "execution_count": null,
   "metadata": {},
   "outputs": [],
   "source": [
    "from pymatgen.core import Lattice\n",
    "\n",
    "Ni = Structure.from_spacegroup(sg=\"Fm-3m\", species=[\"Ni\"], lattice=Lattice.cubic(3.51), coords=[[0, 0, 0]])\n",
    "Mo = Structure.from_spacegroup(sg=\"Im-3m\", species=[\"Mo\"], lattice=Lattice.cubic(3.17), coords=[[0, 0, 0]])"
   ]
  },
  {
   "cell_type": "code",
   "execution_count": 5,
   "metadata": {},
   "outputs": [
    {
     "name": "stderr",
     "output_type": "stream",
     "text": [
      "INFO:maml.apps.pes._lammps:Setting Lammps executable to lmp_serial\n"
     ]
    },
    {
     "name": "stdout",
     "output_type": "stream",
     "text": [
      "Ni  C11:  5736938392.20117 C12:  -569243687.375 C44:  -1306336862.75\n"
     ]
    }
   ],
   "source": [
    "from maml.apps.pes import ElasticConstant\n",
    "\n",
    "Ni_ec_calculator = ElasticConstant(ff_settings=qsnap)\n",
    "Ni_C11, Ni_C12, Ni_C44, _ = Ni_ec_calculator.calculate([Ni])[0]\n",
    "print(\"Ni\", \" C11: \", Ni_C11, \"C12: \", Ni_C12, \"C44: \", Ni_C44)"
   ]
  },
  {
   "cell_type": "code",
   "execution_count": 6,
   "metadata": {},
   "outputs": [
    {
     "name": "stderr",
     "output_type": "stream",
     "text": [
      "INFO:maml.apps.pes._lammps:Setting Lammps executable to lmp_serial\n"
     ]
    },
    {
     "name": "stdout",
     "output_type": "stream",
     "text": [
      "Mo  C11:  -10043717.1291321 C12:  631379.849702305 C44:  -776527.731726994\n"
     ]
    }
   ],
   "source": [
    "Mo_ec_calculator = ElasticConstant(ff_settings=qsnap)\n",
    "Mo_C11, Mo_C12, Mo_C44, _ = Mo_ec_calculator.calculate([Mo])[0]\n",
    "print(\"Mo\", \" C11: \", Mo_C11, \"C12: \", Mo_C12, \"C44: \", Mo_C44)"
   ]
  }
 ],
 "metadata": {
  "kernelspec": {
   "display_name": "Python 3",
   "language": "python",
   "name": "python3"
  },
  "language_info": {
   "codemirror_mode": {
    "name": "ipython",
    "version": 3
   },
   "file_extension": ".py",
   "mimetype": "text/x-python",
   "name": "python",
   "nbconvert_exporter": "python",
   "pygments_lexer": "ipython3",
   "version": "3.8.5"
  }
 },
 "nbformat": 4,
 "nbformat_minor": 4
}
