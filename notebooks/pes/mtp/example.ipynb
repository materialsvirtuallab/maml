{
 "cells": [
  {
   "cell_type": "markdown",
   "metadata": {
    "toc": true
   },
   "source": [
    "<h1>Table of Contents<span class=\"tocSkip\"></span></h1>\n",
    "<div class=\"toc\"><ul class=\"toc-item\"><li><span><a href=\"#Load-Ni-Mo-data\" data-toc-modified-id=\"Load-Ni-Mo-data-1\"><span class=\"toc-item-num\">1&nbsp;&nbsp;</span>Load Ni-Mo data</a></span></li><li><span><a href=\"#Set-up-the-MTP-and-train\" data-toc-modified-id=\"Set-up-the-MTP-and-train-2\"><span class=\"toc-item-num\">2&nbsp;&nbsp;</span>Set up the MTP and train</a></span></li><li><span><a href=\"#Predict-and-evaluate-the-energies-and-forces-of-training-data\" data-toc-modified-id=\"Predict-and-evaluate-the-energies-and-forces-of-training-data-3\"><span class=\"toc-item-num\">3&nbsp;&nbsp;</span>Predict and evaluate the energies and forces of training data</a></span></li><li><span><a href=\"#Write-and-load-fitted-mtp-with-parameters-files\" data-toc-modified-id=\"Write-and-load-fitted-mtp-with-parameters-files-4\"><span class=\"toc-item-num\">4&nbsp;&nbsp;</span>Write and load fitted mtp with parameters files</a></span></li><li><span><a href=\"#Lattice-constants-and-eslastic-constants\" data-toc-modified-id=\"Lattice-constants-and-eslastic-constants-5\"><span class=\"toc-item-num\">5&nbsp;&nbsp;</span>Lattice constants and eslastic constants</a></span></li><li><span><a href=\"#Surface-energy-calculation---Ni-as-an-example\" data-toc-modified-id=\"Surface-energy-calculation---Ni-as-an-example-6\"><span class=\"toc-item-num\">6&nbsp;&nbsp;</span>Surface energy calculation - Ni as an example</a></span></li><li><span><a href=\"#Energy,-force,-stress-prediction\" data-toc-modified-id=\"Energy,-force,-stress-prediction-7\"><span class=\"toc-item-num\">7&nbsp;&nbsp;</span>Energy, force, stress prediction</a></span></li></ul></div>"
   ]
  },
  {
   "cell_type": "markdown",
   "metadata": {},
   "source": [
    "# Load Ni-Mo data"
   ]
  },
  {
   "cell_type": "code",
   "execution_count": 1,
   "metadata": {},
   "outputs": [],
   "source": [
    "from __future__ import annotations\n",
    "\n",
    "from monty.serialization import loadfn\n",
    "from pymatgen.core import Structure\n",
    "\n",
    "data = loadfn(\"data.json\")\n",
    "train_structures = [d[\"structure\"] for d in data]\n",
    "train_energies = [d[\"outputs\"][\"energy\"] for d in data]\n",
    "train_forces = [d[\"outputs\"][\"forces\"] for d in data]\n",
    "train_stresses = [d[\"outputs\"][\"stress\"] for d in data]"
   ]
  },
  {
   "cell_type": "markdown",
   "metadata": {},
   "source": [
    "# Set up the MTP and train"
   ]
  },
  {
   "cell_type": "code",
   "execution_count": 2,
   "metadata": {},
   "outputs": [],
   "source": [
    "from maml.apps.pes import MTPotential\n",
    "\n",
    "mtp = MTPotential()"
   ]
  },
  {
   "cell_type": "code",
   "execution_count": 3,
   "metadata": {},
   "outputs": [
    {
     "name": "stderr",
     "output_type": "stream",
     "text": [
      "INFO:maml.utils._lammps:Structure index 0 is rotated.\n",
      "INFO:maml.utils._lammps:Structure index 1 is rotated.\n",
      "INFO:maml.utils._lammps:Structure index 2 is rotated.\n",
      "INFO:maml.utils._lammps:Structure index 3 is rotated.\n",
      "INFO:maml.utils._lammps:Structure index 4 is rotated.\n",
      "INFO:maml.utils._lammps:Structure index 5 is rotated.\n",
      "INFO:maml.utils._lammps:Structure index 6 is rotated.\n",
      "INFO:maml.utils._lammps:Structure index 7 is rotated.\n",
      "INFO:maml.utils._lammps:Structure index 8 is rotated.\n",
      "INFO:maml.utils._lammps:Structure index 9 is rotated.\n"
     ]
    },
    {
     "data": {
      "text/plain": [
       "0"
      ]
     },
     "execution_count": 3,
     "metadata": {},
     "output_type": "execute_result"
    }
   ],
   "source": [
    "mtp.train(\n",
    "    train_structures=train_structures,\n",
    "    train_energies=train_energies,\n",
    "    train_forces=train_forces,\n",
    "    train_stresses=None,\n",
    "    max_dist=5,\n",
    "    stress_weight=0,\n",
    ")"
   ]
  },
  {
   "cell_type": "markdown",
   "metadata": {},
   "source": [
    "# Predict and evaluate the energies and forces of training data"
   ]
  },
  {
   "cell_type": "code",
   "execution_count": 4,
   "metadata": {},
   "outputs": [
    {
     "name": "stderr",
     "output_type": "stream",
     "text": [
      "INFO:maml.utils._lammps:Structure index 0 is rotated.\n",
      "INFO:maml.utils._lammps:Structure index 1 is rotated.\n",
      "INFO:maml.utils._lammps:Structure index 2 is rotated.\n",
      "INFO:maml.utils._lammps:Structure index 3 is rotated.\n",
      "INFO:maml.utils._lammps:Structure index 4 is rotated.\n",
      "INFO:maml.utils._lammps:Structure index 5 is rotated.\n",
      "INFO:maml.utils._lammps:Structure index 6 is rotated.\n",
      "INFO:maml.utils._lammps:Structure index 7 is rotated.\n",
      "INFO:maml.utils._lammps:Structure index 8 is rotated.\n",
      "INFO:maml.utils._lammps:Structure index 9 is rotated.\n"
     ]
    }
   ],
   "source": [
    "df_orig, df_predict = mtp.evaluate(\n",
    "    test_structures=train_structures,\n",
    "    test_energies=train_energies,\n",
    "    test_forces=train_forces,\n",
    "    test_stresses=train_stresses,\n",
    ")"
   ]
  },
  {
   "cell_type": "code",
   "execution_count": 5,
   "metadata": {},
   "outputs": [
    {
     "name": "stdout",
     "output_type": "stream",
     "text": [
      "MAE of training energy prediction is 2.452442759843798 meV/atom\n",
      "MAE of training force prediction is 0.12078751064814815 eV/Å\n"
     ]
    }
   ],
   "source": [
    "import numpy as np\n",
    "from sklearn.metrics import mean_absolute_error\n",
    "\n",
    "E_p = np.array(df_predict[df_predict[\"dtype\"] == \"energy\"][\"y_orig\"]) / df_predict[df_predict[\"dtype\"] == \"energy\"][\"n\"]\n",
    "E_o = np.array(df_orig[df_orig[\"dtype\"] == \"energy\"][\"y_orig\"]) / df_orig[df_orig[\"dtype\"] == \"energy\"][\"n\"]\n",
    "print(f\"MAE of training energy prediction is {mean_absolute_error(E_o, E_p) * 1000} meV/atom\")\n",
    "\n",
    "F_p = np.array(df_predict[df_predict[\"dtype\"] == \"force\"][\"y_orig\"]) / df_predict[df_predict[\"dtype\"] == \"force\"][\"n\"]\n",
    "F_o = np.array(df_orig[df_orig[\"dtype\"] == \"force\"][\"y_orig\"]) / df_orig[df_orig[\"dtype\"] == \"force\"][\"n\"]\n",
    "print(f\"MAE of training force prediction is {mean_absolute_error(F_o, F_p)} eV/Å\")"
   ]
  },
  {
   "cell_type": "markdown",
   "metadata": {},
   "source": [
    "# Write and load fitted mtp with parameters files"
   ]
  },
  {
   "cell_type": "code",
   "execution_count": 6,
   "metadata": {},
   "outputs": [
    {
     "data": {
      "text/plain": [
       "['pair_style        mlip mlip.ini', 'pair_coeff        * *']"
      ]
     },
     "execution_count": 6,
     "metadata": {},
     "output_type": "execute_result"
    }
   ],
   "source": [
    "mtp.write_param(fitted_mtp=\"fitted.mtp\")"
   ]
  },
  {
   "cell_type": "code",
   "execution_count": 7,
   "metadata": {},
   "outputs": [],
   "source": [
    "mtp_loaded = MTPotential.from_config(filename=\"fitted.mtp\", elements=[\"Ni\", \"Mo\"])"
   ]
  },
  {
   "cell_type": "markdown",
   "metadata": {},
   "source": [
    "# Lattice constants and eslastic constants\n",
    "Large error due to limited training data -- 10 structures"
   ]
  },
  {
   "cell_type": "code",
   "execution_count": 8,
   "metadata": {},
   "outputs": [],
   "source": [
    "from pymatgen.core import Lattice\n",
    "\n",
    "Ni = Structure.from_spacegroup(sg=\"Fm-3m\", species=[\"Ni\"], lattice=Lattice.cubic(3.51), coords=[[0, 0, 0]])\n",
    "Mo = Structure.from_spacegroup(sg=\"Im-3m\", species=[\"Mo\"], lattice=Lattice.cubic(3.17), coords=[[0, 0, 0]])"
   ]
  },
  {
   "cell_type": "code",
   "execution_count": 9,
   "metadata": {},
   "outputs": [
    {
     "name": "stderr",
     "output_type": "stream",
     "text": [
      "INFO:maml.apps.pes._lammps:Setting Lammps executable to lmp_g++_mpich\n",
      "INFO:maml.apps.pes._lammps:Setting Lammps executable to lmp_g++_mpich\n",
      "INFO:maml.apps.pes._lammps:Setting Lammps executable to lmp_g++_mpich\n",
      "INFO:maml.apps.pes._lammps:Setting Lammps executable to lmp_g++_mpich\n"
     ]
    },
    {
     "name": "stdout",
     "output_type": "stream",
     "text": [
      "Ni Lattice a: 7.069140000000139, Lattice b: 7.069140000000139, Lattice c: 7.069140000000139\n",
      "Mo Lattice a: 2.6113770640889977, Lattice b: 2.6113770640889977, Lattice c: 2.6113770640889977\n"
     ]
    }
   ],
   "source": [
    "from maml.apps.pes import LatticeConstant\n",
    "\n",
    "lc_calculator = LatticeConstant(ff_settings=mtp_loaded)\n",
    "a, b, c = lc_calculator.calculate([Ni])[0]\n",
    "print(\"Ni\", f\"Lattice a: {a}, Lattice b: {b}, Lattice c: {c}\")\n",
    "\n",
    "lc_calculator = LatticeConstant(ff_settings=mtp_loaded)\n",
    "a, b, c = lc_calculator.calculate([Mo])[0]\n",
    "print(\"Mo\", f\"Lattice a: {a}, Lattice b: {b}, Lattice c: {c}\")"
   ]
  },
  {
   "cell_type": "code",
   "execution_count": 10,
   "metadata": {},
   "outputs": [
    {
     "name": "stderr",
     "output_type": "stream",
     "text": [
      "INFO:maml.apps.pes._lammps:Setting Lammps executable to lmp_g++_mpich\n",
      "INFO:maml.apps.pes._lammps:Setting Lammps executable to lmp_g++_mpich\n"
     ]
    },
    {
     "name": "stdout",
     "output_type": "stream",
     "text": [
      "Ni  C11:  20.7708419999108 C12:  25.8377555059269 C44:  71.3047001960825\n",
      "Mo  C11:  -802479.953151941 C12:  -809354.693976045 C44:  -47578.8186817001\n"
     ]
    }
   ],
   "source": [
    "from maml.apps.pes import ElasticConstant\n",
    "\n",
    "Ni_ec_calculator = ElasticConstant(ff_settings=mtp_loaded)\n",
    "Ni_C11, Ni_C12, Ni_C44, _ = Ni_ec_calculator.calculate([Ni])[0]\n",
    "print(\"Ni\", \" C11: \", Ni_C11, \"C12: \", Ni_C12, \"C44: \", Ni_C44)\n",
    "\n",
    "Mo_ec_calculator = ElasticConstant(ff_settings=mtp_loaded)\n",
    "Mo_C11, Mo_C12, Mo_C44, _ = Mo_ec_calculator.calculate([Mo])[0]\n",
    "print(\"Mo\", \" C11: \", Mo_C11, \"C12: \", Mo_C12, \"C44: \", Mo_C44)"
   ]
  },
  {
   "cell_type": "markdown",
   "metadata": {},
   "source": [
    "# Surface energy calculation - Ni as an example"
   ]
  },
  {
   "cell_type": "code",
   "execution_count": 11,
   "metadata": {},
   "outputs": [
    {
     "name": "stderr",
     "output_type": "stream",
     "text": [
      "INFO:maml.apps.pes._lammps:Setting Lammps executable to lmp_g++_mpich\n",
      "INFO:maml.apps.pes._lammps:Setting Lammps executable to lmp_g++_mpich\n",
      "INFO:maml.apps.pes._lammps:Setting Lammps executable to lmp_g++_mpich\n",
      "INFO:maml.apps.pes._lammps:Setting Lammps executable to lmp_g++_mpich\n",
      "INFO:maml.apps.pes._lammps:Setting Lammps executable to lmp_g++_mpich\n",
      "INFO:maml.apps.pes._lammps:Setting Lammps executable to lmp_g++_mpich\n"
     ]
    },
    {
     "name": "stdout",
     "output_type": "stream",
     "text": [
      "Surface energys in Ni:\n",
      "Miller index: [1, 0, 0], surface energy: 2.231324198900004 J/m^2, slab model has 10 atoms\n",
      "Miller index: [0, 1, 0], surface energy: 2.231324198900004 J/m^2, slab model has 10 atoms\n",
      "Miller index: [1, 1, 0], surface energy: 2.3225616999482033 J/m^2, slab model has 14 atoms\n"
     ]
    }
   ],
   "source": [
    "from maml.apps.pes import SurfaceEnergy\n",
    "\n",
    "mtp_loaded_Ni = MTPotential.from_config(filename=\"fitted.mtp.Ni\", elements=[\"Ni\"])\n",
    "surface_e_calculator = SurfaceEnergy(\n",
    "    ff_settings=mtp_loaded_Ni, bulk_structure=Ni, miller_indexes=[[1, 0, 0], [0, 1, 0], [1, 1, 0]]\n",
    ")\n",
    "results_surface = surface_e_calculator.calculate()\n",
    "relaxed_surface_structures = [result[1] for result in results_surface]\n",
    "\n",
    "print(\"Surface energys in Ni:\")\n",
    "for result in results_surface:\n",
    "    print(f\"Miller index: {result[0]}, surface energy: {result[2]} J/m^2, slab model has {result[1].num_sites} atoms\")"
   ]
  },
  {
   "cell_type": "markdown",
   "metadata": {},
   "source": [
    "# Energy, force, stress prediction"
   ]
  },
  {
   "cell_type": "code",
   "execution_count": 12,
   "metadata": {
    "scrolled": false
   },
   "outputs": [
    {
     "name": "stderr",
     "output_type": "stream",
     "text": [
      "INFO:maml.apps.pes._lammps:Setting Lammps executable to lmp_g++_mpich\n"
     ]
    },
    {
     "name": "stdout",
     "output_type": "stream",
     "text": [
      "energy: -1022.31654318373\n",
      "forces: \n",
      " [[-1.72880186e-01  5.63705118e-01 -1.57002643e-02]\n",
      " [ 5.74738859e-01 -3.21596709e-01 -7.49036066e-01]\n",
      " [-4.02881585e-01 -7.04802447e-02  5.89548087e-01]\n",
      " [ 1.99652041e-01  4.52133229e-01 -4.24866477e-01]\n",
      " [-6.10037223e-01  4.86436325e-02 -1.51852819e+00]\n",
      " [ 5.13114052e-01  6.84385142e-02 -4.44337513e-01]\n",
      " [-7.43415190e-01  2.18115425e-01  3.31340952e-01]\n",
      " [-7.67966228e-02  8.94474793e-02  7.21359382e-01]\n",
      " [-1.30463005e+00 -4.81045782e-01  1.93630096e-01]\n",
      " [ 8.08479492e-01 -2.94776926e-01 -5.49186032e-01]\n",
      " [ 1.45982577e-01 -4.56985945e-02 -6.89455782e-02]\n",
      " [-7.88895413e-01  1.38293460e-01 -5.12515089e-01]\n",
      " [-4.29616235e-02  3.60306921e-02  5.96081337e-01]\n",
      " [-1.59538050e-01 -5.58814957e-01 -5.68617332e-02]\n",
      " [ 2.59194144e-01 -7.15408807e-01 -1.35209746e+00]\n",
      " [-5.43740988e-01 -5.12669729e-01  3.83055184e-02]\n",
      " [-1.78625146e-01  1.14795712e-02 -1.51407451e-01]\n",
      " [-2.67453426e-01  5.93172998e-02 -6.08630657e-01]\n",
      " [-8.73032740e-03 -3.72299904e-01  1.24961306e+00]\n",
      " [-4.05013233e-01  1.11517479e-01 -4.00319079e-01]\n",
      " [-7.62557818e-01  5.59026593e-01  4.97652214e-01]\n",
      " [-2.38789849e-01 -1.15918136e-01  1.70561366e-01]\n",
      " [-2.98195919e-01  1.50991526e+00  7.69475955e-01]\n",
      " [ 1.02636854e+00 -3.64747283e-01 -1.64653704e-01]\n",
      " [-5.58977846e-02 -5.46522733e-01  5.16299220e-01]\n",
      " [-2.35296511e-01  4.37124898e-01 -7.99754111e-01]\n",
      " [ 5.43019740e-01 -5.10732127e-01  5.64026837e-01]\n",
      " [-2.73566665e-01 -5.42692171e-01 -2.57419017e-02]\n",
      " [-5.50607327e-01 -5.31324060e-02  5.07473658e-01]\n",
      " [-3.19976038e-01  9.35497894e-01  3.66958957e-01]\n",
      " [-1.62638037e-01  1.40779321e-01 -1.85679218e-02]\n",
      " [-2.87932295e-01  3.85279969e-01  6.61056476e-01]\n",
      " [ 1.54891896e-01 -3.53955117e-01 -5.18435148e-01]\n",
      " [-9.62963489e-02  3.54187625e-01  8.96088031e-02]\n",
      " [-2.06572875e-01 -3.06381342e-01  5.95137488e-01]\n",
      " [ 4.98288742e-01  4.20434362e-01 -1.87773239e-01]\n",
      " [-3.76955396e-01 -1.45691935e+00  4.12421794e-01]\n",
      " [ 4.41482882e-01  2.31591213e-01  6.57669382e-01]\n",
      " [-7.87237401e-01  2.81725592e-01  1.04097203e-01]\n",
      " [-6.63754111e-01  2.86239592e-01  6.38229933e-01]\n",
      " [-2.71488143e-01 -3.40545388e-02  3.11166494e-01]\n",
      " [-3.59655197e-01 -4.46705359e-01 -4.58834441e-01]\n",
      " [ 3.72720507e-01  4.83693441e-01 -4.83231522e-02]\n",
      " [ 7.02899716e-01  1.34386413e-01  2.75351027e-01]\n",
      " [ 4.62668766e-01 -8.22754038e-01 -4.77370534e-01]\n",
      " [-3.42937115e-01 -6.00484932e-01 -1.13446512e-01]\n",
      " [-5.51746375e-01 -6.51310303e-02 -6.98841575e-02]\n",
      " [-1.45778052e-01  3.80745930e-01  9.92730246e-04]\n",
      " [ 1.78939897e+00 -6.86857846e-01 -9.43842039e-01]\n",
      " [ 4.77583757e-01  2.95231127e-01  4.48046782e-01]\n",
      " [ 9.60824340e-02  2.32413440e-01 -6.38689483e-01]\n",
      " [ 7.27962333e-01  4.22774726e-02  2.05640774e-01]\n",
      " [-7.92657670e-01  3.24684852e-01  1.28547979e-01]\n",
      " [-1.54484430e-01 -1.44486589e-01  6.82944709e-01]\n",
      " [ 1.79317029e-01  2.06530068e-01 -5.21006006e-01]\n",
      " [-3.84068913e-01 -5.27401167e-01  4.80205556e-01]\n",
      " [ 7.45641238e-01 -9.44146535e-01 -1.25750849e+00]\n",
      " [ 6.07710383e-01 -1.47814587e-01  7.25126013e-01]\n",
      " [-4.97507017e-01  2.88981335e-02  4.43671248e-01]\n",
      " [ 6.39758477e-01  2.59313625e-01 -8.38045365e-01]\n",
      " [ 2.60876827e-01  2.27505935e-01  2.53936721e-01]\n",
      " [-1.17257369e-01 -1.42885023e-01 -7.44657251e-01]\n",
      " [ 2.52218939e-01  4.57545720e-01  9.45709640e-01]\n",
      " [ 5.98994762e-02  2.26577477e-01 -2.07431729e-02]\n",
      " [ 4.70876033e-01  5.59694848e-01  2.69248248e-01]\n",
      " [-5.56232592e-01 -5.81518120e-02  4.16193008e-01]\n",
      " [ 1.55075366e+00  2.37784649e-02 -6.48809861e-01]\n",
      " [ 6.70032955e-01  8.44787135e-02  9.26134774e-01]\n",
      " [-1.72002048e-01  7.22899679e-01 -3.76406931e-02]\n",
      " [ 6.31764486e-01 -2.62869162e-01 -4.33429929e-01]\n",
      " [ 4.94442927e-01  7.61430644e-01 -7.11790181e-01]\n",
      " [-2.28971211e-01  2.89712395e-01 -3.42897268e-01]\n",
      " [ 1.77417095e-01  9.69041046e-01 -4.64443856e-01]\n",
      " [-6.84465142e-01 -9.86265198e-01  2.71493418e-03]\n",
      " [ 2.23650254e-01 -2.93885540e-01 -7.37379309e-01]\n",
      " [-4.00287349e-01  1.14067638e+00 -8.96638138e-02]\n",
      " [ 5.94001187e-01  1.20541256e-01 -6.78245611e-01]\n",
      " [ 3.88539764e-01  5.38790849e-01 -4.19516513e-01]\n",
      " [-4.20909950e-01 -2.81313078e-01 -7.72018853e-01]\n",
      " [-3.77817346e-01  4.55299412e-01  6.44878918e-02]\n",
      " [ 4.44486861e-01  5.72402094e-02 -1.32232869e-01]\n",
      " [ 4.04099193e-01 -6.48220757e-02  5.74564354e-01]\n",
      " [ 4.08201444e-01  1.46501666e-01 -3.74786402e-01]\n",
      " [-1.89907587e-01  2.88168479e-01 -1.14525935e+00]\n",
      " [-1.12019524e+00 -5.64435760e-01 -2.84571271e-01]\n",
      " [ 7.17674998e-01  1.64433565e-02  3.86000015e-02]\n",
      " [-4.79997320e-01 -5.66527813e-01  2.54315936e-02]\n",
      " [-7.91318109e-01 -2.44250550e-01  5.41812573e-01]\n",
      " [ 4.77805845e-01  4.80633030e-02  8.01037073e-02]\n",
      " [ 5.07262859e-01  7.91178038e-01 -1.12930397e-01]\n",
      " [-6.32877308e-01  1.04033466e+00 -2.06115819e-01]\n",
      " [ 4.42537687e-01  4.83287571e-01 -6.68617661e-01]\n",
      " [ 1.78665800e-01  6.57654327e-01 -1.31070943e-01]\n",
      " [-4.95079981e-01 -9.60175291e-01  3.27314007e-01]\n",
      " [-8.86394300e-03 -8.76215645e-02  1.04385331e+00]\n",
      " [ 2.09495714e-01  1.94276638e-01  1.59718691e-01]\n",
      " [-2.12025450e-02 -5.09696162e-01 -6.58372364e-01]\n",
      " [-6.50548566e-01  1.40064080e-01 -8.54895847e-02]\n",
      " [-4.48179155e-01  1.16800333e+00  2.34293847e-01]\n",
      " [-6.46153450e-01  5.37222842e-02  9.53183305e-01]\n",
      " [ 3.26186852e-01  8.37684287e-02  8.31727885e-01]\n",
      " [ 3.32735769e-01 -3.14625232e-01 -2.07566123e-01]\n",
      " [ 6.22427854e-01 -3.67248057e-01  9.92056631e-02]\n",
      " [-4.05418748e-01  4.59518089e-01 -4.34178404e-02]\n",
      " [ 3.74274754e-01  5.89918096e-01  9.68555390e-01]\n",
      " [-3.59332096e-01 -3.87702162e-01 -1.52374225e-01]\n",
      " [ 9.90786145e-02  4.88072669e-02  3.81388614e-01]\n",
      " [-5.97306119e-01  6.94779982e-01  7.73324446e-01]\n",
      " [-9.19250485e-01 -2.59257038e-01  2.85931666e-02]\n",
      " [ 5.63218063e-01 -5.83024428e-01 -7.83110606e-02]\n",
      " [-4.55069780e-01  3.22312387e-01 -2.16289678e-01]\n",
      " [ 4.93486672e-01 -2.14818077e-02 -7.06880930e-01]\n",
      " [-3.91166920e-01  4.01980671e-02  1.71926568e-01]\n",
      " [ 5.11356206e-01  1.03365855e-01 -2.93105119e-01]\n",
      " [-1.61176887e-01  6.58970271e-01 -6.00127798e-02]\n",
      " [-8.05167553e-01  4.53526041e-01  2.80511496e-01]\n",
      " [ 2.42221589e-01 -2.73663050e-01  8.50363967e-02]\n",
      " [ 1.03518441e-02  1.88759231e-01 -4.24922035e-01]\n",
      " [ 5.39057780e-02 -2.66102918e-01 -3.94732137e-01]\n",
      " [-2.02840190e-01  8.17293512e-01  1.19321623e-01]\n",
      " [ 7.27357010e-01  8.77484503e-01 -7.72803385e-02]\n",
      " [ 3.64640234e-01 -7.78347479e-02  5.54493381e-01]\n",
      " [ 7.48709492e-01  9.63104395e-01  4.72426363e-01]\n",
      " [-9.08128851e-01  5.42182748e-01  2.28411462e-01]\n",
      " [-1.46318942e-01  2.93651611e-02 -1.29260551e+00]\n",
      " [-9.61211492e-01 -4.15504906e-01  1.25110574e-01]\n",
      " [-1.22001271e-01  4.04184439e-02  3.52181548e-01]\n",
      " [-4.40919022e-02 -1.92791756e+00  2.46774553e-01]\n",
      " [-8.06815037e-01 -1.06366052e+00 -1.11730753e+00]\n",
      " [-2.58393090e-02 -1.20909230e+00  1.15673264e+00]\n",
      " [-2.07597100e-01 -9.72041111e-01  1.56125076e-01]\n",
      " [ 7.44984383e-01 -3.86869874e-01 -1.42302876e-01]\n",
      " [ 5.41296171e-01 -2.98556707e-01  3.05132842e-01]\n",
      " [ 5.52450670e-01 -3.53787593e-01  5.84650492e-01]\n",
      " [ 2.35048918e-02  9.01283055e-02 -2.44646369e-01]\n",
      " [ 3.36495982e-01  3.05545612e-02 -2.11680370e-01]\n",
      " [ 1.08349366e-01 -6.78241101e-01 -5.46777634e-01]\n",
      " [ 5.32616867e-01 -2.66220782e-01  1.37514692e-01]\n",
      " [-9.46248128e-01 -4.37320346e-02 -1.71046201e-01]\n",
      " [ 2.60413452e-01  4.14239420e-01 -4.13497021e-01]\n",
      " [ 2.62652794e-01 -1.72434283e-01  3.98620819e-03]\n",
      " [ 7.77045839e-02 -1.24266147e-01  5.36186192e-01]\n",
      " [ 4.16261504e-01 -5.69372995e-01  3.37268088e-01]\n",
      " [ 5.71088198e-01 -7.39551442e-01  8.63625015e-01]]\n",
      "stresses:  [ 2.53280122e+02  2.58422007e+02  2.58942615e+02  1.13205571e-01\n",
      "  5.13463430e-02 -2.05065774e-01]\n"
     ]
    }
   ],
   "source": [
    "from maml.apps.pes import EnergyForceStress\n",
    "\n",
    "efs_calculator = EnergyForceStress(ff_settings=mtp_loaded)\n",
    "energy, forces, stresses = efs_calculator.calculate([train_structures[0]])[0]\n",
    "\n",
    "print(f\"energy: {energy}\")\n",
    "print(\"forces: \\n\", forces)\n",
    "print(\"stresses: \", stresses)"
   ]
  }
 ],
 "metadata": {
  "kernelspec": {
   "display_name": "Python 3 (ipykernel)",
   "language": "python",
   "name": "python3"
  },
  "language_info": {
   "codemirror_mode": {
    "name": "ipython",
    "version": 3
   },
   "file_extension": ".py",
   "mimetype": "text/x-python",
   "name": "python",
   "nbconvert_exporter": "python",
   "pygments_lexer": "ipython3",
   "version": "3.9.6"
  },
  "toc": {
   "base_numbering": 1,
   "nav_menu": {},
   "number_sections": true,
   "sideBar": true,
   "skip_h1_title": false,
   "title_cell": "Table of Contents",
   "title_sidebar": "Contents",
   "toc_cell": true,
   "toc_position": {},
   "toc_section_display": true,
   "toc_window_display": true
  }
 },
 "nbformat": 4,
 "nbformat_minor": 2
}
