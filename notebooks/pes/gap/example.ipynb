{
 "cells": [
  {
   "cell_type": "markdown",
   "metadata": {},
   "source": [
    "# Load Ni-Mo data"
   ]
  },
  {
   "cell_type": "code",
   "execution_count": 1,
   "metadata": {
    "collapsed": true
   },
   "outputs": [],
   "source": [
    "from __future__ import annotations\n",
    "\n",
    "from monty.serialization import loadfn\n",
    "from pymatgen import Structure\n",
    "\n",
    "data = loadfn(\"data.json\")\n",
    "train_structures = [d[\"structure\"] for d in data]\n",
    "train_energies = [d[\"outputs\"][\"energy\"] for d in data]\n",
    "train_forces = [d[\"outputs\"][\"forces\"] for d in data]"
   ]
  },
  {
   "cell_type": "markdown",
   "metadata": {},
   "source": [
    "# Set up the GAP and train"
   ]
  },
  {
   "cell_type": "code",
   "execution_count": 2,
   "metadata": {},
   "outputs": [
    {
     "data": {
      "text/plain": [
       "0"
      ]
     },
     "execution_count": 2,
     "metadata": {},
     "output_type": "execute_result"
    }
   ],
   "source": [
    "from maml.apps.pes import GAPotential\n",
    "\n",
    "gap = GAPotential()\n",
    "gap.train(\n",
    "    train_structures=train_structures,\n",
    "    train_energies=train_energies,\n",
    "    train_forces=train_forces,\n",
    "    sparse_method=\"cur_points\",\n",
    "    l_max=8,\n",
    "    n_max=8,\n",
    "    e0=-0.97,\n",
    "    n_sparse=200,\n",
    "    cutoff=5.0,\n",
    ")"
   ]
  },
  {
   "cell_type": "markdown",
   "metadata": {},
   "source": [
    "# Predict the energies, forces of training data"
   ]
  },
  {
   "cell_type": "code",
   "execution_count": 3,
   "metadata": {
    "collapsed": true
   },
   "outputs": [],
   "source": [
    "df_orig, df_predict = gap.evaluate(\n",
    "    test_structures=train_structures, test_energies=train_energies, test_forces=train_forces, test_stresses=None\n",
    ")"
   ]
  },
  {
   "cell_type": "code",
   "execution_count": 4,
   "metadata": {},
   "outputs": [
    {
     "data": {
      "text/html": [
       "<div>\n",
       "<style scoped>\n",
       "    .dataframe tbody tr th:only-of-type {\n",
       "        vertical-align: middle;\n",
       "    }\n",
       "\n",
       "    .dataframe tbody tr th {\n",
       "        vertical-align: top;\n",
       "    }\n",
       "\n",
       "    .dataframe thead th {\n",
       "        text-align: right;\n",
       "    }\n",
       "</style>\n",
       "<table border=\"1\" class=\"dataframe\">\n",
       "  <thead>\n",
       "    <tr style=\"text-align: right;\">\n",
       "      <th></th>\n",
       "      <th>y_orig</th>\n",
       "      <th>n</th>\n",
       "      <th>dtype</th>\n",
       "    </tr>\n",
       "  </thead>\n",
       "  <tbody>\n",
       "    <tr>\n",
       "      <td>0</td>\n",
       "      <td>-1022.578431</td>\n",
       "      <td>144.0</td>\n",
       "      <td>energy</td>\n",
       "    </tr>\n",
       "    <tr>\n",
       "      <td>433</td>\n",
       "      <td>-1021.852543</td>\n",
       "      <td>144.0</td>\n",
       "      <td>energy</td>\n",
       "    </tr>\n",
       "    <tr>\n",
       "      <td>866</td>\n",
       "      <td>-967.381901</td>\n",
       "      <td>144.0</td>\n",
       "      <td>energy</td>\n",
       "    </tr>\n",
       "    <tr>\n",
       "      <td>1299</td>\n",
       "      <td>-973.891519</td>\n",
       "      <td>144.0</td>\n",
       "      <td>energy</td>\n",
       "    </tr>\n",
       "    <tr>\n",
       "      <td>1732</td>\n",
       "      <td>-968.058261</td>\n",
       "      <td>144.0</td>\n",
       "      <td>energy</td>\n",
       "    </tr>\n",
       "    <tr>\n",
       "      <td>2165</td>\n",
       "      <td>-1009.151963</td>\n",
       "      <td>144.0</td>\n",
       "      <td>energy</td>\n",
       "    </tr>\n",
       "    <tr>\n",
       "      <td>2598</td>\n",
       "      <td>-1021.188015</td>\n",
       "      <td>144.0</td>\n",
       "      <td>energy</td>\n",
       "    </tr>\n",
       "    <tr>\n",
       "      <td>3031</td>\n",
       "      <td>-959.079041</td>\n",
       "      <td>144.0</td>\n",
       "      <td>energy</td>\n",
       "    </tr>\n",
       "    <tr>\n",
       "      <td>3464</td>\n",
       "      <td>-1008.984483</td>\n",
       "      <td>144.0</td>\n",
       "      <td>energy</td>\n",
       "    </tr>\n",
       "    <tr>\n",
       "      <td>3897</td>\n",
       "      <td>-972.192187</td>\n",
       "      <td>144.0</td>\n",
       "      <td>energy</td>\n",
       "    </tr>\n",
       "  </tbody>\n",
       "</table>\n",
       "</div>"
      ],
      "text/plain": [
       "           y_orig      n   dtype\n",
       "0    -1022.578431  144.0  energy\n",
       "433  -1021.852543  144.0  energy\n",
       "866   -967.381901  144.0  energy\n",
       "1299  -973.891519  144.0  energy\n",
       "1732  -968.058261  144.0  energy\n",
       "2165 -1009.151963  144.0  energy\n",
       "2598 -1021.188015  144.0  energy\n",
       "3031  -959.079041  144.0  energy\n",
       "3464 -1008.984483  144.0  energy\n",
       "3897  -972.192187  144.0  energy"
      ]
     },
     "execution_count": 4,
     "metadata": {},
     "output_type": "execute_result"
    }
   ],
   "source": [
    "df_predict[df_predict[\"dtype\"] == \"energy\"]"
   ]
  },
  {
   "cell_type": "markdown",
   "metadata": {},
   "source": [
    "# Lattice constant, Elastic constant\n",
    "### Large error due to limited training data -- 10 structures"
   ]
  },
  {
   "cell_type": "code",
   "execution_count": null,
   "metadata": {},
   "outputs": [],
   "source": [
    "from pymatgen.core import Lattice\n",
    "\n",
    "Ni = Structure.from_spacegroup(sg=\"Fm-3m\", species=[\"Ni\"], lattice=Lattice.cubic(3.51), coords=[[0, 0, 0]])\n",
    "Mo = Structure.from_spacegroup(sg=\"Im-3m\", species=[\"Mo\"], lattice=Lattice.cubic(3.17), coords=[[0, 0, 0]])"
   ]
  },
  {
   "cell_type": "code",
   "execution_count": 8,
   "metadata": {},
   "outputs": [
    {
     "name": "stdout",
     "output_type": "stream",
     "text": [
      "Ni Lattice a: 3.36261678052108, Lattice b: 3.36261678052108, Lattice c: 3.36261678052108\n"
     ]
    }
   ],
   "source": [
    "from maml.apps.pes import LatticeConstant\n",
    "\n",
    "Ni = Structure.from_spacegroup(sg=\"Fm-3m\", species=[\"Ni\"], lattice=Lattice.cubic(3.51), coords=[[0, 0, 0]])\n",
    "lc_calculator = LatticeConstant(ff_settings=gap)\n",
    "a, b, c = lc_calculator.calculate([Ni])[0]\n",
    "print(\"Ni\", f\"Lattice a: {a}, Lattice b: {b}, Lattice c: {c}\")"
   ]
  },
  {
   "cell_type": "code",
   "execution_count": 9,
   "metadata": {},
   "outputs": [
    {
     "name": "stdout",
     "output_type": "stream",
     "text": [
      "Mo Lattice a: 3.13154097650104, Lattice b: 3.13154097650104, Lattice c: 3.13154097650104\n"
     ]
    }
   ],
   "source": [
    "Mo = Structure.from_spacegroup(sg=\"Im-3m\", species=[\"Mo\"], lattice=Lattice.cubic(3.17), coords=[[0, 0, 0]])\n",
    "lc_calculator = LatticeConstant(ff_settings=gap)\n",
    "a, b, c = lc_calculator.calculate([Mo])[0]\n",
    "print(\"Mo\", f\"Lattice a: {a}, Lattice b: {b}, Lattice c: {c}\")"
   ]
  },
  {
   "cell_type": "code",
   "execution_count": 5,
   "metadata": {},
   "outputs": [
    {
     "name": "stdout",
     "output_type": "stream",
     "text": [
      "Ni  C11:  294.00292058499 C12:  215.956808932469 C44:  172.632763694098\n"
     ]
    }
   ],
   "source": [
    "from maml.apps.pes import ElasticConstant\n",
    "\n",
    "Ni_ec_calculator = ElasticConstant(ff_settings=gap)\n",
    "Ni_C11, Ni_C12, Ni_C44, _ = Ni_ec_calculator.calculate([Ni])[0]\n",
    "print(\"Ni\", \" C11: \", Ni_C11, \"C12: \", Ni_C12, \"C44: \", Ni_C44)"
   ]
  },
  {
   "cell_type": "code",
   "execution_count": 6,
   "metadata": {},
   "outputs": [
    {
     "name": "stdout",
     "output_type": "stream",
     "text": [
      "Mo  C11:  1178.51552223199 C12:  -428.408236874733 C44:  373.512164542\n"
     ]
    }
   ],
   "source": [
    "Mo_ec_calculator = ElasticConstant(ff_settings=gap)\n",
    "Mo_C11, Mo_C12, Mo_C44, _ = Mo_ec_calculator.calculate([Mo])[0]\n",
    "print(\"Mo\", \" C11: \", Mo_C11, \"C12: \", Mo_C12, \"C44: \", Mo_C44)"
   ]
  },
  {
   "cell_type": "markdown",
   "metadata": {},
   "source": [
    "# Load from parameters files"
   ]
  },
  {
   "cell_type": "code",
   "execution_count": 11,
   "metadata": {},
   "outputs": [],
   "source": [
    "gap_loaded = GAPotential.from_config(filename=\"gap.xml\")"
   ]
  },
  {
   "cell_type": "markdown",
   "metadata": {},
   "source": [
    "# Energy, force, stress prediction"
   ]
  },
  {
   "cell_type": "code",
   "execution_count": 13,
   "metadata": {
    "scrolled": false
   },
   "outputs": [
    {
     "name": "stdout",
     "output_type": "stream",
     "text": [
      "energy: -1022.57843361339\n",
      "forces: \n",
      " [[-0.148907    0.691195    0.00622235]\n",
      " [ 0.553757   -0.299642   -0.674699  ]\n",
      " [-0.530246   -0.11432     0.578683  ]\n",
      " [ 0.229872    0.518665   -0.43865   ]\n",
      " [-0.599489   -0.0095873  -1.50022   ]\n",
      " [ 0.521754    0.16086    -0.357313  ]\n",
      " [-0.74472     0.22597     0.243968  ]\n",
      " [-0.0397528   0.0397773   0.800801  ]\n",
      " [-1.32847    -0.50867     0.247439  ]\n",
      " [ 0.745455   -0.32021    -0.542783  ]\n",
      " [ 0.110386   -0.085871   -0.0303303 ]\n",
      " [-0.79898     0.151923   -0.567254  ]\n",
      " [-0.124843   -0.129319    0.542627  ]\n",
      " [-0.200481   -0.599946    0.0196301 ]\n",
      " [ 0.336649   -0.725849   -1.21457   ]\n",
      " [-0.558773   -0.494143    0.111651  ]\n",
      " [-0.130768   -0.0386151  -0.195661  ]\n",
      " [-0.26047     0.023753   -0.613401  ]\n",
      " [-0.0526436  -0.509165    1.20497   ]\n",
      " [-0.455376    0.166561   -0.403331  ]\n",
      " [-0.779056    0.547719    0.437108  ]\n",
      " [-0.254392   -0.0719912   0.226387  ]\n",
      " [-0.298298    1.59229     0.705392  ]\n",
      " [ 1.09219    -0.392169   -0.275389  ]\n",
      " [-0.0908315  -0.647851    0.530146  ]\n",
      " [-0.20479     0.447194   -0.776275  ]\n",
      " [ 0.598684   -0.534007    0.5847    ]\n",
      " [-0.260778   -0.680925   -0.0327634 ]\n",
      " [-0.571792   -0.0154173   0.473902  ]\n",
      " [-0.370678    1.07468     0.360208  ]\n",
      " [-0.159739    0.146249    0.0469297 ]\n",
      " [-0.232724    0.347693    0.561983  ]\n",
      " [ 0.171136   -0.429781   -0.508319  ]\n",
      " [-0.110364    0.327265    0.132251  ]\n",
      " [-0.0895351  -0.305392    0.530013  ]\n",
      " [ 0.435959    0.500058   -0.205364  ]\n",
      " [-0.412079   -1.57356     0.331107  ]\n",
      " [ 0.346809    0.32933     0.581706  ]\n",
      " [-0.773496    0.338015   -0.0806817 ]\n",
      " [-0.747285    0.456065    0.669247  ]\n",
      " [-0.165379    0.0891387   0.246397  ]\n",
      " [-0.400187   -0.328075   -0.385131  ]\n",
      " [ 0.356905    0.530713   -0.0566839 ]\n",
      " [ 0.546831    0.203549    0.336754  ]\n",
      " [ 0.362446   -0.881625   -0.437743  ]\n",
      " [-0.226478   -0.680491   -0.0922386 ]\n",
      " [-0.465983   -0.0314633  -0.134172  ]\n",
      " [-0.19694     0.407237    0.127253  ]\n",
      " [ 1.76913    -0.542846   -1.09176   ]\n",
      " [ 0.369125    0.30632     0.526479  ]\n",
      " [ 0.25254     0.358368   -0.760319  ]\n",
      " [ 0.691773    0.0880142   0.292756  ]\n",
      " [-0.705855    0.39082     0.017987  ]\n",
      " [-0.162835   -0.235754    0.617555  ]\n",
      " [ 0.0390204   0.24106    -0.543121  ]\n",
      " [-0.337831   -0.734999    0.509939  ]\n",
      " [ 0.608838   -0.829877   -1.40188   ]\n",
      " [ 0.588663   -0.294065    0.697071  ]\n",
      " [-0.420659    0.09302     0.631125  ]\n",
      " [ 0.658595    0.0954833  -0.913483  ]\n",
      " [ 0.306478    0.265403    0.310384  ]\n",
      " [ 0.0230328  -0.200044   -0.764399  ]\n",
      " [ 0.244844    0.492875    0.879176  ]\n",
      " [ 0.0982616   0.358272   -0.212601  ]\n",
      " [ 0.390071    0.57376     0.258948  ]\n",
      " [-0.462178   -0.0771544   0.413333  ]\n",
      " [ 1.48006    -0.0363915  -0.684859  ]\n",
      " [ 0.722858   -0.0275888   1.0038    ]\n",
      " [-0.166608    0.7561      0.128079  ]\n",
      " [ 0.700421   -0.342838   -0.400284  ]\n",
      " [ 0.445778    0.833792   -0.709618  ]\n",
      " [-0.131939    0.276101   -0.241809  ]\n",
      " [ 0.181066    1.0976     -0.384219  ]\n",
      " [-0.644892   -1.18885     0.0489932 ]\n",
      " [ 0.173002   -0.214213   -0.722058  ]\n",
      " [-0.464264    1.17575    -0.00527425]\n",
      " [ 0.499559    0.0690915  -0.633339  ]\n",
      " [ 0.399481    0.561016   -0.331749  ]\n",
      " [-0.407103   -0.326739   -0.79236   ]\n",
      " [-0.423166    0.456006    0.104537  ]\n",
      " [ 0.395412   -0.0151691  -0.111424  ]\n",
      " [ 0.436359   -0.0629928   0.574677  ]\n",
      " [ 0.299426    0.0660932  -0.361084  ]\n",
      " [-0.105383    0.296565   -1.08498   ]\n",
      " [-1.1204     -0.635574   -0.302176  ]\n",
      " [ 0.786423    0.0576373   0.0851474 ]\n",
      " [-0.423164   -0.677678   -0.0684513 ]\n",
      " [-0.860034   -0.248635    0.525468  ]\n",
      " [ 0.465948    0.0648558   0.111891  ]\n",
      " [ 0.491958    0.859728   -0.132981  ]\n",
      " [-0.591915    1.02708    -0.232656  ]\n",
      " [ 0.459773    0.362534   -0.687869  ]\n",
      " [ 0.166203    0.715795   -0.123336  ]\n",
      " [-0.516406   -1.00168     0.305046  ]\n",
      " [ 0.00321161 -0.154303    1.09244   ]\n",
      " [ 0.216988    0.270046    0.131425  ]\n",
      " [-0.0839869  -0.52489    -0.643276  ]\n",
      " [-0.649829    0.180726   -0.0658337 ]\n",
      " [-0.438307    1.25238     0.248191  ]\n",
      " [-0.621563    0.0678889   0.890052  ]\n",
      " [ 0.339318    0.151167    0.773887  ]\n",
      " [ 0.321785   -0.354974   -0.204066  ]\n",
      " [ 0.578124   -0.291249    0.0743264 ]\n",
      " [-0.439317    0.498763   -0.0883197 ]\n",
      " [ 0.457453    0.631285    0.897735  ]\n",
      " [-0.313977   -0.461035   -0.122847  ]\n",
      " [ 0.0584802   0.0655259   0.350044  ]\n",
      " [-0.488339    0.793615    0.788384  ]\n",
      " [-0.891283   -0.299902    0.262266  ]\n",
      " [ 0.444756   -0.582094   -0.177735  ]\n",
      " [-0.393809    0.482837   -0.0250524 ]\n",
      " [ 0.48846     0.153003   -0.713542  ]\n",
      " [-0.426998    0.0845492   0.110851  ]\n",
      " [ 0.452529    0.146447   -0.299776  ]\n",
      " [-0.268362    0.699241   -0.116035  ]\n",
      " [-0.833924    0.571088    0.415893  ]\n",
      " [ 0.175709   -0.31753     0.0430264 ]\n",
      " [-0.00956519  0.105024   -0.356656  ]\n",
      " [-0.00808089 -0.231935   -0.470429  ]\n",
      " [-0.163374    0.995691    0.0781506 ]\n",
      " [ 0.85849     0.922102   -0.0255708 ]\n",
      " [ 0.401532    0.0687932   0.547674  ]\n",
      " [ 0.817272    1.04912     0.412212  ]\n",
      " [-0.831457    0.678586    0.192653  ]\n",
      " [-0.280354    0.138401   -1.25921   ]\n",
      " [-1.05253    -0.323431    0.275628  ]\n",
      " [-0.168711    0.0368971   0.158546  ]\n",
      " [-0.157016   -2.18261     0.379569  ]\n",
      " [-0.762284   -1.28173    -1.04462   ]\n",
      " [-0.0116056  -1.27333     1.25764   ]\n",
      " [-0.0645778  -1.01604    -0.00491069]\n",
      " [ 0.817314   -0.413429   -0.119886  ]\n",
      " [ 0.562312   -0.374785    0.176155  ]\n",
      " [ 0.634022   -0.499699    0.588666  ]\n",
      " [ 0.066022    0.0822112  -0.0174138 ]\n",
      " [ 0.369491   -0.0670236  -0.22566   ]\n",
      " [ 0.130974   -0.61371    -0.605755  ]\n",
      " [ 0.494431   -0.364375    0.225417  ]\n",
      " [-0.959194   -0.047246   -0.11706   ]\n",
      " [ 0.248347    0.438504   -0.413103  ]\n",
      " [ 0.352054   -0.32948    -0.284589  ]\n",
      " [ 0.172237   -0.272559    0.520704  ]\n",
      " [ 0.436264   -0.699474    0.252306  ]\n",
      " [ 0.59729    -0.740901    0.798706  ]]\n",
      "stresses:  [-26.02968386 -29.9330436  -23.65697299   0.16349825   0.05228292\n",
      "  -0.17038914]\n"
     ]
    }
   ],
   "source": [
    "from maml.apps.pes import EnergyForceStress\n",
    "\n",
    "efs_calculator = EnergyForceStress(ff_settings=gap_loaded)\n",
    "energy, forces, stresses = efs_calculator.calculate([train_structures[0]])[0]\n",
    "\n",
    "print(f\"energy: {energy}\")\n",
    "print(\"forces: \\n\", forces)\n",
    "print(\"stresses: \", stresses)"
   ]
  }
 ],
 "metadata": {
  "kernelspec": {
   "display_name": "Python 3",
   "language": "python",
   "name": "python3"
  },
  "language_info": {
   "codemirror_mode": {
    "name": "ipython",
    "version": 3
   },
   "file_extension": ".py",
   "mimetype": "text/x-python",
   "name": "python",
   "nbconvert_exporter": "python",
   "pygments_lexer": "ipython3",
   "version": "3.8.5"
  }
 },
 "nbformat": 4,
 "nbformat_minor": 2
}
