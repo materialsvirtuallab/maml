{
 "cells": [
  {
   "cell_type": "code",
   "execution_count": 1,
   "id": "7a1ff1df",
   "metadata": {},
   "outputs": [],
   "source": [
    "from __future__ import annotations\n",
    "\n",
    "import json\n",
    "from glob import glob\n",
    "\n",
    "from pymatgen.io.vasp.outputs import Vasprun\n",
    "\n",
    "\n",
    "def get_document(vrun) -> dict:\n",
    "    \"\"\"\n",
    "    Parse the vasprun into a dictionary\n",
    "\n",
    "    Args:\n",
    "        vrun (Vasprun object): the vasprun object from pymatgen\n",
    "\n",
    "    Returns:\n",
    "        dict of mliap data\n",
    "    \"\"\"\n",
    "    structure = vrun.ionic_steps[-1][\"structure\"].as_dict()\n",
    "    energy = vrun.ionic_steps[-1][\"e_wo_entrp\"]\n",
    "    forces = vrun.ionic_steps[-1][\"forces\"]\n",
    "    stress = vrun.ionic_steps[-1][\"stress\"]\n",
    "    return {\"structure\": structure, \"outputs\": {\"energy\": energy, \"forces\": forces, \"stress\": stress}}"
   ]
  },
  {
   "cell_type": "code",
   "execution_count": 2,
   "id": "8fb4fb89",
   "metadata": {},
   "outputs": [
    {
     "name": "stderr",
     "output_type": "stream",
     "text": [
      "/Users/chichen/repos/pymatgen-cc/pymatgen/pymatgen/io/vasp/outputs.py:1049: UserWarning: No POTCAR file with matching TITEL fields was found in /Users/chichen/repos/maml/notebooks/pes/data\n",
      "  warnings.warn(\"No POTCAR file with matching TITEL fields\" \" was found in {}\".format(os.path.abspath(p)))\n"
     ]
    }
   ],
   "source": [
    "## let's pretend there are lots of vaspruns in this directory\n",
    "\n",
    "vasprun_files = glob(\"vasprun*\")\n",
    "\n",
    "\n",
    "mliap_data = []\n",
    "\n",
    "for vrun_file in vasprun_files:\n",
    "    vrun = Vasprun(vrun_file)\n",
    "    mliap_doc = get_document(vrun)\n",
    "    # you can add some tags, groups etc to the mliap doc\n",
    "    mliap_data.append(mliap_doc)"
   ]
  },
  {
   "cell_type": "code",
   "execution_count": 3,
   "id": "5ed729e8",
   "metadata": {},
   "outputs": [],
   "source": [
    "with open(\"Si.json\", \"w\") as f:\n",
    "    json.dump(mliap_data, f)"
   ]
  },
  {
   "cell_type": "code",
   "execution_count": 4,
   "id": "b9c2d332",
   "metadata": {},
   "outputs": [
    {
     "name": "stdout",
     "output_type": "stream",
     "text": [
      "[{\"structure\": {\"@module\": \"pymatgen.core.structure\", \"@class\": \"Structure\", \"charge\": null, \"lattice\": {\"matrix\": [[5.33201, 0.0, 0.0], [0.0, 5.33201, 0.0], [0.0, 0.0, 5.742164]], \"a\": 5.33201, \"b\": 5.33201, \"c\": 5.742164, \"alpha\": 90.0, \"beta\": 90.0, \"gamma\": 90.0, \"volume\": 163.25162110967918}, \"sites\": [{\"species\": [{\"element\": \"Si\", \"occu\": 1}], \"abc\": [0.25, 0.75, 0.25], \"xyz\": [1.3330025, 3.9990075000000003, 1.435541], \"label\": \"Si\", \"properties\": {}}, {\"species\": [{\"element\": \"Si\", \"occu\": 1}], \"abc\": [0.0, 0.0, 0.5], \"xyz\": [0.0, 0.0, 2.871082], \"label\": \"Si\", \"properties\": {}}, {\"species\": [{\"element\": \"Si\", \"occu\": 1}], \"abc\": [0.25, 0.25, 0.75], \"xyz\": [1.3330025, 1.3330025, 4.306623], \"label\": \"Si\", \"properties\": {}}, {\"species\": [{\"element\": \"Si\", \"occu\": 1}], \"abc\": [0.0, 0.5, 0.0], \"xyz\": [0.0, 2.666005, 0.0], \"label\": \"Si\", \"properties\": {}}, {\"species\": [{\"element\": \"Si\", \"occu\": 1}], \"abc\": [0.75, 0.75, 0.75], \"xyz\": [3.9990075000000003, 3.9990075000000003, 4.306623], \"label\": \"Si\", \"properties\": {}}, {\"species\": [{\"element\": \"Si\", \"occu\": 1}], \"abc\": [0.5, 0.0, 0.0], \"xyz\": [2.666005, 0.0, 0.0], \"label\": \"Si\", \"properties\": {}}, {\"species\": [{\"element\": \"Si\", \"occu\": 1}], \"abc\": [0.75, 0.25, 0.25], \"xyz\": [3.9990075000000003, 1.3330025, 1.435541], \"label\": \"Si\", \"properties\": {}}, {\"species\": [{\"element\": \"Si\", \"occu\": 1}], \"abc\": [0.5, 0.5, 0.5], \"xyz\": [2.666005, 2.666005, 2.871082], \"label\": \"Si\", \"properties\": {}}]}, \"outputs\": {\"energy\": -43.19668053, \"forces\": [[-0.0, 0.0, 0.0], [-0.0, 0.0, 0.0], [0.0, -0.0, -0.0], [0.0, -0.0, 0.0], [0.0, 0.0, -0.0], [-0.0, 0.0, 0.0], [-0.0, -0.0, 0.0], [0.0, -0.0, -0.0]], \"stress\": [[27.098935, 0.0, 0.0], [0.0, 27.098935, 0.0], [0.0, 0.0, -53.18308907]]}}]"
     ]
    }
   ],
   "source": [
    "!head Si.json"
   ]
  },
  {
   "cell_type": "code",
   "execution_count": null,
   "id": "87234a15",
   "metadata": {},
   "outputs": [],
   "source": []
  }
 ],
 "metadata": {
  "kernelspec": {
   "display_name": "Python 3 (ipykernel)",
   "language": "python",
   "name": "python3"
  },
  "language_info": {
   "codemirror_mode": {
    "name": "ipython",
    "version": 3
   },
   "file_extension": ".py",
   "mimetype": "text/x-python",
   "name": "python",
   "nbconvert_exporter": "python",
   "pygments_lexer": "ipython3",
   "version": "3.9.5"
  }
 },
 "nbformat": 4,
 "nbformat_minor": 5
}
