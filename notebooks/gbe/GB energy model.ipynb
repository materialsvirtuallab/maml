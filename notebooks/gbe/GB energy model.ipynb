{
 "cells": [
  {
   "cell_type": "code",
   "execution_count": 1,
   "id": "422304b1",
   "metadata": {},
   "outputs": [],
   "source": [
    "from __future__ import annotations\n",
    "\n",
    "import os\n",
    "\n",
    "import joblib\n",
    "\n",
    "import maml.apps.gbe as gbe\n",
    "from maml.apps.gbe.describer import GBDescriber\n",
    "from maml.apps.gbe.utils import load_data"
   ]
  },
  {
   "cell_type": "code",
   "execution_count": 2,
   "id": "f7ee878c",
   "metadata": {},
   "outputs": [
    {
     "name": "stderr",
     "output_type": "stream",
     "text": [
      "/Users/weikeye/miniconda3/envs/maml/lib/python3.9/site-packages/pymatgen-2022.1.9-py3.9-macosx-10.9-x86_64.egg/pymatgen/core/structure.py:758: UserWarning: Not all sites have property grain_label. Missing values are set to None.\n",
      "  warnings.warn(\"Not all sites have property %s. Missing values are set to None.\" % k)\n"
     ]
    },
    {
     "name": "stdout",
     "output_type": "stream",
     "text": [
      "361\n"
     ]
    }
   ],
   "source": [
    "# Load all 361 data\n",
    "data = load_data()\n",
    "print(len(data))"
   ]
  },
  {
   "cell_type": "code",
   "execution_count": 3,
   "id": "15a98d6c",
   "metadata": {},
   "outputs": [
    {
     "data": {
      "text/html": [
       "<div>\n",
       "<style scoped>\n",
       "    .dataframe tbody tr th:only-of-type {\n",
       "        vertical-align: middle;\n",
       "    }\n",
       "\n",
       "    .dataframe tbody tr th {\n",
       "        vertical-align: top;\n",
       "    }\n",
       "\n",
       "    .dataframe thead th {\n",
       "        text-align: right;\n",
       "    }\n",
       "</style>\n",
       "<table border=\"1\" class=\"dataframe\">\n",
       "  <thead>\n",
       "    <tr style=\"text-align: right;\">\n",
       "      <th></th>\n",
       "      <th>d_gb</th>\n",
       "      <th>d_rot</th>\n",
       "      <th>sin(theta)</th>\n",
       "      <th>cos(theta)</th>\n",
       "      <th>e_coh</th>\n",
       "      <th>G</th>\n",
       "      <th>a_0</th>\n",
       "      <th>a_r</th>\n",
       "      <th>mean_delta_bl</th>\n",
       "      <th>mean_bl</th>\n",
       "      <th>task_id</th>\n",
       "      <th>e_gb</th>\n",
       "    </tr>\n",
       "  </thead>\n",
       "  <tbody>\n",
       "    <tr>\n",
       "      <th>0</th>\n",
       "      <td>1.007949</td>\n",
       "      <td>1.301256</td>\n",
       "      <td>0.942809</td>\n",
       "      <td>-0.333333</td>\n",
       "      <td>8.301059</td>\n",
       "      <td>147.0</td>\n",
       "      <td>2.760381</td>\n",
       "      <td>1.35</td>\n",
       "      <td>-0.004265</td>\n",
       "      <td>2.756116</td>\n",
       "      <td>5094</td>\n",
       "      <td>0.665409</td>\n",
       "    </tr>\n",
       "  </tbody>\n",
       "</table>\n",
       "</div>"
      ],
      "text/plain": [
       "       d_gb     d_rot  sin(theta)  cos(theta)     e_coh      G       a_0  \\\n",
       "0  1.007949  1.301256    0.942809   -0.333333  8.301059  147.0  2.760381   \n",
       "\n",
       "    a_r  mean_delta_bl   mean_bl  task_id      e_gb  \n",
       "0  1.35      -0.004265  2.756116     5094  0.665409  "
      ]
     },
     "execution_count": 3,
     "metadata": {},
     "output_type": "execute_result"
    }
   ],
   "source": [
    "\"\"\"\n",
    "Generate features for db entries\n",
    "The dataframe containing all features and labels for all 361 data \n",
    "is located at maml/apps/gbe/data/features.pickle\n",
    "\"\"\"\n",
    "\n",
    "describer = GBDescriber()\n",
    "df = describer.transform_one(data[0], inc_target=True, inc_bulk_ref=False)\n",
    "df"
   ]
  },
  {
   "cell_type": "code",
   "execution_count": 4,
   "id": "e6abac59",
   "metadata": {},
   "outputs": [
    {
     "name": "stdout",
     "output_type": "stream",
     "text": [
      "Predicted normalized GB energy: 0.07997100618731431\n",
      "Predicted GB energy:  0.6638440430493915\n"
     ]
    }
   ],
   "source": [
    "\"\"\"\n",
    "Make prediction\n",
    "The model is a sklearn(0.24.2) pipeline object\n",
    "\"\"\"\n",
    "\n",
    "import sklearn\n",
    "\n",
    "if sklearn.__version__ == \"0.24.2\":\n",
    "    features = [\"d_gb\", \"cos(theta)\", \"mean_delta_bl\", \"mean_bl\"]\n",
    "    module_dir = os.path.dirname(gbe.__file__)\n",
    "    model = joblib.load(os.path.join(module_dir, \"data/pf-gbr_f4.pickle\"))\n",
    "    print(\"Predicted normalized GB energy:\", model.predict(df[features])[0])\n",
    "    print(\"Predicted GB energy: \", (model.predict(df[features]) * df[\"e_coh\"]).iloc[0])\n",
    "else:\n",
    "    print(\"Please install sklearn version 0.24.2\")"
   ]
  },
  {
   "cell_type": "code",
   "execution_count": null,
   "id": "d8ba8a30",
   "metadata": {},
   "outputs": [],
   "source": []
  }
 ],
 "metadata": {
  "kernelspec": {
   "display_name": "Python 3 (ipykernel)",
   "language": "python",
   "name": "python3"
  },
  "language_info": {
   "codemirror_mode": {
    "name": "ipython",
    "version": 3
   },
   "file_extension": ".py",
   "mimetype": "text/x-python",
   "name": "python",
   "nbconvert_exporter": "python",
   "pygments_lexer": "ipython3",
   "version": "3.9.7"
  }
 },
 "nbformat": 4,
 "nbformat_minor": 5
}
